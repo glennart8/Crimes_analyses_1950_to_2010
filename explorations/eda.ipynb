{
 "cells": [
  {
   "cell_type": "code",
   "execution_count": 37,
   "id": "8b2bbfd0",
   "metadata": {},
   "outputs": [
    {
     "data": {
      "text/html": [
       "<div>\n",
       "<style scoped>\n",
       "    .dataframe tbody tr th:only-of-type {\n",
       "        vertical-align: middle;\n",
       "    }\n",
       "\n",
       "    .dataframe tbody tr th {\n",
       "        vertical-align: top;\n",
       "    }\n",
       "\n",
       "    .dataframe thead th {\n",
       "        text-align: right;\n",
       "    }\n",
       "</style>\n",
       "<table border=\"1\" class=\"dataframe\">\n",
       "  <thead>\n",
       "    <tr style=\"text-align: right;\">\n",
       "      <th></th>\n",
       "      <th>Year</th>\n",
       "      <th>crimes.total</th>\n",
       "      <th>crimes.penal.code</th>\n",
       "      <th>crimes.person</th>\n",
       "      <th>murder</th>\n",
       "      <th>assault</th>\n",
       "      <th>sexual.offenses</th>\n",
       "      <th>rape</th>\n",
       "      <th>stealing.general</th>\n",
       "      <th>burglary</th>\n",
       "      <th>...</th>\n",
       "      <th>vehicle.theft</th>\n",
       "      <th>out.of.vehicle.theft</th>\n",
       "      <th>shop.theft</th>\n",
       "      <th>robbery</th>\n",
       "      <th>fraud</th>\n",
       "      <th>criminal.damage</th>\n",
       "      <th>other.penal.crimes</th>\n",
       "      <th>narcotics</th>\n",
       "      <th>drunk.driving</th>\n",
       "      <th>population</th>\n",
       "    </tr>\n",
       "  </thead>\n",
       "  <tbody>\n",
       "    <tr>\n",
       "      <th>0</th>\n",
       "      <td>1950</td>\n",
       "      <td>2784</td>\n",
       "      <td>2306</td>\n",
       "      <td>120</td>\n",
       "      <td>1</td>\n",
       "      <td>105</td>\n",
       "      <td>40</td>\n",
       "      <td>5</td>\n",
       "      <td>1578</td>\n",
       "      <td>295</td>\n",
       "      <td>...</td>\n",
       "      <td>NaN</td>\n",
       "      <td>NaN</td>\n",
       "      <td>NaN</td>\n",
       "      <td>3</td>\n",
       "      <td>209</td>\n",
       "      <td>72</td>\n",
       "      <td>477</td>\n",
       "      <td>0.0</td>\n",
       "      <td>49</td>\n",
       "      <td>7014000</td>\n",
       "    </tr>\n",
       "    <tr>\n",
       "      <th>1</th>\n",
       "      <td>1951</td>\n",
       "      <td>3284</td>\n",
       "      <td>2754</td>\n",
       "      <td>125</td>\n",
       "      <td>1</td>\n",
       "      <td>109</td>\n",
       "      <td>45</td>\n",
       "      <td>6</td>\n",
       "      <td>1899</td>\n",
       "      <td>342</td>\n",
       "      <td>...</td>\n",
       "      <td>NaN</td>\n",
       "      <td>NaN</td>\n",
       "      <td>NaN</td>\n",
       "      <td>3</td>\n",
       "      <td>310</td>\n",
       "      <td>73</td>\n",
       "      <td>530</td>\n",
       "      <td>0.0</td>\n",
       "      <td>66</td>\n",
       "      <td>7073000</td>\n",
       "    </tr>\n",
       "    <tr>\n",
       "      <th>2</th>\n",
       "      <td>1952</td>\n",
       "      <td>3160</td>\n",
       "      <td>2608</td>\n",
       "      <td>119</td>\n",
       "      <td>1</td>\n",
       "      <td>104</td>\n",
       "      <td>39</td>\n",
       "      <td>4</td>\n",
       "      <td>1846</td>\n",
       "      <td>372</td>\n",
       "      <td>...</td>\n",
       "      <td>NaN</td>\n",
       "      <td>NaN</td>\n",
       "      <td>NaN</td>\n",
       "      <td>3</td>\n",
       "      <td>217</td>\n",
       "      <td>82</td>\n",
       "      <td>553</td>\n",
       "      <td>0.0</td>\n",
       "      <td>78</td>\n",
       "      <td>7125000</td>\n",
       "    </tr>\n",
       "    <tr>\n",
       "      <th>3</th>\n",
       "      <td>1953</td>\n",
       "      <td>2909</td>\n",
       "      <td>2689</td>\n",
       "      <td>119</td>\n",
       "      <td>1</td>\n",
       "      <td>105</td>\n",
       "      <td>45</td>\n",
       "      <td>5</td>\n",
       "      <td>1929</td>\n",
       "      <td>361</td>\n",
       "      <td>...</td>\n",
       "      <td>NaN</td>\n",
       "      <td>NaN</td>\n",
       "      <td>NaN</td>\n",
       "      <td>4</td>\n",
       "      <td>209</td>\n",
       "      <td>88</td>\n",
       "      <td>220</td>\n",
       "      <td>0.0</td>\n",
       "      <td>91</td>\n",
       "      <td>7171000</td>\n",
       "    </tr>\n",
       "    <tr>\n",
       "      <th>4</th>\n",
       "      <td>1954</td>\n",
       "      <td>3028</td>\n",
       "      <td>2791</td>\n",
       "      <td>126</td>\n",
       "      <td>1</td>\n",
       "      <td>107</td>\n",
       "      <td>41</td>\n",
       "      <td>5</td>\n",
       "      <td>1981</td>\n",
       "      <td>393</td>\n",
       "      <td>...</td>\n",
       "      <td>NaN</td>\n",
       "      <td>NaN</td>\n",
       "      <td>NaN</td>\n",
       "      <td>4</td>\n",
       "      <td>236</td>\n",
       "      <td>101</td>\n",
       "      <td>237</td>\n",
       "      <td>0.0</td>\n",
       "      <td>103</td>\n",
       "      <td>7213000</td>\n",
       "    </tr>\n",
       "    <tr>\n",
       "      <th>...</th>\n",
       "      <td>...</td>\n",
       "      <td>...</td>\n",
       "      <td>...</td>\n",
       "      <td>...</td>\n",
       "      <td>...</td>\n",
       "      <td>...</td>\n",
       "      <td>...</td>\n",
       "      <td>...</td>\n",
       "      <td>...</td>\n",
       "      <td>...</td>\n",
       "      <td>...</td>\n",
       "      <td>...</td>\n",
       "      <td>...</td>\n",
       "      <td>...</td>\n",
       "      <td>...</td>\n",
       "      <td>...</td>\n",
       "      <td>...</td>\n",
       "      <td>...</td>\n",
       "      <td>...</td>\n",
       "      <td>...</td>\n",
       "      <td>...</td>\n",
       "    </tr>\n",
       "    <tr>\n",
       "      <th>56</th>\n",
       "      <td>2006</td>\n",
       "      <td>13490</td>\n",
       "      <td>11451</td>\n",
       "      <td>889</td>\n",
       "      <td>3</td>\n",
       "      <td>848</td>\n",
       "      <td>134</td>\n",
       "      <td>46</td>\n",
       "      <td>6417</td>\n",
       "      <td>1094</td>\n",
       "      <td>...</td>\n",
       "      <td>402.0</td>\n",
       "      <td>1180.0</td>\n",
       "      <td>619.0</td>\n",
       "      <td>95</td>\n",
       "      <td>633</td>\n",
       "      <td>1627</td>\n",
       "      <td>2039</td>\n",
       "      <td>736.0</td>\n",
       "      <td>301</td>\n",
       "      <td>9081000</td>\n",
       "    </tr>\n",
       "    <tr>\n",
       "      <th>57</th>\n",
       "      <td>2007</td>\n",
       "      <td>14280</td>\n",
       "      <td>12086</td>\n",
       "      <td>948</td>\n",
       "      <td>3</td>\n",
       "      <td>899</td>\n",
       "      <td>137</td>\n",
       "      <td>52</td>\n",
       "      <td>6302</td>\n",
       "      <td>1057</td>\n",
       "      <td>...</td>\n",
       "      <td>350.0</td>\n",
       "      <td>1040.0</td>\n",
       "      <td>640.0</td>\n",
       "      <td>95</td>\n",
       "      <td>849</td>\n",
       "      <td>1958</td>\n",
       "      <td>2194</td>\n",
       "      <td>782.0</td>\n",
       "      <td>321</td>\n",
       "      <td>9148000</td>\n",
       "    </tr>\n",
       "    <tr>\n",
       "      <th>58</th>\n",
       "      <td>2008</td>\n",
       "      <td>14938</td>\n",
       "      <td>12433</td>\n",
       "      <td>968</td>\n",
       "      <td>2</td>\n",
       "      <td>918</td>\n",
       "      <td>154</td>\n",
       "      <td>59</td>\n",
       "      <td>6091</td>\n",
       "      <td>1023</td>\n",
       "      <td>...</td>\n",
       "      <td>304.0</td>\n",
       "      <td>870.0</td>\n",
       "      <td>693.0</td>\n",
       "      <td>97</td>\n",
       "      <td>1066</td>\n",
       "      <td>2115</td>\n",
       "      <td>2518</td>\n",
       "      <td>848.0</td>\n",
       "      <td>337</td>\n",
       "      <td>9220000</td>\n",
       "    </tr>\n",
       "    <tr>\n",
       "      <th>59</th>\n",
       "      <td>2009</td>\n",
       "      <td>15101</td>\n",
       "      <td>12588</td>\n",
       "      <td>980</td>\n",
       "      <td>2</td>\n",
       "      <td>927</td>\n",
       "      <td>169</td>\n",
       "      <td>64</td>\n",
       "      <td>5947</td>\n",
       "      <td>1026</td>\n",
       "      <td>...</td>\n",
       "      <td>255.0</td>\n",
       "      <td>790.0</td>\n",
       "      <td>742.0</td>\n",
       "      <td>103</td>\n",
       "      <td>1166</td>\n",
       "      <td>2175</td>\n",
       "      <td>2513</td>\n",
       "      <td>862.0</td>\n",
       "      <td>322</td>\n",
       "      <td>9299000</td>\n",
       "    </tr>\n",
       "    <tr>\n",
       "      <th>60</th>\n",
       "      <td>2010</td>\n",
       "      <td>14605</td>\n",
       "      <td>12003</td>\n",
       "      <td>991</td>\n",
       "      <td>4</td>\n",
       "      <td>936</td>\n",
       "      <td>183</td>\n",
       "      <td>64</td>\n",
       "      <td>5631</td>\n",
       "      <td>985</td>\n",
       "      <td>...</td>\n",
       "      <td>227.0</td>\n",
       "      <td>733.0</td>\n",
       "      <td>684.0</td>\n",
       "      <td>98</td>\n",
       "      <td>1115</td>\n",
       "      <td>1760</td>\n",
       "      <td>2601</td>\n",
       "      <td>937.0</td>\n",
       "      <td>316</td>\n",
       "      <td>9378000</td>\n",
       "    </tr>\n",
       "  </tbody>\n",
       "</table>\n",
       "<p>61 rows × 21 columns</p>\n",
       "</div>"
      ],
      "text/plain": [
       "    Year  crimes.total  crimes.penal.code  crimes.person  murder  assault  \\\n",
       "0   1950          2784               2306            120       1      105   \n",
       "1   1951          3284               2754            125       1      109   \n",
       "2   1952          3160               2608            119       1      104   \n",
       "3   1953          2909               2689            119       1      105   \n",
       "4   1954          3028               2791            126       1      107   \n",
       "..   ...           ...                ...            ...     ...      ...   \n",
       "56  2006         13490              11451            889       3      848   \n",
       "57  2007         14280              12086            948       3      899   \n",
       "58  2008         14938              12433            968       2      918   \n",
       "59  2009         15101              12588            980       2      927   \n",
       "60  2010         14605              12003            991       4      936   \n",
       "\n",
       "    sexual.offenses  rape  stealing.general  burglary  ...  vehicle.theft  \\\n",
       "0                40     5              1578       295  ...            NaN   \n",
       "1                45     6              1899       342  ...            NaN   \n",
       "2                39     4              1846       372  ...            NaN   \n",
       "3                45     5              1929       361  ...            NaN   \n",
       "4                41     5              1981       393  ...            NaN   \n",
       "..              ...   ...               ...       ...  ...            ...   \n",
       "56              134    46              6417      1094  ...          402.0   \n",
       "57              137    52              6302      1057  ...          350.0   \n",
       "58              154    59              6091      1023  ...          304.0   \n",
       "59              169    64              5947      1026  ...          255.0   \n",
       "60              183    64              5631       985  ...          227.0   \n",
       "\n",
       "    out.of.vehicle.theft  shop.theft  robbery  fraud  criminal.damage  \\\n",
       "0                    NaN         NaN        3    209               72   \n",
       "1                    NaN         NaN        3    310               73   \n",
       "2                    NaN         NaN        3    217               82   \n",
       "3                    NaN         NaN        4    209               88   \n",
       "4                    NaN         NaN        4    236              101   \n",
       "..                   ...         ...      ...    ...              ...   \n",
       "56                1180.0       619.0       95    633             1627   \n",
       "57                1040.0       640.0       95    849             1958   \n",
       "58                 870.0       693.0       97   1066             2115   \n",
       "59                 790.0       742.0      103   1166             2175   \n",
       "60                 733.0       684.0       98   1115             1760   \n",
       "\n",
       "    other.penal.crimes  narcotics  drunk.driving  population  \n",
       "0                  477        0.0             49     7014000  \n",
       "1                  530        0.0             66     7073000  \n",
       "2                  553        0.0             78     7125000  \n",
       "3                  220        0.0             91     7171000  \n",
       "4                  237        0.0            103     7213000  \n",
       "..                 ...        ...            ...         ...  \n",
       "56                2039      736.0            301     9081000  \n",
       "57                2194      782.0            321     9148000  \n",
       "58                2518      848.0            337     9220000  \n",
       "59                2513      862.0            322     9299000  \n",
       "60                2601      937.0            316     9378000  \n",
       "\n",
       "[61 rows x 21 columns]"
      ]
     },
     "execution_count": 37,
     "metadata": {},
     "output_type": "execute_result"
    }
   ],
   "source": [
    "import pandas as pd\n",
    "\n",
    "df = pd.read_csv(\"../data/reported.csv\")\n",
    "df.head(-5)"
   ]
  },
  {
   "cell_type": "code",
   "execution_count": 38,
   "metadata": {},
   "outputs": [
    {
     "data": {
      "text/html": [
       "<div>\n",
       "<style scoped>\n",
       "    .dataframe tbody tr th:only-of-type {\n",
       "        vertical-align: middle;\n",
       "    }\n",
       "\n",
       "    .dataframe tbody tr th {\n",
       "        vertical-align: top;\n",
       "    }\n",
       "\n",
       "    .dataframe thead th {\n",
       "        text-align: right;\n",
       "    }\n",
       "</style>\n",
       "<table border=\"1\" class=\"dataframe\">\n",
       "  <thead>\n",
       "    <tr style=\"text-align: right;\">\n",
       "      <th></th>\n",
       "      <th>Year</th>\n",
       "      <th>crimes.total</th>\n",
       "      <th>crimes.penal.code</th>\n",
       "      <th>crimes.person</th>\n",
       "      <th>murder</th>\n",
       "      <th>assault</th>\n",
       "      <th>sexual.offenses</th>\n",
       "      <th>rape</th>\n",
       "      <th>stealing.general</th>\n",
       "      <th>burglary</th>\n",
       "      <th>...</th>\n",
       "      <th>vehicle.theft</th>\n",
       "      <th>out.of.vehicle.theft</th>\n",
       "      <th>shop.theft</th>\n",
       "      <th>robbery</th>\n",
       "      <th>fraud</th>\n",
       "      <th>criminal.damage</th>\n",
       "      <th>other.penal.crimes</th>\n",
       "      <th>narcotics</th>\n",
       "      <th>drunk.driving</th>\n",
       "      <th>population</th>\n",
       "    </tr>\n",
       "  </thead>\n",
       "  <tbody>\n",
       "    <tr>\n",
       "      <th>count</th>\n",
       "      <td>66.000000</td>\n",
       "      <td>66.000000</td>\n",
       "      <td>66.000000</td>\n",
       "      <td>66.000000</td>\n",
       "      <td>66.000000</td>\n",
       "      <td>66.000000</td>\n",
       "      <td>66.000000</td>\n",
       "      <td>66.000000</td>\n",
       "      <td>66.000000</td>\n",
       "      <td>66.000000</td>\n",
       "      <td>...</td>\n",
       "      <td>59.000000</td>\n",
       "      <td>51.000000</td>\n",
       "      <td>51.000000</td>\n",
       "      <td>66.000000</td>\n",
       "      <td>66.000000</td>\n",
       "      <td>66.000000</td>\n",
       "      <td>66.000000</td>\n",
       "      <td>62.000000</td>\n",
       "      <td>66.000000</td>\n",
       "      <td>6.600000e+01</td>\n",
       "    </tr>\n",
       "    <tr>\n",
       "      <th>mean</th>\n",
       "      <td>1982.500000</td>\n",
       "      <td>10084.257576</td>\n",
       "      <td>8695.181818</td>\n",
       "      <td>451.287879</td>\n",
       "      <td>1.757576</td>\n",
       "      <td>423.106061</td>\n",
       "      <td>75.318182</td>\n",
       "      <td>20.045455</td>\n",
       "      <td>5580.545455</td>\n",
       "      <td>1240.681818</td>\n",
       "      <td>...</td>\n",
       "      <td>466.288136</td>\n",
       "      <td>1192.568627</td>\n",
       "      <td>540.294118</td>\n",
       "      <td>48.060606</td>\n",
       "      <td>730.636364</td>\n",
       "      <td>879.484848</td>\n",
       "      <td>1383.303030</td>\n",
       "      <td>386.629032</td>\n",
       "      <td>225.757576</td>\n",
       "      <td>8.341848e+06</td>\n",
       "    </tr>\n",
       "    <tr>\n",
       "      <th>std</th>\n",
       "      <td>19.196354</td>\n",
       "      <td>4223.893287</td>\n",
       "      <td>3582.148938</td>\n",
       "      <td>295.041002</td>\n",
       "      <td>0.724529</td>\n",
       "      <td>281.839023</td>\n",
       "      <td>48.136396</td>\n",
       "      <td>19.147550</td>\n",
       "      <td>2089.329161</td>\n",
       "      <td>456.699806</td>\n",
       "      <td>...</td>\n",
       "      <td>193.701161</td>\n",
       "      <td>432.536438</td>\n",
       "      <td>185.298710</td>\n",
       "      <td>35.412679</td>\n",
       "      <td>395.296097</td>\n",
       "      <td>605.272253</td>\n",
       "      <td>717.521867</td>\n",
       "      <td>307.130945</td>\n",
       "      <td>66.349902</td>\n",
       "      <td>7.179351e+05</td>\n",
       "    </tr>\n",
       "    <tr>\n",
       "      <th>min</th>\n",
       "      <td>1950.000000</td>\n",
       "      <td>2784.000000</td>\n",
       "      <td>2306.000000</td>\n",
       "      <td>119.000000</td>\n",
       "      <td>1.000000</td>\n",
       "      <td>104.000000</td>\n",
       "      <td>29.000000</td>\n",
       "      <td>4.000000</td>\n",
       "      <td>1578.000000</td>\n",
       "      <td>295.000000</td>\n",
       "      <td>...</td>\n",
       "      <td>135.000000</td>\n",
       "      <td>542.000000</td>\n",
       "      <td>123.000000</td>\n",
       "      <td>3.000000</td>\n",
       "      <td>209.000000</td>\n",
       "      <td>72.000000</td>\n",
       "      <td>220.000000</td>\n",
       "      <td>0.000000</td>\n",
       "      <td>49.000000</td>\n",
       "      <td>7.014000e+06</td>\n",
       "    </tr>\n",
       "    <tr>\n",
       "      <th>25%</th>\n",
       "      <td>1966.250000</td>\n",
       "      <td>6152.500000</td>\n",
       "      <td>5336.000000</td>\n",
       "      <td>185.250000</td>\n",
       "      <td>1.000000</td>\n",
       "      <td>167.750000</td>\n",
       "      <td>41.000000</td>\n",
       "      <td>8.000000</td>\n",
       "      <td>3786.750000</td>\n",
       "      <td>918.250000</td>\n",
       "      <td>...</td>\n",
       "      <td>339.500000</td>\n",
       "      <td>753.500000</td>\n",
       "      <td>379.000000</td>\n",
       "      <td>13.250000</td>\n",
       "      <td>476.500000</td>\n",
       "      <td>301.250000</td>\n",
       "      <td>816.750000</td>\n",
       "      <td>201.250000</td>\n",
       "      <td>178.000000</td>\n",
       "      <td>7.823000e+06</td>\n",
       "    </tr>\n",
       "    <tr>\n",
       "      <th>50%</th>\n",
       "      <td>1982.500000</td>\n",
       "      <td>11654.000000</td>\n",
       "      <td>9637.000000</td>\n",
       "      <td>370.500000</td>\n",
       "      <td>2.000000</td>\n",
       "      <td>345.000000</td>\n",
       "      <td>50.000000</td>\n",
       "      <td>11.000000</td>\n",
       "      <td>5928.000000</td>\n",
       "      <td>1331.000000</td>\n",
       "      <td>...</td>\n",
       "      <td>419.000000</td>\n",
       "      <td>1210.000000</td>\n",
       "      <td>606.000000</td>\n",
       "      <td>42.000000</td>\n",
       "      <td>640.000000</td>\n",
       "      <td>818.000000</td>\n",
       "      <td>1465.000000</td>\n",
       "      <td>350.000000</td>\n",
       "      <td>238.000000</td>\n",
       "      <td>8.327000e+06</td>\n",
       "    </tr>\n",
       "    <tr>\n",
       "      <th>75%</th>\n",
       "      <td>1998.750000</td>\n",
       "      <td>13663.750000</td>\n",
       "      <td>12002.500000</td>\n",
       "      <td>690.500000</td>\n",
       "      <td>2.000000</td>\n",
       "      <td>658.000000</td>\n",
       "      <td>97.000000</td>\n",
       "      <td>23.000000</td>\n",
       "      <td>7444.500000</td>\n",
       "      <td>1653.250000</td>\n",
       "      <td>...</td>\n",
       "      <td>660.500000</td>\n",
       "      <td>1580.000000</td>\n",
       "      <td>695.000000</td>\n",
       "      <td>83.500000</td>\n",
       "      <td>1080.250000</td>\n",
       "      <td>1351.500000</td>\n",
       "      <td>1776.500000</td>\n",
       "      <td>539.250000</td>\n",
       "      <td>272.500000</td>\n",
       "      <td>8.856250e+06</td>\n",
       "    </tr>\n",
       "    <tr>\n",
       "      <th>max</th>\n",
       "      <td>2015.000000</td>\n",
       "      <td>15342.000000</td>\n",
       "      <td>12803.000000</td>\n",
       "      <td>1005.000000</td>\n",
       "      <td>4.000000</td>\n",
       "      <td>947.000000</td>\n",
       "      <td>210.000000</td>\n",
       "      <td>69.000000</td>\n",
       "      <td>8650.000000</td>\n",
       "      <td>1878.000000</td>\n",
       "      <td>...</td>\n",
       "      <td>882.000000</td>\n",
       "      <td>1869.000000</td>\n",
       "      <td>807.000000</td>\n",
       "      <td>104.000000</td>\n",
       "      <td>1896.000000</td>\n",
       "      <td>2175.000000</td>\n",
       "      <td>2721.000000</td>\n",
       "      <td>1002.000000</td>\n",
       "      <td>337.000000</td>\n",
       "      <td>9.851000e+06</td>\n",
       "    </tr>\n",
       "  </tbody>\n",
       "</table>\n",
       "<p>8 rows × 21 columns</p>\n",
       "</div>"
      ],
      "text/plain": [
       "              Year  crimes.total  crimes.penal.code  crimes.person     murder  \\\n",
       "count    66.000000     66.000000          66.000000      66.000000  66.000000   \n",
       "mean   1982.500000  10084.257576        8695.181818     451.287879   1.757576   \n",
       "std      19.196354   4223.893287        3582.148938     295.041002   0.724529   \n",
       "min    1950.000000   2784.000000        2306.000000     119.000000   1.000000   \n",
       "25%    1966.250000   6152.500000        5336.000000     185.250000   1.000000   \n",
       "50%    1982.500000  11654.000000        9637.000000     370.500000   2.000000   \n",
       "75%    1998.750000  13663.750000       12002.500000     690.500000   2.000000   \n",
       "max    2015.000000  15342.000000       12803.000000    1005.000000   4.000000   \n",
       "\n",
       "          assault  sexual.offenses       rape  stealing.general     burglary  \\\n",
       "count   66.000000        66.000000  66.000000         66.000000    66.000000   \n",
       "mean   423.106061        75.318182  20.045455       5580.545455  1240.681818   \n",
       "std    281.839023        48.136396  19.147550       2089.329161   456.699806   \n",
       "min    104.000000        29.000000   4.000000       1578.000000   295.000000   \n",
       "25%    167.750000        41.000000   8.000000       3786.750000   918.250000   \n",
       "50%    345.000000        50.000000  11.000000       5928.000000  1331.000000   \n",
       "75%    658.000000        97.000000  23.000000       7444.500000  1653.250000   \n",
       "max    947.000000       210.000000  69.000000       8650.000000  1878.000000   \n",
       "\n",
       "       ...  vehicle.theft  out.of.vehicle.theft  shop.theft     robbery  \\\n",
       "count  ...      59.000000             51.000000   51.000000   66.000000   \n",
       "mean   ...     466.288136           1192.568627  540.294118   48.060606   \n",
       "std    ...     193.701161            432.536438  185.298710   35.412679   \n",
       "min    ...     135.000000            542.000000  123.000000    3.000000   \n",
       "25%    ...     339.500000            753.500000  379.000000   13.250000   \n",
       "50%    ...     419.000000           1210.000000  606.000000   42.000000   \n",
       "75%    ...     660.500000           1580.000000  695.000000   83.500000   \n",
       "max    ...     882.000000           1869.000000  807.000000  104.000000   \n",
       "\n",
       "             fraud  criminal.damage  other.penal.crimes    narcotics  \\\n",
       "count    66.000000        66.000000           66.000000    62.000000   \n",
       "mean    730.636364       879.484848         1383.303030   386.629032   \n",
       "std     395.296097       605.272253          717.521867   307.130945   \n",
       "min     209.000000        72.000000          220.000000     0.000000   \n",
       "25%     476.500000       301.250000          816.750000   201.250000   \n",
       "50%     640.000000       818.000000         1465.000000   350.000000   \n",
       "75%    1080.250000      1351.500000         1776.500000   539.250000   \n",
       "max    1896.000000      2175.000000         2721.000000  1002.000000   \n",
       "\n",
       "       drunk.driving    population  \n",
       "count      66.000000  6.600000e+01  \n",
       "mean      225.757576  8.341848e+06  \n",
       "std        66.349902  7.179351e+05  \n",
       "min        49.000000  7.014000e+06  \n",
       "25%       178.000000  7.823000e+06  \n",
       "50%       238.000000  8.327000e+06  \n",
       "75%       272.500000  8.856250e+06  \n",
       "max       337.000000  9.851000e+06  \n",
       "\n",
       "[8 rows x 21 columns]"
      ]
     },
     "execution_count": 38,
     "metadata": {},
     "output_type": "execute_result"
    }
   ],
   "source": [
    "df.describe()"
   ]
  },
  {
   "cell_type": "code",
   "execution_count": 39,
   "metadata": {},
   "outputs": [
    {
     "name": "stdout",
     "output_type": "stream",
     "text": [
      "<class 'pandas.core.frame.DataFrame'>\n",
      "RangeIndex: 66 entries, 0 to 65\n",
      "Data columns (total 21 columns):\n",
      " #   Column                Non-Null Count  Dtype  \n",
      "---  ------                --------------  -----  \n",
      " 0   Year                  66 non-null     int64  \n",
      " 1   crimes.total          66 non-null     int64  \n",
      " 2   crimes.penal.code     66 non-null     int64  \n",
      " 3   crimes.person         66 non-null     int64  \n",
      " 4   murder                66 non-null     int64  \n",
      " 5   assault               66 non-null     int64  \n",
      " 6   sexual.offenses       66 non-null     int64  \n",
      " 7   rape                  66 non-null     int64  \n",
      " 8   stealing.general      66 non-null     int64  \n",
      " 9   burglary              66 non-null     int64  \n",
      " 10  house.theft           51 non-null     float64\n",
      " 11  vehicle.theft         59 non-null     float64\n",
      " 12  out.of.vehicle.theft  51 non-null     float64\n",
      " 13  shop.theft            51 non-null     float64\n",
      " 14  robbery               66 non-null     int64  \n",
      " 15  fraud                 66 non-null     int64  \n",
      " 16  criminal.damage       66 non-null     int64  \n",
      " 17  other.penal.crimes    66 non-null     int64  \n",
      " 18  narcotics             62 non-null     float64\n",
      " 19  drunk.driving         66 non-null     int64  \n",
      " 20  population            66 non-null     int64  \n",
      "dtypes: float64(5), int64(16)\n",
      "memory usage: 11.0 KB\n"
     ]
    }
   ],
   "source": [
    "df.info()"
   ]
  },
  {
   "cell_type": "markdown",
   "metadata": {},
   "source": [
    "### Ersätt nullvärden med 0 i stället då brotten inte fanns i samma utsträckning"
   ]
  },
  {
   "cell_type": "code",
   "execution_count": 40,
   "metadata": {},
   "outputs": [],
   "source": [
    "df[\"house.theft\"] = df[\"house.theft\"].fillna(0)\n",
    "df[\"vehicle.theft\"] = df[\"vehicle.theft\"].fillna(0)\n",
    "df[\"out.of.vehicle.theft\"] = df[\"out.of.vehicle.theft\"].fillna(0)\n",
    "df[\"shop.theft\"] = df[\"shop.theft\"].fillna(0)\n",
    "df[\"narcotics\"] = df[\"narcotics\"].fillna(0)\n"
   ]
  },
  {
   "cell_type": "code",
   "execution_count": 41,
   "id": "cb954751",
   "metadata": {},
   "outputs": [
    {
     "data": {
      "text/plain": [
       "Year                    0\n",
       "crimes.total            0\n",
       "crimes.penal.code       0\n",
       "crimes.person           0\n",
       "murder                  0\n",
       "assault                 0\n",
       "sexual.offenses         0\n",
       "rape                    0\n",
       "stealing.general        0\n",
       "burglary                0\n",
       "house.theft             0\n",
       "vehicle.theft           0\n",
       "out.of.vehicle.theft    0\n",
       "shop.theft              0\n",
       "robbery                 0\n",
       "fraud                   0\n",
       "criminal.damage         0\n",
       "other.penal.crimes      0\n",
       "narcotics               0\n",
       "drunk.driving           0\n",
       "population              0\n",
       "dtype: int64"
      ]
     },
     "execution_count": 41,
     "metadata": {},
     "output_type": "execute_result"
    }
   ],
   "source": [
    "df.isnull().sum()"
   ]
  },
  {
   "cell_type": "markdown",
   "metadata": {},
   "source": [
    "## SPARA cleaned_data"
   ]
  },
  {
   "cell_type": "code",
   "execution_count": 42,
   "metadata": {},
   "outputs": [],
   "source": [
    "df.to_csv('cleaned_data.csv', index=False)"
   ]
  },
  {
   "cell_type": "markdown",
   "id": "d4094d5a",
   "metadata": {},
   "source": [
    "### se korrelation mellan crimes.total och population TROTS att det är per 100 000 invånare\n"
   ]
  },
  {
   "cell_type": "code",
   "execution_count": 43,
   "metadata": {},
   "outputs": [
    {
     "data": {
      "text/html": [
       "<div>\n",
       "<style scoped>\n",
       "    .dataframe tbody tr th:only-of-type {\n",
       "        vertical-align: middle;\n",
       "    }\n",
       "\n",
       "    .dataframe tbody tr th {\n",
       "        vertical-align: top;\n",
       "    }\n",
       "\n",
       "    .dataframe thead th {\n",
       "        text-align: right;\n",
       "    }\n",
       "</style>\n",
       "<table border=\"1\" class=\"dataframe\">\n",
       "  <thead>\n",
       "    <tr style=\"text-align: right;\">\n",
       "      <th></th>\n",
       "      <th>Year</th>\n",
       "      <th>crimes.total</th>\n",
       "      <th>crimes.penal.code</th>\n",
       "      <th>crimes.person</th>\n",
       "      <th>murder</th>\n",
       "      <th>assault</th>\n",
       "      <th>sexual.offenses</th>\n",
       "      <th>rape</th>\n",
       "      <th>stealing.general</th>\n",
       "      <th>burglary</th>\n",
       "      <th>...</th>\n",
       "      <th>vehicle.theft</th>\n",
       "      <th>out.of.vehicle.theft</th>\n",
       "      <th>shop.theft</th>\n",
       "      <th>robbery</th>\n",
       "      <th>fraud</th>\n",
       "      <th>criminal.damage</th>\n",
       "      <th>other.penal.crimes</th>\n",
       "      <th>narcotics</th>\n",
       "      <th>drunk.driving</th>\n",
       "      <th>population</th>\n",
       "    </tr>\n",
       "  </thead>\n",
       "  <tbody>\n",
       "    <tr>\n",
       "      <th>0</th>\n",
       "      <td>1950</td>\n",
       "      <td>2784</td>\n",
       "      <td>2306</td>\n",
       "      <td>120</td>\n",
       "      <td>1</td>\n",
       "      <td>105</td>\n",
       "      <td>40</td>\n",
       "      <td>5</td>\n",
       "      <td>1578</td>\n",
       "      <td>295</td>\n",
       "      <td>...</td>\n",
       "      <td>0.0</td>\n",
       "      <td>0.0</td>\n",
       "      <td>0.0</td>\n",
       "      <td>3</td>\n",
       "      <td>209</td>\n",
       "      <td>72</td>\n",
       "      <td>477</td>\n",
       "      <td>0.0</td>\n",
       "      <td>49</td>\n",
       "      <td>7014000</td>\n",
       "    </tr>\n",
       "    <tr>\n",
       "      <th>1</th>\n",
       "      <td>1951</td>\n",
       "      <td>3284</td>\n",
       "      <td>2754</td>\n",
       "      <td>125</td>\n",
       "      <td>1</td>\n",
       "      <td>109</td>\n",
       "      <td>45</td>\n",
       "      <td>6</td>\n",
       "      <td>1899</td>\n",
       "      <td>342</td>\n",
       "      <td>...</td>\n",
       "      <td>0.0</td>\n",
       "      <td>0.0</td>\n",
       "      <td>0.0</td>\n",
       "      <td>3</td>\n",
       "      <td>310</td>\n",
       "      <td>73</td>\n",
       "      <td>530</td>\n",
       "      <td>0.0</td>\n",
       "      <td>66</td>\n",
       "      <td>7073000</td>\n",
       "    </tr>\n",
       "    <tr>\n",
       "      <th>2</th>\n",
       "      <td>1952</td>\n",
       "      <td>3160</td>\n",
       "      <td>2608</td>\n",
       "      <td>119</td>\n",
       "      <td>1</td>\n",
       "      <td>104</td>\n",
       "      <td>39</td>\n",
       "      <td>4</td>\n",
       "      <td>1846</td>\n",
       "      <td>372</td>\n",
       "      <td>...</td>\n",
       "      <td>0.0</td>\n",
       "      <td>0.0</td>\n",
       "      <td>0.0</td>\n",
       "      <td>3</td>\n",
       "      <td>217</td>\n",
       "      <td>82</td>\n",
       "      <td>553</td>\n",
       "      <td>0.0</td>\n",
       "      <td>78</td>\n",
       "      <td>7125000</td>\n",
       "    </tr>\n",
       "    <tr>\n",
       "      <th>3</th>\n",
       "      <td>1953</td>\n",
       "      <td>2909</td>\n",
       "      <td>2689</td>\n",
       "      <td>119</td>\n",
       "      <td>1</td>\n",
       "      <td>105</td>\n",
       "      <td>45</td>\n",
       "      <td>5</td>\n",
       "      <td>1929</td>\n",
       "      <td>361</td>\n",
       "      <td>...</td>\n",
       "      <td>0.0</td>\n",
       "      <td>0.0</td>\n",
       "      <td>0.0</td>\n",
       "      <td>4</td>\n",
       "      <td>209</td>\n",
       "      <td>88</td>\n",
       "      <td>220</td>\n",
       "      <td>0.0</td>\n",
       "      <td>91</td>\n",
       "      <td>7171000</td>\n",
       "    </tr>\n",
       "    <tr>\n",
       "      <th>4</th>\n",
       "      <td>1954</td>\n",
       "      <td>3028</td>\n",
       "      <td>2791</td>\n",
       "      <td>126</td>\n",
       "      <td>1</td>\n",
       "      <td>107</td>\n",
       "      <td>41</td>\n",
       "      <td>5</td>\n",
       "      <td>1981</td>\n",
       "      <td>393</td>\n",
       "      <td>...</td>\n",
       "      <td>0.0</td>\n",
       "      <td>0.0</td>\n",
       "      <td>0.0</td>\n",
       "      <td>4</td>\n",
       "      <td>236</td>\n",
       "      <td>101</td>\n",
       "      <td>237</td>\n",
       "      <td>0.0</td>\n",
       "      <td>103</td>\n",
       "      <td>7213000</td>\n",
       "    </tr>\n",
       "    <tr>\n",
       "      <th>...</th>\n",
       "      <td>...</td>\n",
       "      <td>...</td>\n",
       "      <td>...</td>\n",
       "      <td>...</td>\n",
       "      <td>...</td>\n",
       "      <td>...</td>\n",
       "      <td>...</td>\n",
       "      <td>...</td>\n",
       "      <td>...</td>\n",
       "      <td>...</td>\n",
       "      <td>...</td>\n",
       "      <td>...</td>\n",
       "      <td>...</td>\n",
       "      <td>...</td>\n",
       "      <td>...</td>\n",
       "      <td>...</td>\n",
       "      <td>...</td>\n",
       "      <td>...</td>\n",
       "      <td>...</td>\n",
       "      <td>...</td>\n",
       "      <td>...</td>\n",
       "    </tr>\n",
       "    <tr>\n",
       "      <th>61</th>\n",
       "      <td>2011</td>\n",
       "      <td>14988</td>\n",
       "      <td>12267</td>\n",
       "      <td>1005</td>\n",
       "      <td>2</td>\n",
       "      <td>947</td>\n",
       "      <td>181</td>\n",
       "      <td>69</td>\n",
       "      <td>5783</td>\n",
       "      <td>995</td>\n",
       "      <td>...</td>\n",
       "      <td>213.0</td>\n",
       "      <td>706.0</td>\n",
       "      <td>663.0</td>\n",
       "      <td>103</td>\n",
       "      <td>1220</td>\n",
       "      <td>1774</td>\n",
       "      <td>2721</td>\n",
       "      <td>946.0</td>\n",
       "      <td>314</td>\n",
       "      <td>9449000</td>\n",
       "    </tr>\n",
       "    <tr>\n",
       "      <th>62</th>\n",
       "      <td>2012</td>\n",
       "      <td>14734</td>\n",
       "      <td>12148</td>\n",
       "      <td>974</td>\n",
       "      <td>2</td>\n",
       "      <td>914</td>\n",
       "      <td>178</td>\n",
       "      <td>66</td>\n",
       "      <td>5613</td>\n",
       "      <td>922</td>\n",
       "      <td>...</td>\n",
       "      <td>169.0</td>\n",
       "      <td>655.0</td>\n",
       "      <td>635.0</td>\n",
       "      <td>97</td>\n",
       "      <td>1356</td>\n",
       "      <td>1600</td>\n",
       "      <td>2586</td>\n",
       "      <td>994.0</td>\n",
       "      <td>286</td>\n",
       "      <td>9519000</td>\n",
       "    </tr>\n",
       "    <tr>\n",
       "      <th>63</th>\n",
       "      <td>2013</td>\n",
       "      <td>14603</td>\n",
       "      <td>12072</td>\n",
       "      <td>896</td>\n",
       "      <td>3</td>\n",
       "      <td>837</td>\n",
       "      <td>184</td>\n",
       "      <td>63</td>\n",
       "      <td>5552</td>\n",
       "      <td>888</td>\n",
       "      <td>...</td>\n",
       "      <td>159.0</td>\n",
       "      <td>543.0</td>\n",
       "      <td>509.0</td>\n",
       "      <td>87</td>\n",
       "      <td>1545</td>\n",
       "      <td>1470</td>\n",
       "      <td>2532</td>\n",
       "      <td>1002.0</td>\n",
       "      <td>279</td>\n",
       "      <td>9644000</td>\n",
       "    </tr>\n",
       "    <tr>\n",
       "      <th>64</th>\n",
       "      <td>2014</td>\n",
       "      <td>14890</td>\n",
       "      <td>12305</td>\n",
       "      <td>923</td>\n",
       "      <td>3</td>\n",
       "      <td>859</td>\n",
       "      <td>210</td>\n",
       "      <td>69</td>\n",
       "      <td>5572</td>\n",
       "      <td>913</td>\n",
       "      <td>...</td>\n",
       "      <td>147.0</td>\n",
       "      <td>542.0</td>\n",
       "      <td>505.0</td>\n",
       "      <td>86</td>\n",
       "      <td>1610</td>\n",
       "      <td>1559</td>\n",
       "      <td>2585</td>\n",
       "      <td>983.0</td>\n",
       "      <td>271</td>\n",
       "      <td>9747000</td>\n",
       "    </tr>\n",
       "    <tr>\n",
       "      <th>65</th>\n",
       "      <td>2015</td>\n",
       "      <td>15342</td>\n",
       "      <td>12803</td>\n",
       "      <td>932</td>\n",
       "      <td>3</td>\n",
       "      <td>868</td>\n",
       "      <td>184</td>\n",
       "      <td>60</td>\n",
       "      <td>5404</td>\n",
       "      <td>917</td>\n",
       "      <td>...</td>\n",
       "      <td>135.0</td>\n",
       "      <td>552.0</td>\n",
       "      <td>515.0</td>\n",
       "      <td>86</td>\n",
       "      <td>1896</td>\n",
       "      <td>1989</td>\n",
       "      <td>2539</td>\n",
       "      <td>960.0</td>\n",
       "      <td>267</td>\n",
       "      <td>9851000</td>\n",
       "    </tr>\n",
       "  </tbody>\n",
       "</table>\n",
       "<p>66 rows × 21 columns</p>\n",
       "</div>"
      ],
      "text/plain": [
       "    Year  crimes.total  crimes.penal.code  crimes.person  murder  assault  \\\n",
       "0   1950          2784               2306            120       1      105   \n",
       "1   1951          3284               2754            125       1      109   \n",
       "2   1952          3160               2608            119       1      104   \n",
       "3   1953          2909               2689            119       1      105   \n",
       "4   1954          3028               2791            126       1      107   \n",
       "..   ...           ...                ...            ...     ...      ...   \n",
       "61  2011         14988              12267           1005       2      947   \n",
       "62  2012         14734              12148            974       2      914   \n",
       "63  2013         14603              12072            896       3      837   \n",
       "64  2014         14890              12305            923       3      859   \n",
       "65  2015         15342              12803            932       3      868   \n",
       "\n",
       "    sexual.offenses  rape  stealing.general  burglary  ...  vehicle.theft  \\\n",
       "0                40     5              1578       295  ...            0.0   \n",
       "1                45     6              1899       342  ...            0.0   \n",
       "2                39     4              1846       372  ...            0.0   \n",
       "3                45     5              1929       361  ...            0.0   \n",
       "4                41     5              1981       393  ...            0.0   \n",
       "..              ...   ...               ...       ...  ...            ...   \n",
       "61              181    69              5783       995  ...          213.0   \n",
       "62              178    66              5613       922  ...          169.0   \n",
       "63              184    63              5552       888  ...          159.0   \n",
       "64              210    69              5572       913  ...          147.0   \n",
       "65              184    60              5404       917  ...          135.0   \n",
       "\n",
       "    out.of.vehicle.theft  shop.theft  robbery  fraud  criminal.damage  \\\n",
       "0                    0.0         0.0        3    209               72   \n",
       "1                    0.0         0.0        3    310               73   \n",
       "2                    0.0         0.0        3    217               82   \n",
       "3                    0.0         0.0        4    209               88   \n",
       "4                    0.0         0.0        4    236              101   \n",
       "..                   ...         ...      ...    ...              ...   \n",
       "61                 706.0       663.0      103   1220             1774   \n",
       "62                 655.0       635.0       97   1356             1600   \n",
       "63                 543.0       509.0       87   1545             1470   \n",
       "64                 542.0       505.0       86   1610             1559   \n",
       "65                 552.0       515.0       86   1896             1989   \n",
       "\n",
       "    other.penal.crimes  narcotics  drunk.driving  population  \n",
       "0                  477        0.0             49     7014000  \n",
       "1                  530        0.0             66     7073000  \n",
       "2                  553        0.0             78     7125000  \n",
       "3                  220        0.0             91     7171000  \n",
       "4                  237        0.0            103     7213000  \n",
       "..                 ...        ...            ...         ...  \n",
       "61                2721      946.0            314     9449000  \n",
       "62                2586      994.0            286     9519000  \n",
       "63                2532     1002.0            279     9644000  \n",
       "64                2585      983.0            271     9747000  \n",
       "65                2539      960.0            267     9851000  \n",
       "\n",
       "[66 rows x 21 columns]"
      ]
     },
     "execution_count": 43,
     "metadata": {},
     "output_type": "execute_result"
    }
   ],
   "source": [
    "df"
   ]
  },
  {
   "cell_type": "markdown",
   "metadata": {},
   "source": [
    "# Vad vill jag göra ?\n",
    "\n",
    "\n",
    "- se brott över tid\n",
    "- se vilka brottsrubriceringar som ökat mest respk. sjunkit mest\n",
    "- se hur assault förändrats över tid\n",
    "- visa vilka brott som är vanligast i nutid\n",
    "- visa hur fraud har ökat avsevärt\n",
    "- predicta utvecklingen för respk. brott\n"
   ]
  },
  {
   "cell_type": "markdown",
   "metadata": {},
   "source": []
  },
  {
   "cell_type": "code",
   "execution_count": 44,
   "id": "30f4e6ea",
   "metadata": {},
   "outputs": [
    {
     "data": {
      "application/vnd.plotly.v1+json": {
       "config": {
        "plotlyServerURL": "https://plot.ly"
       },
       "data": [
        {
         "hovertemplate": "Year=%{x}<br>crimes.total=%{y}<extra></extra>",
         "legendgroup": "",
         "line": {
          "color": "#636efa",
          "dash": "solid",
          "shape": "linear"
         },
         "marker": {
          "symbol": "circle"
         },
         "mode": "lines+markers",
         "name": "",
         "orientation": "v",
         "showlegend": false,
         "type": "scatter",
         "x": {
          "bdata": "ngefB6AHoQeiB6MHpAelB6YHpweoB6kHqgerB6wHrQeuB68HsAexB7IHswe0B7UHtge3B7gHuQe6B7sHvAe9B74HvwfAB8EHwgfDB8QHxQfGB8cHyAfJB8oHywfMB80HzgfPB9AH0QfSB9MH1AfVB9YH1wfYB9kH2gfbB9wH3QfeB98H",
          "dtype": "i2"
         },
         "xaxis": "x",
         "y": {
          "bdata": "4ArUDFgMXQvUCx0NoA2+DuAPwQ+ODwwQpxByEb8SqRavFxUZ/hv3Hd0feCI9IXcfUyAFJPgl+SfqJXAmoivvKyku+ywRLqMvHzPcMksypzSgN1s23DVgNX4xtjLuM/I0IDRqNH41OjRfNa02PTa5NbI0yDdaOv06DTmMOo45CzkqOu47",
          "dtype": "i2"
         },
         "yaxis": "y"
        }
       ],
       "layout": {
        "legend": {
         "tracegroupgap": 0
        },
        "template": {
         "data": {
          "bar": [
           {
            "error_x": {
             "color": "#2a3f5f"
            },
            "error_y": {
             "color": "#2a3f5f"
            },
            "marker": {
             "line": {
              "color": "#E5ECF6",
              "width": 0.5
             },
             "pattern": {
              "fillmode": "overlay",
              "size": 10,
              "solidity": 0.2
             }
            },
            "type": "bar"
           }
          ],
          "barpolar": [
           {
            "marker": {
             "line": {
              "color": "#E5ECF6",
              "width": 0.5
             },
             "pattern": {
              "fillmode": "overlay",
              "size": 10,
              "solidity": 0.2
             }
            },
            "type": "barpolar"
           }
          ],
          "carpet": [
           {
            "aaxis": {
             "endlinecolor": "#2a3f5f",
             "gridcolor": "white",
             "linecolor": "white",
             "minorgridcolor": "white",
             "startlinecolor": "#2a3f5f"
            },
            "baxis": {
             "endlinecolor": "#2a3f5f",
             "gridcolor": "white",
             "linecolor": "white",
             "minorgridcolor": "white",
             "startlinecolor": "#2a3f5f"
            },
            "type": "carpet"
           }
          ],
          "choropleth": [
           {
            "colorbar": {
             "outlinewidth": 0,
             "ticks": ""
            },
            "type": "choropleth"
           }
          ],
          "contour": [
           {
            "colorbar": {
             "outlinewidth": 0,
             "ticks": ""
            },
            "colorscale": [
             [
              0,
              "#0d0887"
             ],
             [
              0.1111111111111111,
              "#46039f"
             ],
             [
              0.2222222222222222,
              "#7201a8"
             ],
             [
              0.3333333333333333,
              "#9c179e"
             ],
             [
              0.4444444444444444,
              "#bd3786"
             ],
             [
              0.5555555555555556,
              "#d8576b"
             ],
             [
              0.6666666666666666,
              "#ed7953"
             ],
             [
              0.7777777777777778,
              "#fb9f3a"
             ],
             [
              0.8888888888888888,
              "#fdca26"
             ],
             [
              1,
              "#f0f921"
             ]
            ],
            "type": "contour"
           }
          ],
          "contourcarpet": [
           {
            "colorbar": {
             "outlinewidth": 0,
             "ticks": ""
            },
            "type": "contourcarpet"
           }
          ],
          "heatmap": [
           {
            "colorbar": {
             "outlinewidth": 0,
             "ticks": ""
            },
            "colorscale": [
             [
              0,
              "#0d0887"
             ],
             [
              0.1111111111111111,
              "#46039f"
             ],
             [
              0.2222222222222222,
              "#7201a8"
             ],
             [
              0.3333333333333333,
              "#9c179e"
             ],
             [
              0.4444444444444444,
              "#bd3786"
             ],
             [
              0.5555555555555556,
              "#d8576b"
             ],
             [
              0.6666666666666666,
              "#ed7953"
             ],
             [
              0.7777777777777778,
              "#fb9f3a"
             ],
             [
              0.8888888888888888,
              "#fdca26"
             ],
             [
              1,
              "#f0f921"
             ]
            ],
            "type": "heatmap"
           }
          ],
          "histogram": [
           {
            "marker": {
             "pattern": {
              "fillmode": "overlay",
              "size": 10,
              "solidity": 0.2
             }
            },
            "type": "histogram"
           }
          ],
          "histogram2d": [
           {
            "colorbar": {
             "outlinewidth": 0,
             "ticks": ""
            },
            "colorscale": [
             [
              0,
              "#0d0887"
             ],
             [
              0.1111111111111111,
              "#46039f"
             ],
             [
              0.2222222222222222,
              "#7201a8"
             ],
             [
              0.3333333333333333,
              "#9c179e"
             ],
             [
              0.4444444444444444,
              "#bd3786"
             ],
             [
              0.5555555555555556,
              "#d8576b"
             ],
             [
              0.6666666666666666,
              "#ed7953"
             ],
             [
              0.7777777777777778,
              "#fb9f3a"
             ],
             [
              0.8888888888888888,
              "#fdca26"
             ],
             [
              1,
              "#f0f921"
             ]
            ],
            "type": "histogram2d"
           }
          ],
          "histogram2dcontour": [
           {
            "colorbar": {
             "outlinewidth": 0,
             "ticks": ""
            },
            "colorscale": [
             [
              0,
              "#0d0887"
             ],
             [
              0.1111111111111111,
              "#46039f"
             ],
             [
              0.2222222222222222,
              "#7201a8"
             ],
             [
              0.3333333333333333,
              "#9c179e"
             ],
             [
              0.4444444444444444,
              "#bd3786"
             ],
             [
              0.5555555555555556,
              "#d8576b"
             ],
             [
              0.6666666666666666,
              "#ed7953"
             ],
             [
              0.7777777777777778,
              "#fb9f3a"
             ],
             [
              0.8888888888888888,
              "#fdca26"
             ],
             [
              1,
              "#f0f921"
             ]
            ],
            "type": "histogram2dcontour"
           }
          ],
          "mesh3d": [
           {
            "colorbar": {
             "outlinewidth": 0,
             "ticks": ""
            },
            "type": "mesh3d"
           }
          ],
          "parcoords": [
           {
            "line": {
             "colorbar": {
              "outlinewidth": 0,
              "ticks": ""
             }
            },
            "type": "parcoords"
           }
          ],
          "pie": [
           {
            "automargin": true,
            "type": "pie"
           }
          ],
          "scatter": [
           {
            "fillpattern": {
             "fillmode": "overlay",
             "size": 10,
             "solidity": 0.2
            },
            "type": "scatter"
           }
          ],
          "scatter3d": [
           {
            "line": {
             "colorbar": {
              "outlinewidth": 0,
              "ticks": ""
             }
            },
            "marker": {
             "colorbar": {
              "outlinewidth": 0,
              "ticks": ""
             }
            },
            "type": "scatter3d"
           }
          ],
          "scattercarpet": [
           {
            "marker": {
             "colorbar": {
              "outlinewidth": 0,
              "ticks": ""
             }
            },
            "type": "scattercarpet"
           }
          ],
          "scattergeo": [
           {
            "marker": {
             "colorbar": {
              "outlinewidth": 0,
              "ticks": ""
             }
            },
            "type": "scattergeo"
           }
          ],
          "scattergl": [
           {
            "marker": {
             "colorbar": {
              "outlinewidth": 0,
              "ticks": ""
             }
            },
            "type": "scattergl"
           }
          ],
          "scattermap": [
           {
            "marker": {
             "colorbar": {
              "outlinewidth": 0,
              "ticks": ""
             }
            },
            "type": "scattermap"
           }
          ],
          "scattermapbox": [
           {
            "marker": {
             "colorbar": {
              "outlinewidth": 0,
              "ticks": ""
             }
            },
            "type": "scattermapbox"
           }
          ],
          "scatterpolar": [
           {
            "marker": {
             "colorbar": {
              "outlinewidth": 0,
              "ticks": ""
             }
            },
            "type": "scatterpolar"
           }
          ],
          "scatterpolargl": [
           {
            "marker": {
             "colorbar": {
              "outlinewidth": 0,
              "ticks": ""
             }
            },
            "type": "scatterpolargl"
           }
          ],
          "scatterternary": [
           {
            "marker": {
             "colorbar": {
              "outlinewidth": 0,
              "ticks": ""
             }
            },
            "type": "scatterternary"
           }
          ],
          "surface": [
           {
            "colorbar": {
             "outlinewidth": 0,
             "ticks": ""
            },
            "colorscale": [
             [
              0,
              "#0d0887"
             ],
             [
              0.1111111111111111,
              "#46039f"
             ],
             [
              0.2222222222222222,
              "#7201a8"
             ],
             [
              0.3333333333333333,
              "#9c179e"
             ],
             [
              0.4444444444444444,
              "#bd3786"
             ],
             [
              0.5555555555555556,
              "#d8576b"
             ],
             [
              0.6666666666666666,
              "#ed7953"
             ],
             [
              0.7777777777777778,
              "#fb9f3a"
             ],
             [
              0.8888888888888888,
              "#fdca26"
             ],
             [
              1,
              "#f0f921"
             ]
            ],
            "type": "surface"
           }
          ],
          "table": [
           {
            "cells": {
             "fill": {
              "color": "#EBF0F8"
             },
             "line": {
              "color": "white"
             }
            },
            "header": {
             "fill": {
              "color": "#C8D4E3"
             },
             "line": {
              "color": "white"
             }
            },
            "type": "table"
           }
          ]
         },
         "layout": {
          "annotationdefaults": {
           "arrowcolor": "#2a3f5f",
           "arrowhead": 0,
           "arrowwidth": 1
          },
          "autotypenumbers": "strict",
          "coloraxis": {
           "colorbar": {
            "outlinewidth": 0,
            "ticks": ""
           }
          },
          "colorscale": {
           "diverging": [
            [
             0,
             "#8e0152"
            ],
            [
             0.1,
             "#c51b7d"
            ],
            [
             0.2,
             "#de77ae"
            ],
            [
             0.3,
             "#f1b6da"
            ],
            [
             0.4,
             "#fde0ef"
            ],
            [
             0.5,
             "#f7f7f7"
            ],
            [
             0.6,
             "#e6f5d0"
            ],
            [
             0.7,
             "#b8e186"
            ],
            [
             0.8,
             "#7fbc41"
            ],
            [
             0.9,
             "#4d9221"
            ],
            [
             1,
             "#276419"
            ]
           ],
           "sequential": [
            [
             0,
             "#0d0887"
            ],
            [
             0.1111111111111111,
             "#46039f"
            ],
            [
             0.2222222222222222,
             "#7201a8"
            ],
            [
             0.3333333333333333,
             "#9c179e"
            ],
            [
             0.4444444444444444,
             "#bd3786"
            ],
            [
             0.5555555555555556,
             "#d8576b"
            ],
            [
             0.6666666666666666,
             "#ed7953"
            ],
            [
             0.7777777777777778,
             "#fb9f3a"
            ],
            [
             0.8888888888888888,
             "#fdca26"
            ],
            [
             1,
             "#f0f921"
            ]
           ],
           "sequentialminus": [
            [
             0,
             "#0d0887"
            ],
            [
             0.1111111111111111,
             "#46039f"
            ],
            [
             0.2222222222222222,
             "#7201a8"
            ],
            [
             0.3333333333333333,
             "#9c179e"
            ],
            [
             0.4444444444444444,
             "#bd3786"
            ],
            [
             0.5555555555555556,
             "#d8576b"
            ],
            [
             0.6666666666666666,
             "#ed7953"
            ],
            [
             0.7777777777777778,
             "#fb9f3a"
            ],
            [
             0.8888888888888888,
             "#fdca26"
            ],
            [
             1,
             "#f0f921"
            ]
           ]
          },
          "colorway": [
           "#636efa",
           "#EF553B",
           "#00cc96",
           "#ab63fa",
           "#FFA15A",
           "#19d3f3",
           "#FF6692",
           "#B6E880",
           "#FF97FF",
           "#FECB52"
          ],
          "font": {
           "color": "#2a3f5f"
          },
          "geo": {
           "bgcolor": "white",
           "lakecolor": "white",
           "landcolor": "#E5ECF6",
           "showlakes": true,
           "showland": true,
           "subunitcolor": "white"
          },
          "hoverlabel": {
           "align": "left"
          },
          "hovermode": "closest",
          "mapbox": {
           "style": "light"
          },
          "paper_bgcolor": "white",
          "plot_bgcolor": "#E5ECF6",
          "polar": {
           "angularaxis": {
            "gridcolor": "white",
            "linecolor": "white",
            "ticks": ""
           },
           "bgcolor": "#E5ECF6",
           "radialaxis": {
            "gridcolor": "white",
            "linecolor": "white",
            "ticks": ""
           }
          },
          "scene": {
           "xaxis": {
            "backgroundcolor": "#E5ECF6",
            "gridcolor": "white",
            "gridwidth": 2,
            "linecolor": "white",
            "showbackground": true,
            "ticks": "",
            "zerolinecolor": "white"
           },
           "yaxis": {
            "backgroundcolor": "#E5ECF6",
            "gridcolor": "white",
            "gridwidth": 2,
            "linecolor": "white",
            "showbackground": true,
            "ticks": "",
            "zerolinecolor": "white"
           },
           "zaxis": {
            "backgroundcolor": "#E5ECF6",
            "gridcolor": "white",
            "gridwidth": 2,
            "linecolor": "white",
            "showbackground": true,
            "ticks": "",
            "zerolinecolor": "white"
           }
          },
          "shapedefaults": {
           "line": {
            "color": "#2a3f5f"
           }
          },
          "ternary": {
           "aaxis": {
            "gridcolor": "white",
            "linecolor": "white",
            "ticks": ""
           },
           "baxis": {
            "gridcolor": "white",
            "linecolor": "white",
            "ticks": ""
           },
           "bgcolor": "#E5ECF6",
           "caxis": {
            "gridcolor": "white",
            "linecolor": "white",
            "ticks": ""
           }
          },
          "title": {
           "x": 0.05
          },
          "xaxis": {
           "automargin": true,
           "gridcolor": "white",
           "linecolor": "white",
           "ticks": "",
           "title": {
            "standoff": 15
           },
           "zerolinecolor": "white",
           "zerolinewidth": 2
          },
          "yaxis": {
           "automargin": true,
           "gridcolor": "white",
           "linecolor": "white",
           "ticks": "",
           "title": {
            "standoff": 15
           },
           "zerolinecolor": "white",
           "zerolinewidth": 2
          }
         }
        },
        "title": {
         "text": "Totalt antal begångna brott / år (Per 100 000 inv)"
        },
        "xaxis": {
         "anchor": "y",
         "domain": [
          0,
          1
         ],
         "title": {
          "text": "Year"
         }
        },
        "yaxis": {
         "anchor": "x",
         "domain": [
          0,
          1
         ],
         "title": {
          "text": "crimes.total"
         }
        }
       }
      }
     },
     "metadata": {},
     "output_type": "display_data"
    }
   ],
   "source": [
    "import plotly.express as px\n",
    "\n",
    "# visa antal brott per år\n",
    "crimes_per_year = df.groupby(\"Year\")[\"crimes.total\"].sum().reset_index()\n",
    "\n",
    "fig = px.line(\n",
    "            crimes_per_year,\n",
    "            x=\"Year\",\n",
    "            y=\"crimes.total\",\n",
    "            markers=True,\n",
    "            title=\"Totalt antal begångna brott / år (Per 100 000 inv)\",\n",
    "            line_shape=\"linear\"\n",
    "        )\n",
    "\n",
    "fig"
   ]
  },
  {
   "cell_type": "code",
   "execution_count": 45,
   "metadata": {},
   "outputs": [
    {
     "data": {
      "text/html": [
       "<div>\n",
       "<style scoped>\n",
       "    .dataframe tbody tr th:only-of-type {\n",
       "        vertical-align: middle;\n",
       "    }\n",
       "\n",
       "    .dataframe tbody tr th {\n",
       "        vertical-align: top;\n",
       "    }\n",
       "\n",
       "    .dataframe thead th {\n",
       "        text-align: right;\n",
       "    }\n",
       "</style>\n",
       "<table border=\"1\" class=\"dataframe\">\n",
       "  <thead>\n",
       "    <tr style=\"text-align: right;\">\n",
       "      <th></th>\n",
       "      <th>Year</th>\n",
       "      <th>crimes.total</th>\n",
       "      <th>crimes.penal.code</th>\n",
       "      <th>crimes.person</th>\n",
       "      <th>murder</th>\n",
       "      <th>assault</th>\n",
       "      <th>sexual.offenses</th>\n",
       "      <th>rape</th>\n",
       "      <th>stealing.general</th>\n",
       "      <th>burglary</th>\n",
       "      <th>...</th>\n",
       "      <th>vehicle.theft</th>\n",
       "      <th>out.of.vehicle.theft</th>\n",
       "      <th>shop.theft</th>\n",
       "      <th>robbery</th>\n",
       "      <th>fraud</th>\n",
       "      <th>criminal.damage</th>\n",
       "      <th>other.penal.crimes</th>\n",
       "      <th>narcotics</th>\n",
       "      <th>drunk.driving</th>\n",
       "      <th>population</th>\n",
       "    </tr>\n",
       "  </thead>\n",
       "  <tbody>\n",
       "    <tr>\n",
       "      <th>0</th>\n",
       "      <td>1950</td>\n",
       "      <td>2784</td>\n",
       "      <td>2306</td>\n",
       "      <td>120</td>\n",
       "      <td>1</td>\n",
       "      <td>105</td>\n",
       "      <td>40</td>\n",
       "      <td>5</td>\n",
       "      <td>1578</td>\n",
       "      <td>295</td>\n",
       "      <td>...</td>\n",
       "      <td>0.0</td>\n",
       "      <td>0.0</td>\n",
       "      <td>0.0</td>\n",
       "      <td>3</td>\n",
       "      <td>209</td>\n",
       "      <td>72</td>\n",
       "      <td>477</td>\n",
       "      <td>0.0</td>\n",
       "      <td>49</td>\n",
       "      <td>7014000</td>\n",
       "    </tr>\n",
       "    <tr>\n",
       "      <th>1</th>\n",
       "      <td>1951</td>\n",
       "      <td>3284</td>\n",
       "      <td>2754</td>\n",
       "      <td>125</td>\n",
       "      <td>1</td>\n",
       "      <td>109</td>\n",
       "      <td>45</td>\n",
       "      <td>6</td>\n",
       "      <td>1899</td>\n",
       "      <td>342</td>\n",
       "      <td>...</td>\n",
       "      <td>0.0</td>\n",
       "      <td>0.0</td>\n",
       "      <td>0.0</td>\n",
       "      <td>3</td>\n",
       "      <td>310</td>\n",
       "      <td>73</td>\n",
       "      <td>530</td>\n",
       "      <td>0.0</td>\n",
       "      <td>66</td>\n",
       "      <td>7073000</td>\n",
       "    </tr>\n",
       "    <tr>\n",
       "      <th>2</th>\n",
       "      <td>1952</td>\n",
       "      <td>3160</td>\n",
       "      <td>2608</td>\n",
       "      <td>119</td>\n",
       "      <td>1</td>\n",
       "      <td>104</td>\n",
       "      <td>39</td>\n",
       "      <td>4</td>\n",
       "      <td>1846</td>\n",
       "      <td>372</td>\n",
       "      <td>...</td>\n",
       "      <td>0.0</td>\n",
       "      <td>0.0</td>\n",
       "      <td>0.0</td>\n",
       "      <td>3</td>\n",
       "      <td>217</td>\n",
       "      <td>82</td>\n",
       "      <td>553</td>\n",
       "      <td>0.0</td>\n",
       "      <td>78</td>\n",
       "      <td>7125000</td>\n",
       "    </tr>\n",
       "    <tr>\n",
       "      <th>3</th>\n",
       "      <td>1953</td>\n",
       "      <td>2909</td>\n",
       "      <td>2689</td>\n",
       "      <td>119</td>\n",
       "      <td>1</td>\n",
       "      <td>105</td>\n",
       "      <td>45</td>\n",
       "      <td>5</td>\n",
       "      <td>1929</td>\n",
       "      <td>361</td>\n",
       "      <td>...</td>\n",
       "      <td>0.0</td>\n",
       "      <td>0.0</td>\n",
       "      <td>0.0</td>\n",
       "      <td>4</td>\n",
       "      <td>209</td>\n",
       "      <td>88</td>\n",
       "      <td>220</td>\n",
       "      <td>0.0</td>\n",
       "      <td>91</td>\n",
       "      <td>7171000</td>\n",
       "    </tr>\n",
       "    <tr>\n",
       "      <th>4</th>\n",
       "      <td>1954</td>\n",
       "      <td>3028</td>\n",
       "      <td>2791</td>\n",
       "      <td>126</td>\n",
       "      <td>1</td>\n",
       "      <td>107</td>\n",
       "      <td>41</td>\n",
       "      <td>5</td>\n",
       "      <td>1981</td>\n",
       "      <td>393</td>\n",
       "      <td>...</td>\n",
       "      <td>0.0</td>\n",
       "      <td>0.0</td>\n",
       "      <td>0.0</td>\n",
       "      <td>4</td>\n",
       "      <td>236</td>\n",
       "      <td>101</td>\n",
       "      <td>237</td>\n",
       "      <td>0.0</td>\n",
       "      <td>103</td>\n",
       "      <td>7213000</td>\n",
       "    </tr>\n",
       "  </tbody>\n",
       "</table>\n",
       "<p>5 rows × 21 columns</p>\n",
       "</div>"
      ],
      "text/plain": [
       "   Year  crimes.total  crimes.penal.code  crimes.person  murder  assault  \\\n",
       "0  1950          2784               2306            120       1      105   \n",
       "1  1951          3284               2754            125       1      109   \n",
       "2  1952          3160               2608            119       1      104   \n",
       "3  1953          2909               2689            119       1      105   \n",
       "4  1954          3028               2791            126       1      107   \n",
       "\n",
       "   sexual.offenses  rape  stealing.general  burglary  ...  vehicle.theft  \\\n",
       "0               40     5              1578       295  ...            0.0   \n",
       "1               45     6              1899       342  ...            0.0   \n",
       "2               39     4              1846       372  ...            0.0   \n",
       "3               45     5              1929       361  ...            0.0   \n",
       "4               41     5              1981       393  ...            0.0   \n",
       "\n",
       "   out.of.vehicle.theft  shop.theft  robbery  fraud  criminal.damage  \\\n",
       "0                   0.0         0.0        3    209               72   \n",
       "1                   0.0         0.0        3    310               73   \n",
       "2                   0.0         0.0        3    217               82   \n",
       "3                   0.0         0.0        4    209               88   \n",
       "4                   0.0         0.0        4    236              101   \n",
       "\n",
       "   other.penal.crimes  narcotics  drunk.driving  population  \n",
       "0                 477        0.0             49     7014000  \n",
       "1                 530        0.0             66     7073000  \n",
       "2                 553        0.0             78     7125000  \n",
       "3                 220        0.0             91     7171000  \n",
       "4                 237        0.0            103     7213000  \n",
       "\n",
       "[5 rows x 21 columns]"
      ]
     },
     "execution_count": 45,
     "metadata": {},
     "output_type": "execute_result"
    }
   ],
   "source": [
    "# se antal brott per brottstyp och år\n",
    "# en barplot, varje bar är en brottsrubricering, y axeln är antalet brott\n",
    "\n",
    "\n",
    "df.head()\n"
   ]
  },
  {
   "cell_type": "code",
   "execution_count": 46,
   "metadata": {},
   "outputs": [
    {
     "data": {
      "text/plain": [
       "['murder',\n",
       " 'assault',\n",
       " 'sexual.offenses',\n",
       " 'rape',\n",
       " 'stealing.general',\n",
       " 'burglary',\n",
       " 'house.theft',\n",
       " 'vehicle.theft',\n",
       " 'out.of.vehicle.theft',\n",
       " 'shop.theft',\n",
       " 'robbery',\n",
       " 'fraud',\n",
       " 'criminal.damage',\n",
       " 'other.penal.crimes',\n",
       " 'narcotics',\n",
       " 'drunk.driving']"
      ]
     },
     "execution_count": 46,
     "metadata": {},
     "output_type": "execute_result"
    }
   ],
   "source": [
    "# Plocka ut kolumner som är brottstyper\n",
    "exclude_cols = ['Year', 'crimes.total', 'crimes.penal.code', 'crimes.person', 'population']\n",
    "crime_cols = [col for col in df.columns if col not in exclude_cols]\n",
    "crime_cols"
   ]
  },
  {
   "cell_type": "code",
   "execution_count": 47,
   "metadata": {},
   "outputs": [
    {
     "data": {
      "application/vnd.plotly.v1+json": {
       "config": {
        "plotlyServerURL": "https://plot.ly"
       },
       "data": [
        {
         "customdata": [
          [
           "murder"
          ],
          [
           "murder"
          ],
          [
           "murder"
          ],
          [
           "murder"
          ],
          [
           "murder"
          ],
          [
           "murder"
          ],
          [
           "murder"
          ],
          [
           "murder"
          ],
          [
           "murder"
          ],
          [
           "murder"
          ],
          [
           "murder"
          ],
          [
           "murder"
          ],
          [
           "murder"
          ],
          [
           "murder"
          ],
          [
           "murder"
          ],
          [
           "murder"
          ],
          [
           "murder"
          ],
          [
           "murder"
          ],
          [
           "murder"
          ],
          [
           "murder"
          ],
          [
           "murder"
          ],
          [
           "murder"
          ],
          [
           "murder"
          ],
          [
           "murder"
          ],
          [
           "murder"
          ],
          [
           "murder"
          ],
          [
           "murder"
          ],
          [
           "murder"
          ],
          [
           "murder"
          ],
          [
           "murder"
          ],
          [
           "murder"
          ],
          [
           "murder"
          ],
          [
           "murder"
          ],
          [
           "murder"
          ],
          [
           "murder"
          ],
          [
           "murder"
          ],
          [
           "murder"
          ],
          [
           "murder"
          ],
          [
           "murder"
          ],
          [
           "murder"
          ],
          [
           "murder"
          ],
          [
           "murder"
          ],
          [
           "murder"
          ],
          [
           "murder"
          ],
          [
           "murder"
          ],
          [
           "murder"
          ],
          [
           "murder"
          ],
          [
           "murder"
          ],
          [
           "murder"
          ],
          [
           "murder"
          ],
          [
           "murder"
          ],
          [
           "murder"
          ],
          [
           "murder"
          ],
          [
           "murder"
          ],
          [
           "murder"
          ],
          [
           "murder"
          ],
          [
           "murder"
          ],
          [
           "murder"
          ],
          [
           "murder"
          ],
          [
           "murder"
          ],
          [
           "murder"
          ],
          [
           "murder"
          ],
          [
           "murder"
          ],
          [
           "murder"
          ],
          [
           "murder"
          ],
          [
           "murder"
          ]
         ],
         "hovertemplate": "Crime=%{customdata[0]}<br>År=%{x}<br>Antal brott=%{y}<extra></extra>",
         "legendgroup": "murder",
         "line": {
          "color": "#636efa",
          "dash": "solid"
         },
         "marker": {
          "symbol": "circle"
         },
         "mode": "lines",
         "name": "murder",
         "showlegend": true,
         "type": "scattergl",
         "x": {
          "bdata": "ngefB6AHoQeiB6MHpAelB6YHpweoB6kHqgerB6wHrQeuB68HsAexB7IHswe0B7UHtge3B7gHuQe6B7sHvAe9B74HvwfAB8EHwgfDB8QHxQfGB8cHyAfJB8oHywfMB80HzgfPB9AH0QfSB9MH1AfVB9YH1wfYB9kH2gfbB9wH3QfeB98H",
          "dtype": "i2"
         },
         "xaxis": "x",
         "y": {
          "bdata": "AAAAAAAA8D8AAAAAAADwPwAAAAAAAPA/AAAAAAAA8D8AAAAAAADwPwAAAAAAAPA/AAAAAAAA8D8AAAAAAADwPwAAAAAAAPA/AAAAAAAA8D8AAAAAAADwPwAAAAAAAPA/AAAAAAAA8D8AAAAAAADwPwAAAAAAAPA/AAAAAAAACEAAAAAAAAAIQAAAAAAAAABAAAAAAAAA8D8AAAAAAADwPwAAAAAAAPA/AAAAAAAA8D8AAAAAAADwPwAAAAAAAPA/AAAAAAAAAEAAAAAAAADwPwAAAAAAAABAAAAAAAAAAEAAAAAAAADwPwAAAAAAAABAAAAAAAAAAEAAAAAAAAAAQAAAAAAAAABAAAAAAAAA8D8AAAAAAADwPwAAAAAAAABAAAAAAAAAAEAAAAAAAAAAQAAAAAAAAABAAAAAAAAAAEAAAAAAAADwPwAAAAAAAABAAAAAAAAAAEAAAAAAAAAAQAAAAAAAAABAAAAAAAAAAEAAAAAAAAAAQAAAAAAAAABAAAAAAAAAAEAAAAAAAAAAQAAAAAAAAABAAAAAAAAAAEAAAAAAAAAAQAAAAAAAAABAAAAAAAAAAEAAAAAAAAAIQAAAAAAAAAhAAAAAAAAACEAAAAAAAAAAQAAAAAAAAABAAAAAAAAAEEAAAAAAAAAAQAAAAAAAAABAAAAAAAAACEAAAAAAAAAIQAAAAAAAAAhA",
          "dtype": "f8"
         },
         "yaxis": "y"
        },
        {
         "customdata": [
          [
           "assault"
          ],
          [
           "assault"
          ],
          [
           "assault"
          ],
          [
           "assault"
          ],
          [
           "assault"
          ],
          [
           "assault"
          ],
          [
           "assault"
          ],
          [
           "assault"
          ],
          [
           "assault"
          ],
          [
           "assault"
          ],
          [
           "assault"
          ],
          [
           "assault"
          ],
          [
           "assault"
          ],
          [
           "assault"
          ],
          [
           "assault"
          ],
          [
           "assault"
          ],
          [
           "assault"
          ],
          [
           "assault"
          ],
          [
           "assault"
          ],
          [
           "assault"
          ],
          [
           "assault"
          ],
          [
           "assault"
          ],
          [
           "assault"
          ],
          [
           "assault"
          ],
          [
           "assault"
          ],
          [
           "assault"
          ],
          [
           "assault"
          ],
          [
           "assault"
          ],
          [
           "assault"
          ],
          [
           "assault"
          ],
          [
           "assault"
          ],
          [
           "assault"
          ],
          [
           "assault"
          ],
          [
           "assault"
          ],
          [
           "assault"
          ],
          [
           "assault"
          ],
          [
           "assault"
          ],
          [
           "assault"
          ],
          [
           "assault"
          ],
          [
           "assault"
          ],
          [
           "assault"
          ],
          [
           "assault"
          ],
          [
           "assault"
          ],
          [
           "assault"
          ],
          [
           "assault"
          ],
          [
           "assault"
          ],
          [
           "assault"
          ],
          [
           "assault"
          ],
          [
           "assault"
          ],
          [
           "assault"
          ],
          [
           "assault"
          ],
          [
           "assault"
          ],
          [
           "assault"
          ],
          [
           "assault"
          ],
          [
           "assault"
          ],
          [
           "assault"
          ],
          [
           "assault"
          ],
          [
           "assault"
          ],
          [
           "assault"
          ],
          [
           "assault"
          ],
          [
           "assault"
          ],
          [
           "assault"
          ],
          [
           "assault"
          ],
          [
           "assault"
          ],
          [
           "assault"
          ],
          [
           "assault"
          ]
         ],
         "hovertemplate": "Crime=%{customdata[0]}<br>År=%{x}<br>Antal brott=%{y}<extra></extra>",
         "legendgroup": "assault",
         "line": {
          "color": "#EF553B",
          "dash": "solid"
         },
         "marker": {
          "symbol": "circle"
         },
         "mode": "lines",
         "name": "assault",
         "showlegend": true,
         "type": "scattergl",
         "x": {
          "bdata": "ngefB6AHoQeiB6MHpAelB6YHpweoB6kHqgerB6wHrQeuB68HsAexB7IHswe0B7UHtge3B7gHuQe6B7sHvAe9B74HvwfAB8EHwgfDB8QHxQfGB8cHyAfJB8oHywfMB80HzgfPB9AH0QfSB9MH1AfVB9YH1wfYB9kH2gfbB9wH3QfeB98H",
          "dtype": "i2"
         },
         "xaxis": "x",
         "y": {
          "bdata": "AAAAAABAWkAAAAAAAEBbQAAAAAAAAFpAAAAAAABAWkAAAAAAAMBaQAAAAAAAgF1AAAAAAAAAXUAAAAAAAABdQAAAAAAAQFxAAAAAAACAW0AAAAAAAABdQAAAAAAAAF1AAAAAAADAXEAAAAAAAIBdQAAAAAAAAF9AAAAAAADgYkAAAAAAAMBkQAAAAAAAoGVAAAAAAACAakAAAAAAAOBrQAAAAAAAgGxAAAAAAABAa0AAAAAAAOBrQAAAAAAA4GpAAAAAAABgbkAAAAAAAHBwQAAAAAAAQHBAAAAAAADgcUAAAAAAAEBxQAAAAAAAcHFAAAAAAACQckAAAAAAAEByQAAAAAAAMHVAAAAAAADwdUAAAAAAABB3QAAAAAAA8HdAAAAAAACAeEAAAAAAAOB5QAAAAAAA0HtAAAAAAAAwfUAAAAAAALB9QAAAAAAAUH1AAAAAAABQgEAAAAAAAECCQAAAAAAAGINAAAAAAABAg0AAAAAAAACDQAAAAAAAgINAAAAAAAAYhEAAAAAAAAiFQAAAAAAAuIRAAAAAAADghEAAAAAAAFCFQAAAAAAAsIZAAAAAAABQh0AAAAAAACiJQAAAAAAAgIpAAAAAAAAYjEAAAAAAALCMQAAAAAAA+IxAAAAAAABAjUAAAAAAAJiNQAAAAAAAkIxAAAAAAAAoikAAAAAAANiKQAAAAAAAIItA",
          "dtype": "f8"
         },
         "yaxis": "y"
        },
        {
         "customdata": [
          [
           "sexual.offenses"
          ],
          [
           "sexual.offenses"
          ],
          [
           "sexual.offenses"
          ],
          [
           "sexual.offenses"
          ],
          [
           "sexual.offenses"
          ],
          [
           "sexual.offenses"
          ],
          [
           "sexual.offenses"
          ],
          [
           "sexual.offenses"
          ],
          [
           "sexual.offenses"
          ],
          [
           "sexual.offenses"
          ],
          [
           "sexual.offenses"
          ],
          [
           "sexual.offenses"
          ],
          [
           "sexual.offenses"
          ],
          [
           "sexual.offenses"
          ],
          [
           "sexual.offenses"
          ],
          [
           "sexual.offenses"
          ],
          [
           "sexual.offenses"
          ],
          [
           "sexual.offenses"
          ],
          [
           "sexual.offenses"
          ],
          [
           "sexual.offenses"
          ],
          [
           "sexual.offenses"
          ],
          [
           "sexual.offenses"
          ],
          [
           "sexual.offenses"
          ],
          [
           "sexual.offenses"
          ],
          [
           "sexual.offenses"
          ],
          [
           "sexual.offenses"
          ],
          [
           "sexual.offenses"
          ],
          [
           "sexual.offenses"
          ],
          [
           "sexual.offenses"
          ],
          [
           "sexual.offenses"
          ],
          [
           "sexual.offenses"
          ],
          [
           "sexual.offenses"
          ],
          [
           "sexual.offenses"
          ],
          [
           "sexual.offenses"
          ],
          [
           "sexual.offenses"
          ],
          [
           "sexual.offenses"
          ],
          [
           "sexual.offenses"
          ],
          [
           "sexual.offenses"
          ],
          [
           "sexual.offenses"
          ],
          [
           "sexual.offenses"
          ],
          [
           "sexual.offenses"
          ],
          [
           "sexual.offenses"
          ],
          [
           "sexual.offenses"
          ],
          [
           "sexual.offenses"
          ],
          [
           "sexual.offenses"
          ],
          [
           "sexual.offenses"
          ],
          [
           "sexual.offenses"
          ],
          [
           "sexual.offenses"
          ],
          [
           "sexual.offenses"
          ],
          [
           "sexual.offenses"
          ],
          [
           "sexual.offenses"
          ],
          [
           "sexual.offenses"
          ],
          [
           "sexual.offenses"
          ],
          [
           "sexual.offenses"
          ],
          [
           "sexual.offenses"
          ],
          [
           "sexual.offenses"
          ],
          [
           "sexual.offenses"
          ],
          [
           "sexual.offenses"
          ],
          [
           "sexual.offenses"
          ],
          [
           "sexual.offenses"
          ],
          [
           "sexual.offenses"
          ],
          [
           "sexual.offenses"
          ],
          [
           "sexual.offenses"
          ],
          [
           "sexual.offenses"
          ],
          [
           "sexual.offenses"
          ],
          [
           "sexual.offenses"
          ]
         ],
         "hovertemplate": "Crime=%{customdata[0]}<br>År=%{x}<br>Antal brott=%{y}<extra></extra>",
         "legendgroup": "sexual.offenses",
         "line": {
          "color": "#00cc96",
          "dash": "solid"
         },
         "marker": {
          "symbol": "circle"
         },
         "mode": "lines",
         "name": "sexual.offenses",
         "showlegend": true,
         "type": "scattergl",
         "x": {
          "bdata": "ngefB6AHoQeiB6MHpAelB6YHpweoB6kHqgerB6wHrQeuB68HsAexB7IHswe0B7UHtge3B7gHuQe6B7sHvAe9B74HvwfAB8EHwgfDB8QHxQfGB8cHyAfJB8oHywfMB80HzgfPB9AH0QfSB9MH1AfVB9YH1wfYB9kH2gfbB9wH3QfeB98H",
          "dtype": "i2"
         },
         "xaxis": "x",
         "y": {
          "bdata": "AAAAAAAAREAAAAAAAIBGQAAAAAAAgENAAAAAAACARkAAAAAAAIBEQAAAAAAAAEZAAAAAAAAAQ0AAAAAAAABCQAAAAAAAAERAAAAAAACAR0AAAAAAAABLQAAAAAAAgEpAAAAAAACASEAAAAAAAIBIQAAAAAAAgElAAAAAAACASUAAAAAAAABIQAAAAAAAgEhAAAAAAACAR0AAAAAAAABFQAAAAAAAgERAAAAAAAAAQ0AAAAAAAABAQAAAAAAAgEBAAAAAAACAREAAAAAAAIBAQAAAAAAAAD1AAAAAAACAQEAAAAAAAABBQAAAAAAAAEFAAAAAAACAQkAAAAAAAABDQAAAAAAAgEdAAAAAAACARUAAAAAAAABHQAAAAAAAgEhAAAAAAACASEAAAAAAAIBLQAAAAAAAAE9AAAAAAABAUEAAAAAAAIBOQAAAAAAAAFBAAAAAAABAVEAAAAAAAIBXQAAAAAAAwFVAAAAAAAAAVkAAAAAAAABVQAAAAAAAwFVAAAAAAACAV0AAAAAAAIBZQAAAAAAAgFhAAAAAAADAWUAAAAAAAABbQAAAAAAAQFxAAAAAAAAAXUAAAAAAAEBgQAAAAAAAwGBAAAAAAAAgYUAAAAAAAEBjQAAAAAAAIGVAAAAAAADgZkAAAAAAAKBmQAAAAAAAQGZAAAAAAAAAZ0AAAAAAAEBqQAAAAAAAAGdA",
          "dtype": "f8"
         },
         "yaxis": "y"
        },
        {
         "customdata": [
          [
           "rape"
          ],
          [
           "rape"
          ],
          [
           "rape"
          ],
          [
           "rape"
          ],
          [
           "rape"
          ],
          [
           "rape"
          ],
          [
           "rape"
          ],
          [
           "rape"
          ],
          [
           "rape"
          ],
          [
           "rape"
          ],
          [
           "rape"
          ],
          [
           "rape"
          ],
          [
           "rape"
          ],
          [
           "rape"
          ],
          [
           "rape"
          ],
          [
           "rape"
          ],
          [
           "rape"
          ],
          [
           "rape"
          ],
          [
           "rape"
          ],
          [
           "rape"
          ],
          [
           "rape"
          ],
          [
           "rape"
          ],
          [
           "rape"
          ],
          [
           "rape"
          ],
          [
           "rape"
          ],
          [
           "rape"
          ],
          [
           "rape"
          ],
          [
           "rape"
          ],
          [
           "rape"
          ],
          [
           "rape"
          ],
          [
           "rape"
          ],
          [
           "rape"
          ],
          [
           "rape"
          ],
          [
           "rape"
          ],
          [
           "rape"
          ],
          [
           "rape"
          ],
          [
           "rape"
          ],
          [
           "rape"
          ],
          [
           "rape"
          ],
          [
           "rape"
          ],
          [
           "rape"
          ],
          [
           "rape"
          ],
          [
           "rape"
          ],
          [
           "rape"
          ],
          [
           "rape"
          ],
          [
           "rape"
          ],
          [
           "rape"
          ],
          [
           "rape"
          ],
          [
           "rape"
          ],
          [
           "rape"
          ],
          [
           "rape"
          ],
          [
           "rape"
          ],
          [
           "rape"
          ],
          [
           "rape"
          ],
          [
           "rape"
          ],
          [
           "rape"
          ],
          [
           "rape"
          ],
          [
           "rape"
          ],
          [
           "rape"
          ],
          [
           "rape"
          ],
          [
           "rape"
          ],
          [
           "rape"
          ],
          [
           "rape"
          ],
          [
           "rape"
          ],
          [
           "rape"
          ],
          [
           "rape"
          ]
         ],
         "hovertemplate": "Crime=%{customdata[0]}<br>År=%{x}<br>Antal brott=%{y}<extra></extra>",
         "legendgroup": "rape",
         "line": {
          "color": "#ab63fa",
          "dash": "solid"
         },
         "marker": {
          "symbol": "circle"
         },
         "mode": "lines",
         "name": "rape",
         "showlegend": true,
         "type": "scattergl",
         "x": {
          "bdata": "ngefB6AHoQeiB6MHpAelB6YHpweoB6kHqgerB6wHrQeuB68HsAexB7IHswe0B7UHtge3B7gHuQe6B7sHvAe9B74HvwfAB8EHwgfDB8QHxQfGB8cHyAfJB8oHywfMB80HzgfPB9AH0QfSB9MH1AfVB9YH1wfYB9kH2gfbB9wH3QfeB98H",
          "dtype": "i2"
         },
         "xaxis": "x",
         "y": {
          "bdata": "AAAAAAAAFEAAAAAAAAAYQAAAAAAAABBAAAAAAAAAFEAAAAAAAAAUQAAAAAAAABRAAAAAAAAAFEAAAAAAAAAUQAAAAAAAABhAAAAAAAAAGEAAAAAAAAAcQAAAAAAAABxAAAAAAAAAHEAAAAAAAAAcQAAAAAAAACBAAAAAAAAAIEAAAAAAAAAgQAAAAAAAACBAAAAAAAAAIEAAAAAAAAAgQAAAAAAAACJAAAAAAAAAIEAAAAAAAAAcQAAAAAAAABxAAAAAAAAAIEAAAAAAAAAiQAAAAAAAACJAAAAAAAAAJEAAAAAAAAAkQAAAAAAAACZAAAAAAAAAJkAAAAAAAAAkQAAAAAAAACZAAAAAAAAAJkAAAAAAAAAoQAAAAAAAAChAAAAAAAAAKEAAAAAAAAAqQAAAAAAAADBAAAAAAAAAMUAAAAAAAAAwQAAAAAAAADFAAAAAAAAAM0AAAAAAAAA5QAAAAAAAADVAAAAAAAAAM0AAAAAAAAAyQAAAAAAAADNAAAAAAAAANkAAAAAAAAA4QAAAAAAAADdAAAAAAAAAN0AAAAAAAAA4QAAAAAAAAD1AAAAAAAAAPUAAAAAAAABFQAAAAAAAAEdAAAAAAAAASkAAAAAAAIBNQAAAAAAAAFBAAAAAAAAAUEAAAAAAAEBRQAAAAAAAgFBAAAAAAACAT0AAAAAAAEBRQAAAAAAAAE5A",
          "dtype": "f8"
         },
         "yaxis": "y"
        },
        {
         "customdata": [
          [
           "stealing.general"
          ],
          [
           "stealing.general"
          ],
          [
           "stealing.general"
          ],
          [
           "stealing.general"
          ],
          [
           "stealing.general"
          ],
          [
           "stealing.general"
          ],
          [
           "stealing.general"
          ],
          [
           "stealing.general"
          ],
          [
           "stealing.general"
          ],
          [
           "stealing.general"
          ],
          [
           "stealing.general"
          ],
          [
           "stealing.general"
          ],
          [
           "stealing.general"
          ],
          [
           "stealing.general"
          ],
          [
           "stealing.general"
          ],
          [
           "stealing.general"
          ],
          [
           "stealing.general"
          ],
          [
           "stealing.general"
          ],
          [
           "stealing.general"
          ],
          [
           "stealing.general"
          ],
          [
           "stealing.general"
          ],
          [
           "stealing.general"
          ],
          [
           "stealing.general"
          ],
          [
           "stealing.general"
          ],
          [
           "stealing.general"
          ],
          [
           "stealing.general"
          ],
          [
           "stealing.general"
          ],
          [
           "stealing.general"
          ],
          [
           "stealing.general"
          ],
          [
           "stealing.general"
          ],
          [
           "stealing.general"
          ],
          [
           "stealing.general"
          ],
          [
           "stealing.general"
          ],
          [
           "stealing.general"
          ],
          [
           "stealing.general"
          ],
          [
           "stealing.general"
          ],
          [
           "stealing.general"
          ],
          [
           "stealing.general"
          ],
          [
           "stealing.general"
          ],
          [
           "stealing.general"
          ],
          [
           "stealing.general"
          ],
          [
           "stealing.general"
          ],
          [
           "stealing.general"
          ],
          [
           "stealing.general"
          ],
          [
           "stealing.general"
          ],
          [
           "stealing.general"
          ],
          [
           "stealing.general"
          ],
          [
           "stealing.general"
          ],
          [
           "stealing.general"
          ],
          [
           "stealing.general"
          ],
          [
           "stealing.general"
          ],
          [
           "stealing.general"
          ],
          [
           "stealing.general"
          ],
          [
           "stealing.general"
          ],
          [
           "stealing.general"
          ],
          [
           "stealing.general"
          ],
          [
           "stealing.general"
          ],
          [
           "stealing.general"
          ],
          [
           "stealing.general"
          ],
          [
           "stealing.general"
          ],
          [
           "stealing.general"
          ],
          [
           "stealing.general"
          ],
          [
           "stealing.general"
          ],
          [
           "stealing.general"
          ],
          [
           "stealing.general"
          ],
          [
           "stealing.general"
          ]
         ],
         "hovertemplate": "Crime=%{customdata[0]}<br>År=%{x}<br>Antal brott=%{y}<extra></extra>",
         "legendgroup": "stealing.general",
         "line": {
          "color": "#FFA15A",
          "dash": "solid"
         },
         "marker": {
          "symbol": "circle"
         },
         "mode": "lines",
         "name": "stealing.general",
         "showlegend": true,
         "type": "scattergl",
         "x": {
          "bdata": "ngefB6AHoQeiB6MHpAelB6YHpweoB6kHqgerB6wHrQeuB68HsAexB7IHswe0B7UHtge3B7gHuQe6B7sHvAe9B74HvwfAB8EHwgfDB8QHxQfGB8cHyAfJB8oHywfMB80HzgfPB9AH0QfSB9MH1AfVB9YH1wfYB9kH2gfbB9wH3QfeB98H",
          "dtype": "i2"
         },
         "xaxis": "x",
         "y": {
          "bdata": "AAAAAAComEAAAAAAAKydQAAAAAAA2JxAAAAAAAAknkAAAAAAAPSeQAAAAAAAnKFAAAAAAAB2okAAAAAAAJakQAAAAAAAgKZAAAAAAADSpUAAAAAAAFKlQAAAAAAAwqVAAAAAAAC2pkAAAAAAAPSnQAAAAAAAEqpAAAAAAADcrEAAAAAAADCtQAAAAAAAxq5AAAAAAACQsEAAAAAAAC6wQAAAAAAACrNAAAAAAAD1tUAAAAAAAJ+1QAAAAAAADbNAAAAAAABos0AAAAAAAE22QAAAAAAA9LdAAAAAAADOuEAAAAAAAHO3QAAAAAAAFbdAAAAAAABUuEAAAAAAAC+4QAAAAAAAjrlAAAAAAAB6uUAAAAAAABi7QAAAAAAA9bxAAAAAAABPv0AAAAAAAE2+QAAAAAAA5b1AAAAAAACsv0AAAAAAAOXAQAAAAAAAncBAAAAAAAB9wEAAAAAAAFa/QAAAAAAAEL1AAAAAAABPvkAAAAAAAL2+QAAAAAAAWsBAAAAAAADMv0AAAAAAAF2/QAAAAAAA/r5AAAAAAABHvUAAAAAAAK69QAAAAAAAFr1AAAAAAABPvEAAAAAAAEO7QAAAAAAAEblAAAAAAACeuEAAAAAAAMu3QAAAAAAAO7dAAAAAAAD/tUAAAAAAAJe2QAAAAAAA7bVAAAAAAACwtUAAAAAAAMS1QAAAAAAAHLVA",
          "dtype": "f8"
         },
         "yaxis": "y"
        },
        {
         "customdata": [
          [
           "burglary"
          ],
          [
           "burglary"
          ],
          [
           "burglary"
          ],
          [
           "burglary"
          ],
          [
           "burglary"
          ],
          [
           "burglary"
          ],
          [
           "burglary"
          ],
          [
           "burglary"
          ],
          [
           "burglary"
          ],
          [
           "burglary"
          ],
          [
           "burglary"
          ],
          [
           "burglary"
          ],
          [
           "burglary"
          ],
          [
           "burglary"
          ],
          [
           "burglary"
          ],
          [
           "burglary"
          ],
          [
           "burglary"
          ],
          [
           "burglary"
          ],
          [
           "burglary"
          ],
          [
           "burglary"
          ],
          [
           "burglary"
          ],
          [
           "burglary"
          ],
          [
           "burglary"
          ],
          [
           "burglary"
          ],
          [
           "burglary"
          ],
          [
           "burglary"
          ],
          [
           "burglary"
          ],
          [
           "burglary"
          ],
          [
           "burglary"
          ],
          [
           "burglary"
          ],
          [
           "burglary"
          ],
          [
           "burglary"
          ],
          [
           "burglary"
          ],
          [
           "burglary"
          ],
          [
           "burglary"
          ],
          [
           "burglary"
          ],
          [
           "burglary"
          ],
          [
           "burglary"
          ],
          [
           "burglary"
          ],
          [
           "burglary"
          ],
          [
           "burglary"
          ],
          [
           "burglary"
          ],
          [
           "burglary"
          ],
          [
           "burglary"
          ],
          [
           "burglary"
          ],
          [
           "burglary"
          ],
          [
           "burglary"
          ],
          [
           "burglary"
          ],
          [
           "burglary"
          ],
          [
           "burglary"
          ],
          [
           "burglary"
          ],
          [
           "burglary"
          ],
          [
           "burglary"
          ],
          [
           "burglary"
          ],
          [
           "burglary"
          ],
          [
           "burglary"
          ],
          [
           "burglary"
          ],
          [
           "burglary"
          ],
          [
           "burglary"
          ],
          [
           "burglary"
          ],
          [
           "burglary"
          ],
          [
           "burglary"
          ],
          [
           "burglary"
          ],
          [
           "burglary"
          ],
          [
           "burglary"
          ],
          [
           "burglary"
          ]
         ],
         "hovertemplate": "Crime=%{customdata[0]}<br>År=%{x}<br>Antal brott=%{y}<extra></extra>",
         "legendgroup": "burglary",
         "line": {
          "color": "#19d3f3",
          "dash": "solid"
         },
         "marker": {
          "symbol": "circle"
         },
         "mode": "lines",
         "name": "burglary",
         "showlegend": true,
         "type": "scattergl",
         "x": {
          "bdata": "ngefB6AHoQeiB6MHpAelB6YHpweoB6kHqgerB6wHrQeuB68HsAexB7IHswe0B7UHtge3B7gHuQe6B7sHvAe9B74HvwfAB8EHwgfDB8QHxQfGB8cHyAfJB8oHywfMB80HzgfPB9AH0QfSB9MH1AfVB9YH1wfYB9kH2gfbB9wH3QfeB98H",
          "dtype": "i2"
         },
         "xaxis": "x",
         "y": {
          "bdata": "AAAAAABwckAAAAAAAGB1QAAAAAAAQHdAAAAAAACQdkAAAAAAAJB4QAAAAAAAsHxAAAAAAABgfUAAAAAAACCCQAAAAAAAoIZAAAAAAABYhkAAAAAAAIiHQAAAAAAAeIdAAAAAAACgiUAAAAAAADCLQAAAAAAAmI1AAAAAAABIkEAAAAAAAByQQAAAAAAA+JBAAAAAAABAk0AAAAAAAKyRQAAAAAAA6JRAAAAAAADomUAAAAAAAICYQAAAAAAAFJZAAAAAAADolUAAAAAAAHyZQAAAAAAAZJxAAAAAAABYnUAAAAAAADSbQAAAAAAAQJpAAAAAAAAsmkAAAAAAAJyZQAAAAAAA+JlAAAAAAAAQmkAAAAAAAJSaQAAAAAAADJtAAAAAAABcnEAAAAAAAHyaQAAAAAAAQJhAAAAAAAA8mUAAAAAAACCcQAAAAAAARJxAAAAAAAAcnEAAAAAAAOibQAAAAAAAJJlAAAAAAAA8mUAAAAAAAJyZQAAAAAAAFJpAAAAAAABgmEAAAAAAAJyWQAAAAAAA/JZAAAAAAAC4lEAAAAAAAOCUQAAAAAAAWJVAAAAAAAC4lEAAAAAAAJiTQAAAAAAAGJFAAAAAAACEkEAAAAAAAPiPQAAAAAAACJBAAAAAAADIjkAAAAAAABiPQAAAAAAA0IxAAAAAAADAi0AAAAAAAIiMQAAAAAAAqIxA",
          "dtype": "f8"
         },
         "yaxis": "y"
        },
        {
         "customdata": [
          [
           "house.theft"
          ],
          [
           "house.theft"
          ],
          [
           "house.theft"
          ],
          [
           "house.theft"
          ],
          [
           "house.theft"
          ],
          [
           "house.theft"
          ],
          [
           "house.theft"
          ],
          [
           "house.theft"
          ],
          [
           "house.theft"
          ],
          [
           "house.theft"
          ],
          [
           "house.theft"
          ],
          [
           "house.theft"
          ],
          [
           "house.theft"
          ],
          [
           "house.theft"
          ],
          [
           "house.theft"
          ],
          [
           "house.theft"
          ],
          [
           "house.theft"
          ],
          [
           "house.theft"
          ],
          [
           "house.theft"
          ],
          [
           "house.theft"
          ],
          [
           "house.theft"
          ],
          [
           "house.theft"
          ],
          [
           "house.theft"
          ],
          [
           "house.theft"
          ],
          [
           "house.theft"
          ],
          [
           "house.theft"
          ],
          [
           "house.theft"
          ],
          [
           "house.theft"
          ],
          [
           "house.theft"
          ],
          [
           "house.theft"
          ],
          [
           "house.theft"
          ],
          [
           "house.theft"
          ],
          [
           "house.theft"
          ],
          [
           "house.theft"
          ],
          [
           "house.theft"
          ],
          [
           "house.theft"
          ],
          [
           "house.theft"
          ],
          [
           "house.theft"
          ],
          [
           "house.theft"
          ],
          [
           "house.theft"
          ],
          [
           "house.theft"
          ],
          [
           "house.theft"
          ],
          [
           "house.theft"
          ],
          [
           "house.theft"
          ],
          [
           "house.theft"
          ],
          [
           "house.theft"
          ],
          [
           "house.theft"
          ],
          [
           "house.theft"
          ],
          [
           "house.theft"
          ],
          [
           "house.theft"
          ],
          [
           "house.theft"
          ],
          [
           "house.theft"
          ],
          [
           "house.theft"
          ],
          [
           "house.theft"
          ],
          [
           "house.theft"
          ],
          [
           "house.theft"
          ],
          [
           "house.theft"
          ],
          [
           "house.theft"
          ],
          [
           "house.theft"
          ],
          [
           "house.theft"
          ],
          [
           "house.theft"
          ],
          [
           "house.theft"
          ],
          [
           "house.theft"
          ],
          [
           "house.theft"
          ],
          [
           "house.theft"
          ],
          [
           "house.theft"
          ]
         ],
         "hovertemplate": "Crime=%{customdata[0]}<br>År=%{x}<br>Antal brott=%{y}<extra></extra>",
         "legendgroup": "house.theft",
         "line": {
          "color": "#FF6692",
          "dash": "solid"
         },
         "marker": {
          "symbol": "circle"
         },
         "mode": "lines",
         "name": "house.theft",
         "showlegend": true,
         "type": "scattergl",
         "x": {
          "bdata": "ngefB6AHoQeiB6MHpAelB6YHpweoB6kHqgerB6wHrQeuB68HsAexB7IHswe0B7UHtge3B7gHuQe6B7sHvAe9B74HvwfAB8EHwgfDB8QHxQfGB8cHyAfJB8oHywfMB80HzgfPB9AH0QfSB9MH1AfVB9YH1wfYB9kH2gfbB9wH3QfeB98H",
          "dtype": "i2"
         },
         "xaxis": "x",
         "y": {
          "bdata": "AAAAAAAAAAAAAAAAAAAAAAAAAAAAAAAAAAAAAAAAAAAAAAAAAAAAAAAAAAAAAAAAAAAAAAAAAAAAAAAAAAAAAAAAAAAAAAAAAAAAAAAAAAAAAAAAAAAAAAAAAAAAAAAAAAAAAAAAAAAAAAAAAAAAAAAAAAAAAAAAAAAAAADAWEAAAAAAAEBaQAAAAAAAAFtAAAAAAACAXEAAAAAAAABdQAAAAAAAIGFAAAAAAADgZkAAAAAAAABpQAAAAAAAAGdAAAAAAAAgaEAAAAAAAMBuQAAAAAAA8HBAAAAAAADgcEAAAAAAABBwQAAAAAAAoGpAAAAAAACgbkAAAAAAACBuQAAAAAAAoG9AAAAAAADwcUAAAAAAAIByQAAAAAAAMHJAAAAAAABgcUAAAAAAAEBuQAAAAAAA4G1AAAAAAABgb0AAAAAAAGBwQAAAAAAAAHBAAAAAAAAgb0AAAAAAAABtQAAAAAAAIGlAAAAAAACgZ0AAAAAAAMBnQAAAAAAAAGpAAAAAAADAaEAAAAAAAKBnQAAAAAAAwGhAAAAAAABgZUAAAAAAAOBmQAAAAAAAIGhAAAAAAABgaEAAAAAAAABnQAAAAAAAoGRAAAAAAAAgZ0AAAAAAAMBoQAAAAAAAgGtAAAAAAABgakAAAAAAAGBtQAAAAAAAAGxAAAAAAABga0AAAAAAAOBsQAAAAAAAAG1A",
          "dtype": "f8"
         },
         "yaxis": "y"
        },
        {
         "customdata": [
          [
           "vehicle.theft"
          ],
          [
           "vehicle.theft"
          ],
          [
           "vehicle.theft"
          ],
          [
           "vehicle.theft"
          ],
          [
           "vehicle.theft"
          ],
          [
           "vehicle.theft"
          ],
          [
           "vehicle.theft"
          ],
          [
           "vehicle.theft"
          ],
          [
           "vehicle.theft"
          ],
          [
           "vehicle.theft"
          ],
          [
           "vehicle.theft"
          ],
          [
           "vehicle.theft"
          ],
          [
           "vehicle.theft"
          ],
          [
           "vehicle.theft"
          ],
          [
           "vehicle.theft"
          ],
          [
           "vehicle.theft"
          ],
          [
           "vehicle.theft"
          ],
          [
           "vehicle.theft"
          ],
          [
           "vehicle.theft"
          ],
          [
           "vehicle.theft"
          ],
          [
           "vehicle.theft"
          ],
          [
           "vehicle.theft"
          ],
          [
           "vehicle.theft"
          ],
          [
           "vehicle.theft"
          ],
          [
           "vehicle.theft"
          ],
          [
           "vehicle.theft"
          ],
          [
           "vehicle.theft"
          ],
          [
           "vehicle.theft"
          ],
          [
           "vehicle.theft"
          ],
          [
           "vehicle.theft"
          ],
          [
           "vehicle.theft"
          ],
          [
           "vehicle.theft"
          ],
          [
           "vehicle.theft"
          ],
          [
           "vehicle.theft"
          ],
          [
           "vehicle.theft"
          ],
          [
           "vehicle.theft"
          ],
          [
           "vehicle.theft"
          ],
          [
           "vehicle.theft"
          ],
          [
           "vehicle.theft"
          ],
          [
           "vehicle.theft"
          ],
          [
           "vehicle.theft"
          ],
          [
           "vehicle.theft"
          ],
          [
           "vehicle.theft"
          ],
          [
           "vehicle.theft"
          ],
          [
           "vehicle.theft"
          ],
          [
           "vehicle.theft"
          ],
          [
           "vehicle.theft"
          ],
          [
           "vehicle.theft"
          ],
          [
           "vehicle.theft"
          ],
          [
           "vehicle.theft"
          ],
          [
           "vehicle.theft"
          ],
          [
           "vehicle.theft"
          ],
          [
           "vehicle.theft"
          ],
          [
           "vehicle.theft"
          ],
          [
           "vehicle.theft"
          ],
          [
           "vehicle.theft"
          ],
          [
           "vehicle.theft"
          ],
          [
           "vehicle.theft"
          ],
          [
           "vehicle.theft"
          ],
          [
           "vehicle.theft"
          ],
          [
           "vehicle.theft"
          ],
          [
           "vehicle.theft"
          ],
          [
           "vehicle.theft"
          ],
          [
           "vehicle.theft"
          ],
          [
           "vehicle.theft"
          ],
          [
           "vehicle.theft"
          ]
         ],
         "hovertemplate": "Crime=%{customdata[0]}<br>År=%{x}<br>Antal brott=%{y}<extra></extra>",
         "legendgroup": "vehicle.theft",
         "line": {
          "color": "#B6E880",
          "dash": "solid"
         },
         "marker": {
          "symbol": "circle"
         },
         "mode": "lines",
         "name": "vehicle.theft",
         "showlegend": true,
         "type": "scattergl",
         "x": {
          "bdata": "ngefB6AHoQeiB6MHpAelB6YHpweoB6kHqgerB6wHrQeuB68HsAexB7IHswe0B7UHtge3B7gHuQe6B7sHvAe9B74HvwfAB8EHwgfDB8QHxQfGB8cHyAfJB8oHywfMB80HzgfPB9AH0QfSB9MH1AfVB9YH1wfYB9kH2gfbB9wH3QfeB98H",
          "dtype": "i2"
         },
         "xaxis": "x",
         "y": {
          "bdata": "AAAAAAAAAAAAAAAAAAAAAAAAAAAAAAAAAAAAAAAAAAAAAAAAAAAAAAAAAAAAAAAAAAAAAAAAAAAAAAAAAKBuQAAAAAAAcHFAAAAAAADAbUAAAAAAAIBuQAAAAAAAcHFAAAAAAACwc0AAAAAAAJB0QAAAAAAAAHZAAAAAAADQeEAAAAAAAOB1QAAAAAAAAHhAAAAAAADAeEAAAAAAAAB4QAAAAAAAIHlAAAAAAACQfEAAAAAAAKB6QAAAAAAAwHdAAAAAAABAd0AAAAAAAAB8QAAAAAAAoIBAAAAAAADYgEAAAAAAAFB9QAAAAAAAwHlAAAAAAADQeUAAAAAAAJB4QAAAAAAA0HpAAAAAAAAwekAAAAAAAMB8QAAAAAAA2IBAAAAAAACwhEAAAAAAAMCFQAAAAAAAYIZAAAAAAABoiUAAAAAAAJCLQAAAAAAAkIlAAAAAAABwh0AAAAAAAOiFQAAAAAAAUINAAAAAAACYhEAAAAAAADiFQAAAAAAAgIdAAAAAAADwhkAAAAAAABiHQAAAAAAAQIZAAAAAAAAYhUAAAAAAADiFQAAAAAAAgIJAAAAAAABggEAAAAAAADB9QAAAAAAAIHlAAAAAAADgdUAAAAAAAABzQAAAAAAA4G9AAAAAAABgbEAAAAAAAKBqQAAAAAAAIGVAAAAAAADgY0AAAAAAAGBiQAAAAAAA4GBA",
          "dtype": "f8"
         },
         "yaxis": "y"
        },
        {
         "customdata": [
          [
           "out.of.vehicle.theft"
          ],
          [
           "out.of.vehicle.theft"
          ],
          [
           "out.of.vehicle.theft"
          ],
          [
           "out.of.vehicle.theft"
          ],
          [
           "out.of.vehicle.theft"
          ],
          [
           "out.of.vehicle.theft"
          ],
          [
           "out.of.vehicle.theft"
          ],
          [
           "out.of.vehicle.theft"
          ],
          [
           "out.of.vehicle.theft"
          ],
          [
           "out.of.vehicle.theft"
          ],
          [
           "out.of.vehicle.theft"
          ],
          [
           "out.of.vehicle.theft"
          ],
          [
           "out.of.vehicle.theft"
          ],
          [
           "out.of.vehicle.theft"
          ],
          [
           "out.of.vehicle.theft"
          ],
          [
           "out.of.vehicle.theft"
          ],
          [
           "out.of.vehicle.theft"
          ],
          [
           "out.of.vehicle.theft"
          ],
          [
           "out.of.vehicle.theft"
          ],
          [
           "out.of.vehicle.theft"
          ],
          [
           "out.of.vehicle.theft"
          ],
          [
           "out.of.vehicle.theft"
          ],
          [
           "out.of.vehicle.theft"
          ],
          [
           "out.of.vehicle.theft"
          ],
          [
           "out.of.vehicle.theft"
          ],
          [
           "out.of.vehicle.theft"
          ],
          [
           "out.of.vehicle.theft"
          ],
          [
           "out.of.vehicle.theft"
          ],
          [
           "out.of.vehicle.theft"
          ],
          [
           "out.of.vehicle.theft"
          ],
          [
           "out.of.vehicle.theft"
          ],
          [
           "out.of.vehicle.theft"
          ],
          [
           "out.of.vehicle.theft"
          ],
          [
           "out.of.vehicle.theft"
          ],
          [
           "out.of.vehicle.theft"
          ],
          [
           "out.of.vehicle.theft"
          ],
          [
           "out.of.vehicle.theft"
          ],
          [
           "out.of.vehicle.theft"
          ],
          [
           "out.of.vehicle.theft"
          ],
          [
           "out.of.vehicle.theft"
          ],
          [
           "out.of.vehicle.theft"
          ],
          [
           "out.of.vehicle.theft"
          ],
          [
           "out.of.vehicle.theft"
          ],
          [
           "out.of.vehicle.theft"
          ],
          [
           "out.of.vehicle.theft"
          ],
          [
           "out.of.vehicle.theft"
          ],
          [
           "out.of.vehicle.theft"
          ],
          [
           "out.of.vehicle.theft"
          ],
          [
           "out.of.vehicle.theft"
          ],
          [
           "out.of.vehicle.theft"
          ],
          [
           "out.of.vehicle.theft"
          ],
          [
           "out.of.vehicle.theft"
          ],
          [
           "out.of.vehicle.theft"
          ],
          [
           "out.of.vehicle.theft"
          ],
          [
           "out.of.vehicle.theft"
          ],
          [
           "out.of.vehicle.theft"
          ],
          [
           "out.of.vehicle.theft"
          ],
          [
           "out.of.vehicle.theft"
          ],
          [
           "out.of.vehicle.theft"
          ],
          [
           "out.of.vehicle.theft"
          ],
          [
           "out.of.vehicle.theft"
          ],
          [
           "out.of.vehicle.theft"
          ],
          [
           "out.of.vehicle.theft"
          ],
          [
           "out.of.vehicle.theft"
          ],
          [
           "out.of.vehicle.theft"
          ],
          [
           "out.of.vehicle.theft"
          ]
         ],
         "hovertemplate": "Crime=%{customdata[0]}<br>År=%{x}<br>Antal brott=%{y}<extra></extra>",
         "legendgroup": "out.of.vehicle.theft",
         "line": {
          "color": "#FF97FF",
          "dash": "solid"
         },
         "marker": {
          "symbol": "circle"
         },
         "mode": "lines",
         "name": "out.of.vehicle.theft",
         "showlegend": true,
         "type": "scattergl",
         "x": {
          "bdata": "ngefB6AHoQeiB6MHpAelB6YHpweoB6kHqgerB6wHrQeuB68HsAexB7IHswe0B7UHtge3B7gHuQe6B7sHvAe9B74HvwfAB8EHwgfDB8QHxQfGB8cHyAfJB8oHywfMB80HzgfPB9AH0QfSB9MH1AfVB9YH1wfYB9kH2gfbB9wH3QfeB98H",
          "dtype": "i2"
         },
         "xaxis": "x",
         "y": {
          "bdata": "AAAAAAAAAAAAAAAAAAAAAAAAAAAAAAAAAAAAAAAAAAAAAAAAAAAAAAAAAAAAAAAAAAAAAAAAAAAAAAAAAAAAAAAAAAAAAAAAAAAAAAAAAAAAAAAAAAAAAAAAAAAAAAAAAAAAAAAAAAAAAAAAAAAAAAAAAAAAAAAAAAAAAABohkAAAAAAAAiEQAAAAAAA+INAAAAAAACgg0AAAAAAAPCBQAAAAAAAsIVAAAAAAAAIi0AAAAAAAIiKQAAAAAAAgIZAAAAAAAAwiEAAAAAAAECPQAAAAAAAxJJAAAAAAAA0k0AAAAAAAACSQAAAAAAAQJJAAAAAAADokkAAAAAAAKSRQAAAAAAABJNAAAAAAADwkkAAAAAAACiVQAAAAAAAcJdAAAAAAABsnEAAAAAAADSdQAAAAAAAoJtAAAAAAACInEAAAAAAAMicQAAAAAAAGJpAAAAAAAB0mEAAAAAAAOiVQAAAAAAA/JNAAAAAAAAUlkAAAAAAAKiXQAAAAAAAzJpAAAAAAADQmkAAAAAAADibQAAAAAAAGJxAAAAAAAAkmUAAAAAAANCZQAAAAAAA7JhAAAAAAACsl0AAAAAAAFCWQAAAAAAAcJJAAAAAAABAkEAAAAAAADCLQAAAAAAAsIhAAAAAAADohkAAAAAAABCGQAAAAAAAeIRAAAAAAAD4gEAAAAAAAPCAQAAAAAAAQIFA",
          "dtype": "f8"
         },
         "yaxis": "y"
        },
        {
         "customdata": [
          [
           "shop.theft"
          ],
          [
           "shop.theft"
          ],
          [
           "shop.theft"
          ],
          [
           "shop.theft"
          ],
          [
           "shop.theft"
          ],
          [
           "shop.theft"
          ],
          [
           "shop.theft"
          ],
          [
           "shop.theft"
          ],
          [
           "shop.theft"
          ],
          [
           "shop.theft"
          ],
          [
           "shop.theft"
          ],
          [
           "shop.theft"
          ],
          [
           "shop.theft"
          ],
          [
           "shop.theft"
          ],
          [
           "shop.theft"
          ],
          [
           "shop.theft"
          ],
          [
           "shop.theft"
          ],
          [
           "shop.theft"
          ],
          [
           "shop.theft"
          ],
          [
           "shop.theft"
          ],
          [
           "shop.theft"
          ],
          [
           "shop.theft"
          ],
          [
           "shop.theft"
          ],
          [
           "shop.theft"
          ],
          [
           "shop.theft"
          ],
          [
           "shop.theft"
          ],
          [
           "shop.theft"
          ],
          [
           "shop.theft"
          ],
          [
           "shop.theft"
          ],
          [
           "shop.theft"
          ],
          [
           "shop.theft"
          ],
          [
           "shop.theft"
          ],
          [
           "shop.theft"
          ],
          [
           "shop.theft"
          ],
          [
           "shop.theft"
          ],
          [
           "shop.theft"
          ],
          [
           "shop.theft"
          ],
          [
           "shop.theft"
          ],
          [
           "shop.theft"
          ],
          [
           "shop.theft"
          ],
          [
           "shop.theft"
          ],
          [
           "shop.theft"
          ],
          [
           "shop.theft"
          ],
          [
           "shop.theft"
          ],
          [
           "shop.theft"
          ],
          [
           "shop.theft"
          ],
          [
           "shop.theft"
          ],
          [
           "shop.theft"
          ],
          [
           "shop.theft"
          ],
          [
           "shop.theft"
          ],
          [
           "shop.theft"
          ],
          [
           "shop.theft"
          ],
          [
           "shop.theft"
          ],
          [
           "shop.theft"
          ],
          [
           "shop.theft"
          ],
          [
           "shop.theft"
          ],
          [
           "shop.theft"
          ],
          [
           "shop.theft"
          ],
          [
           "shop.theft"
          ],
          [
           "shop.theft"
          ],
          [
           "shop.theft"
          ],
          [
           "shop.theft"
          ],
          [
           "shop.theft"
          ],
          [
           "shop.theft"
          ],
          [
           "shop.theft"
          ],
          [
           "shop.theft"
          ]
         ],
         "hovertemplate": "Crime=%{customdata[0]}<br>År=%{x}<br>Antal brott=%{y}<extra></extra>",
         "legendgroup": "shop.theft",
         "line": {
          "color": "#FECB52",
          "dash": "solid"
         },
         "marker": {
          "symbol": "circle"
         },
         "mode": "lines",
         "name": "shop.theft",
         "showlegend": true,
         "type": "scattergl",
         "x": {
          "bdata": "ngefB6AHoQeiB6MHpAelB6YHpweoB6kHqgerB6wHrQeuB68HsAexB7IHswe0B7UHtge3B7gHuQe6B7sHvAe9B74HvwfAB8EHwgfDB8QHxQfGB8cHyAfJB8oHywfMB80HzgfPB9AH0QfSB9MH1AfVB9YH1wfYB9kH2gfbB9wH3QfeB98H",
          "dtype": "i2"
         },
         "xaxis": "x",
         "y": {
          "bdata": "AAAAAAAAAAAAAAAAAAAAAAAAAAAAAAAAAAAAAAAAAAAAAAAAAAAAAAAAAAAAAAAAAAAAAAAAAAAAAAAAAAAAAAAAAAAAAAAAAAAAAAAAAAAAAAAAAAAAAAAAAAAAAAAAAAAAAAAAAAAAAAAAAAAAAAAAAAAAAAAAAAAAAADAXkAAAAAAAABlQAAAAAAAgGlAAAAAAAAwckAAAAAAAOBvQAAAAAAAAHJAAAAAAADwcUAAAAAAAPB0QAAAAAAAoHdAAAAAAABAbEAAAAAAAEB0QAAAAAAAwHRAAAAAAADgd0AAAAAAALB3QAAAAAAAsHdAAAAAAABwekAAAAAAACB8QAAAAAAAWIBAAAAAAAAIgUAAAAAAAPCCQAAAAAAA2IZAAAAAAAAwh0AAAAAAAMiFQAAAAAAA6IVAAAAAAAAIhkAAAAAAAJCHQAAAAAAAOIlAAAAAAADgh0AAAAAAAPiFQAAAAAAA2INAAAAAAADIhEAAAAAAAOCFQAAAAAAAYIdAAAAAAAD4hUAAAAAAANCDQAAAAAAAiIJAAAAAAAAwgkAAAAAAAJiCQAAAAAAAoIRAAAAAAAB4hUAAAAAAADCEQAAAAAAAWINAAAAAAAAAhEAAAAAAAKiFQAAAAAAAMIdAAAAAAABghUAAAAAAALiEQAAAAAAA2INAAAAAAADQf0AAAAAAAJB/QAAAAAAAGIBA",
          "dtype": "f8"
         },
         "yaxis": "y"
        },
        {
         "customdata": [
          [
           "robbery"
          ],
          [
           "robbery"
          ],
          [
           "robbery"
          ],
          [
           "robbery"
          ],
          [
           "robbery"
          ],
          [
           "robbery"
          ],
          [
           "robbery"
          ],
          [
           "robbery"
          ],
          [
           "robbery"
          ],
          [
           "robbery"
          ],
          [
           "robbery"
          ],
          [
           "robbery"
          ],
          [
           "robbery"
          ],
          [
           "robbery"
          ],
          [
           "robbery"
          ],
          [
           "robbery"
          ],
          [
           "robbery"
          ],
          [
           "robbery"
          ],
          [
           "robbery"
          ],
          [
           "robbery"
          ],
          [
           "robbery"
          ],
          [
           "robbery"
          ],
          [
           "robbery"
          ],
          [
           "robbery"
          ],
          [
           "robbery"
          ],
          [
           "robbery"
          ],
          [
           "robbery"
          ],
          [
           "robbery"
          ],
          [
           "robbery"
          ],
          [
           "robbery"
          ],
          [
           "robbery"
          ],
          [
           "robbery"
          ],
          [
           "robbery"
          ],
          [
           "robbery"
          ],
          [
           "robbery"
          ],
          [
           "robbery"
          ],
          [
           "robbery"
          ],
          [
           "robbery"
          ],
          [
           "robbery"
          ],
          [
           "robbery"
          ],
          [
           "robbery"
          ],
          [
           "robbery"
          ],
          [
           "robbery"
          ],
          [
           "robbery"
          ],
          [
           "robbery"
          ],
          [
           "robbery"
          ],
          [
           "robbery"
          ],
          [
           "robbery"
          ],
          [
           "robbery"
          ],
          [
           "robbery"
          ],
          [
           "robbery"
          ],
          [
           "robbery"
          ],
          [
           "robbery"
          ],
          [
           "robbery"
          ],
          [
           "robbery"
          ],
          [
           "robbery"
          ],
          [
           "robbery"
          ],
          [
           "robbery"
          ],
          [
           "robbery"
          ],
          [
           "robbery"
          ],
          [
           "robbery"
          ],
          [
           "robbery"
          ],
          [
           "robbery"
          ],
          [
           "robbery"
          ],
          [
           "robbery"
          ],
          [
           "robbery"
          ]
         ],
         "hovertemplate": "Crime=%{customdata[0]}<br>År=%{x}<br>Antal brott=%{y}<extra></extra>",
         "legendgroup": "robbery",
         "line": {
          "color": "#636efa",
          "dash": "solid"
         },
         "marker": {
          "symbol": "circle"
         },
         "mode": "lines",
         "name": "robbery",
         "showlegend": true,
         "type": "scattergl",
         "x": {
          "bdata": "ngefB6AHoQeiB6MHpAelB6YHpweoB6kHqgerB6wHrQeuB68HsAexB7IHswe0B7UHtge3B7gHuQe6B7sHvAe9B74HvwfAB8EHwgfDB8QHxQfGB8cHyAfJB8oHywfMB80HzgfPB9AH0QfSB9MH1AfVB9YH1wfYB9kH2gfbB9wH3QfeB98H",
          "dtype": "i2"
         },
         "xaxis": "x",
         "y": {
          "bdata": "AAAAAAAACEAAAAAAAAAIQAAAAAAAAAhAAAAAAAAAEEAAAAAAAAAQQAAAAAAAABBAAAAAAAAAGEAAAAAAAAAYQAAAAAAAABhAAAAAAAAAGEAAAAAAAAAYQAAAAAAAABxAAAAAAAAAHEAAAAAAAAAgQAAAAAAAACJAAAAAAAAAKEAAAAAAAAAsQAAAAAAAACpAAAAAAAAALkAAAAAAAAAwQAAAAAAAADNAAAAAAAAANUAAAAAAAAA5QAAAAAAAADpAAAAAAAAAPEAAAAAAAAA9QAAAAAAAgEBAAAAAAACAREAAAAAAAABFQAAAAAAAgEJAAAAAAACAREAAAAAAAIBDQAAAAAAAAEVAAAAAAAAARUAAAAAAAABGQAAAAAAAAEdAAAAAAACARkAAAAAAAIBHQAAAAAAAAElAAAAAAACATkAAAAAAAIBRQAAAAAAAAFJAAAAAAAAAUkAAAAAAAIBRQAAAAAAAgE5AAAAAAABAUEAAAAAAAIBQQAAAAAAAwFJAAAAAAAAAU0AAAAAAAEBYQAAAAAAAQFlAAAAAAAAAWEAAAAAAAMBYQAAAAAAAwFdAAAAAAAAAWEAAAAAAAABaQAAAAAAAwFdAAAAAAADAV0AAAAAAAEBYQAAAAAAAwFlAAAAAAACAWEAAAAAAAMBZQAAAAAAAQFhAAAAAAADAVUAAAAAAAIBVQAAAAAAAgFVA",
          "dtype": "f8"
         },
         "yaxis": "y"
        },
        {
         "customdata": [
          [
           "fraud"
          ],
          [
           "fraud"
          ],
          [
           "fraud"
          ],
          [
           "fraud"
          ],
          [
           "fraud"
          ],
          [
           "fraud"
          ],
          [
           "fraud"
          ],
          [
           "fraud"
          ],
          [
           "fraud"
          ],
          [
           "fraud"
          ],
          [
           "fraud"
          ],
          [
           "fraud"
          ],
          [
           "fraud"
          ],
          [
           "fraud"
          ],
          [
           "fraud"
          ],
          [
           "fraud"
          ],
          [
           "fraud"
          ],
          [
           "fraud"
          ],
          [
           "fraud"
          ],
          [
           "fraud"
          ],
          [
           "fraud"
          ],
          [
           "fraud"
          ],
          [
           "fraud"
          ],
          [
           "fraud"
          ],
          [
           "fraud"
          ],
          [
           "fraud"
          ],
          [
           "fraud"
          ],
          [
           "fraud"
          ],
          [
           "fraud"
          ],
          [
           "fraud"
          ],
          [
           "fraud"
          ],
          [
           "fraud"
          ],
          [
           "fraud"
          ],
          [
           "fraud"
          ],
          [
           "fraud"
          ],
          [
           "fraud"
          ],
          [
           "fraud"
          ],
          [
           "fraud"
          ],
          [
           "fraud"
          ],
          [
           "fraud"
          ],
          [
           "fraud"
          ],
          [
           "fraud"
          ],
          [
           "fraud"
          ],
          [
           "fraud"
          ],
          [
           "fraud"
          ],
          [
           "fraud"
          ],
          [
           "fraud"
          ],
          [
           "fraud"
          ],
          [
           "fraud"
          ],
          [
           "fraud"
          ],
          [
           "fraud"
          ],
          [
           "fraud"
          ],
          [
           "fraud"
          ],
          [
           "fraud"
          ],
          [
           "fraud"
          ],
          [
           "fraud"
          ],
          [
           "fraud"
          ],
          [
           "fraud"
          ],
          [
           "fraud"
          ],
          [
           "fraud"
          ],
          [
           "fraud"
          ],
          [
           "fraud"
          ],
          [
           "fraud"
          ],
          [
           "fraud"
          ],
          [
           "fraud"
          ],
          [
           "fraud"
          ]
         ],
         "hovertemplate": "Crime=%{customdata[0]}<br>År=%{x}<br>Antal brott=%{y}<extra></extra>",
         "legendgroup": "fraud",
         "line": {
          "color": "#EF553B",
          "dash": "solid"
         },
         "marker": {
          "symbol": "circle"
         },
         "mode": "lines",
         "name": "fraud",
         "showlegend": true,
         "type": "scattergl",
         "x": {
          "bdata": "ngefB6AHoQeiB6MHpAelB6YHpweoB6kHqgerB6wHrQeuB68HsAexB7IHswe0B7UHtge3B7gHuQe6B7sHvAe9B74HvwfAB8EHwgfDB8QHxQfGB8cHyAfJB8oHywfMB80HzgfPB9AH0QfSB9MH1AfVB9YH1wfYB9kH2gfbB9wH3QfeB98H",
          "dtype": "i2"
         },
         "xaxis": "x",
         "y": {
          "bdata": "AAAAAAAgakAAAAAAAGBzQAAAAAAAIGtAAAAAAAAgakAAAAAAAIBtQAAAAAAAgG1AAAAAAABAbUAAAAAAAMBvQAAAAAAAwG9AAAAAAABgb0AAAAAAANBwQAAAAAAAAHBAAAAAAABAb0AAAAAAAOBwQAAAAAAAYHJAAAAAAADwekAAAAAAAIiAQAAAAAAAIIFAAAAAAAAIiUAAAAAAAEiFQAAAAAAA0ItAAAAAAACwhkAAAAAAAICCQAAAAAAAmIFAAAAAAADwgkAAAAAAADiDQAAAAAAAaIRAAAAAAAC4hUAAAAAAAIiDQAAAAAAAsIpAAAAAAAAEk0AAAAAAAESSQAAAAAAAuJFAAAAAAACMkEAAAAAAABSRQAAAAAAAvJFAAAAAAABUkkAAAAAAAMySQAAAAAAA9JJAAAAAAAD0kEAAAAAAAHyTQAAAAAAAeI1AAAAAAAAAikAAAAAAACCHQAAAAAAAyIFAAAAAAAAIgkAAAAAAAFCIQAAAAAAAYH9AAAAAAACQfkAAAAAAAPB/QAAAAAAAyIFAAAAAAACwfUAAAAAAABB+QAAAAAAA8IZAAAAAAAAIhEAAAAAAAPiDQAAAAAAAyINAAAAAAACIikAAAAAAAKiQQAAAAAAAOJJAAAAAAABskUAAAAAAABCTQAAAAAAAMJVAAAAAAAAkmEAAAAAAACiZQAAAAAAAoJ1A",
          "dtype": "f8"
         },
         "yaxis": "y"
        },
        {
         "customdata": [
          [
           "criminal.damage"
          ],
          [
           "criminal.damage"
          ],
          [
           "criminal.damage"
          ],
          [
           "criminal.damage"
          ],
          [
           "criminal.damage"
          ],
          [
           "criminal.damage"
          ],
          [
           "criminal.damage"
          ],
          [
           "criminal.damage"
          ],
          [
           "criminal.damage"
          ],
          [
           "criminal.damage"
          ],
          [
           "criminal.damage"
          ],
          [
           "criminal.damage"
          ],
          [
           "criminal.damage"
          ],
          [
           "criminal.damage"
          ],
          [
           "criminal.damage"
          ],
          [
           "criminal.damage"
          ],
          [
           "criminal.damage"
          ],
          [
           "criminal.damage"
          ],
          [
           "criminal.damage"
          ],
          [
           "criminal.damage"
          ],
          [
           "criminal.damage"
          ],
          [
           "criminal.damage"
          ],
          [
           "criminal.damage"
          ],
          [
           "criminal.damage"
          ],
          [
           "criminal.damage"
          ],
          [
           "criminal.damage"
          ],
          [
           "criminal.damage"
          ],
          [
           "criminal.damage"
          ],
          [
           "criminal.damage"
          ],
          [
           "criminal.damage"
          ],
          [
           "criminal.damage"
          ],
          [
           "criminal.damage"
          ],
          [
           "criminal.damage"
          ],
          [
           "criminal.damage"
          ],
          [
           "criminal.damage"
          ],
          [
           "criminal.damage"
          ],
          [
           "criminal.damage"
          ],
          [
           "criminal.damage"
          ],
          [
           "criminal.damage"
          ],
          [
           "criminal.damage"
          ],
          [
           "criminal.damage"
          ],
          [
           "criminal.damage"
          ],
          [
           "criminal.damage"
          ],
          [
           "criminal.damage"
          ],
          [
           "criminal.damage"
          ],
          [
           "criminal.damage"
          ],
          [
           "criminal.damage"
          ],
          [
           "criminal.damage"
          ],
          [
           "criminal.damage"
          ],
          [
           "criminal.damage"
          ],
          [
           "criminal.damage"
          ],
          [
           "criminal.damage"
          ],
          [
           "criminal.damage"
          ],
          [
           "criminal.damage"
          ],
          [
           "criminal.damage"
          ],
          [
           "criminal.damage"
          ],
          [
           "criminal.damage"
          ],
          [
           "criminal.damage"
          ],
          [
           "criminal.damage"
          ],
          [
           "criminal.damage"
          ],
          [
           "criminal.damage"
          ],
          [
           "criminal.damage"
          ],
          [
           "criminal.damage"
          ],
          [
           "criminal.damage"
          ],
          [
           "criminal.damage"
          ],
          [
           "criminal.damage"
          ]
         ],
         "hovertemplate": "Crime=%{customdata[0]}<br>År=%{x}<br>Antal brott=%{y}<extra></extra>",
         "legendgroup": "criminal.damage",
         "line": {
          "color": "#00cc96",
          "dash": "solid"
         },
         "marker": {
          "symbol": "circle"
         },
         "mode": "lines",
         "name": "criminal.damage",
         "showlegend": true,
         "type": "scattergl",
         "x": {
          "bdata": "ngefB6AHoQeiB6MHpAelB6YHpweoB6kHqgerB6wHrQeuB68HsAexB7IHswe0B7UHtge3B7gHuQe6B7sHvAe9B74HvwfAB8EHwgfDB8QHxQfGB8cHyAfJB8oHywfMB80HzgfPB9AH0QfSB9MH1AfVB9YH1wfYB9kH2gfbB9wH3QfeB98H",
          "dtype": "i2"
         },
         "xaxis": "x",
         "y": {
          "bdata": "AAAAAAAAUkAAAAAAAEBSQAAAAAAAgFRAAAAAAAAAVkAAAAAAAEBZQAAAAAAAwFtAAAAAAACgYEAAAAAAAGBjQAAAAAAA4GRAAAAAAABgZkAAAAAAAABmQAAAAAAAwGhAAAAAAACgaUAAAAAAAGBpQAAAAAAAwG1AAAAAAACQckAAAAAAAPBxQAAAAAAAoHNAAAAAAADAdkAAAAAAAIB3QAAAAAAAUHpAAAAAAACwfEAAAAAAAIB8QAAAAAAAMH5AAAAAAACIgUAAAAAAAOCEQAAAAAAA4IRAAAAAAACYh0AAAAAAACiHQAAAAAAA8IZAAAAAAAA4hkAAAAAAAKCHQAAAAAAAoIlAAAAAAACAiUAAAAAAAACLQAAAAAAAsItAAAAAAADojUAAAAAAAJCOQAAAAAAAwI9AAAAAAAAckUAAAAAAALSRQAAAAAAAAJFAAAAAAAD8kEAAAAAAAPSQQAAAAAAA6JFAAAAAAAD0kkAAAAAAAFiTQAAAAAAAoJRAAAAAAABIlUAAAAAAAMiTQAAAAAAAxJVAAAAAAACwl0AAAAAAAESYQAAAAAAAUJpAAAAAAACUmUAAAAAAAIiZQAAAAAAAbJlAAAAAAACYnkAAAAAAAIagQAAAAAAA/qBAAAAAAACAm0AAAAAAALibQAAAAAAAAJlAAAAAAAD4lkAAAAAAAFyYQAAAAAAAFJ9A",
          "dtype": "f8"
         },
         "yaxis": "y"
        },
        {
         "customdata": [
          [
           "other.penal.crimes"
          ],
          [
           "other.penal.crimes"
          ],
          [
           "other.penal.crimes"
          ],
          [
           "other.penal.crimes"
          ],
          [
           "other.penal.crimes"
          ],
          [
           "other.penal.crimes"
          ],
          [
           "other.penal.crimes"
          ],
          [
           "other.penal.crimes"
          ],
          [
           "other.penal.crimes"
          ],
          [
           "other.penal.crimes"
          ],
          [
           "other.penal.crimes"
          ],
          [
           "other.penal.crimes"
          ],
          [
           "other.penal.crimes"
          ],
          [
           "other.penal.crimes"
          ],
          [
           "other.penal.crimes"
          ],
          [
           "other.penal.crimes"
          ],
          [
           "other.penal.crimes"
          ],
          [
           "other.penal.crimes"
          ],
          [
           "other.penal.crimes"
          ],
          [
           "other.penal.crimes"
          ],
          [
           "other.penal.crimes"
          ],
          [
           "other.penal.crimes"
          ],
          [
           "other.penal.crimes"
          ],
          [
           "other.penal.crimes"
          ],
          [
           "other.penal.crimes"
          ],
          [
           "other.penal.crimes"
          ],
          [
           "other.penal.crimes"
          ],
          [
           "other.penal.crimes"
          ],
          [
           "other.penal.crimes"
          ],
          [
           "other.penal.crimes"
          ],
          [
           "other.penal.crimes"
          ],
          [
           "other.penal.crimes"
          ],
          [
           "other.penal.crimes"
          ],
          [
           "other.penal.crimes"
          ],
          [
           "other.penal.crimes"
          ],
          [
           "other.penal.crimes"
          ],
          [
           "other.penal.crimes"
          ],
          [
           "other.penal.crimes"
          ],
          [
           "other.penal.crimes"
          ],
          [
           "other.penal.crimes"
          ],
          [
           "other.penal.crimes"
          ],
          [
           "other.penal.crimes"
          ],
          [
           "other.penal.crimes"
          ],
          [
           "other.penal.crimes"
          ],
          [
           "other.penal.crimes"
          ],
          [
           "other.penal.crimes"
          ],
          [
           "other.penal.crimes"
          ],
          [
           "other.penal.crimes"
          ],
          [
           "other.penal.crimes"
          ],
          [
           "other.penal.crimes"
          ],
          [
           "other.penal.crimes"
          ],
          [
           "other.penal.crimes"
          ],
          [
           "other.penal.crimes"
          ],
          [
           "other.penal.crimes"
          ],
          [
           "other.penal.crimes"
          ],
          [
           "other.penal.crimes"
          ],
          [
           "other.penal.crimes"
          ],
          [
           "other.penal.crimes"
          ],
          [
           "other.penal.crimes"
          ],
          [
           "other.penal.crimes"
          ],
          [
           "other.penal.crimes"
          ],
          [
           "other.penal.crimes"
          ],
          [
           "other.penal.crimes"
          ],
          [
           "other.penal.crimes"
          ],
          [
           "other.penal.crimes"
          ],
          [
           "other.penal.crimes"
          ]
         ],
         "hovertemplate": "Crime=%{customdata[0]}<br>År=%{x}<br>Antal brott=%{y}<extra></extra>",
         "legendgroup": "other.penal.crimes",
         "line": {
          "color": "#ab63fa",
          "dash": "solid"
         },
         "marker": {
          "symbol": "circle"
         },
         "mode": "lines",
         "name": "other.penal.crimes",
         "showlegend": true,
         "type": "scattergl",
         "x": {
          "bdata": "ngefB6AHoQeiB6MHpAelB6YHpweoB6kHqgerB6wHrQeuB68HsAexB7IHswe0B7UHtge3B7gHuQe6B7sHvAe9B74HvwfAB8EHwgfDB8QHxQfGB8cHyAfJB8oHywfMB80HzgfPB9AH0QfSB9MH1AfVB9YH1wfYB9kH2gfbB9wH3QfeB98H",
          "dtype": "i2"
         },
         "xaxis": "x",
         "y": {
          "bdata": "AAAAAADQfUAAAAAAAJCAQAAAAAAASIFAAAAAAACAa0AAAAAAAKBtQAAAAAAA4G9AAAAAAAAQcUAAAAAAAOBvQAAAAAAAEHFAAAAAAACwckAAAAAAAAByQAAAAAAAwHZAAAAAAADQd0AAAAAAANB4QAAAAAAA4HlAAAAAAAA4hkAAAAAAAACJQAAAAAAAGItAAAAAAADgjEAAAAAAAIyZQAAAAAAADJJAAAAAAABAk0AAAAAAAMiRQAAAAAAAtJRAAAAAAAAMlEAAAAAAAGyVQAAAAAAACJZAAAAAAAA8mEAAAAAAAJiWQAAAAAAAOJZAAAAAAAB4n0AAAAAAAHSgQAAAAAAAuKBAAAAAAAD0nUAAAAAAAMSZQAAAAAAAMJdAAAAAAABAmUAAAAAAAJyaQAAAAAAATJhAAAAAAADsmUAAAAAAAASaQAAAAAAA5JtAAAAAAADYmUAAAAAAALicQAAAAAAAWJhAAAAAAACYlkAAAAAAAIiVQAAAAAAAKJRAAAAAAAAYk0AAAAAAACSVQAAAAAAAwJdAAAAAAAAImEAAAAAAALiZQAAAAAAAfJpAAAAAAABcm0AAAAAAACicQAAAAAAA3J9AAAAAAAAkoUAAAAAAAKyjQAAAAAAAoqNAAAAAAABSpEAAAAAAAEKlQAAAAAAANKRAAAAAAADIo0AAAAAAADKkQAAAAAAA1qNA",
          "dtype": "f8"
         },
         "yaxis": "y"
        },
        {
         "customdata": [
          [
           "narcotics"
          ],
          [
           "narcotics"
          ],
          [
           "narcotics"
          ],
          [
           "narcotics"
          ],
          [
           "narcotics"
          ],
          [
           "narcotics"
          ],
          [
           "narcotics"
          ],
          [
           "narcotics"
          ],
          [
           "narcotics"
          ],
          [
           "narcotics"
          ],
          [
           "narcotics"
          ],
          [
           "narcotics"
          ],
          [
           "narcotics"
          ],
          [
           "narcotics"
          ],
          [
           "narcotics"
          ],
          [
           "narcotics"
          ],
          [
           "narcotics"
          ],
          [
           "narcotics"
          ],
          [
           "narcotics"
          ],
          [
           "narcotics"
          ],
          [
           "narcotics"
          ],
          [
           "narcotics"
          ],
          [
           "narcotics"
          ],
          [
           "narcotics"
          ],
          [
           "narcotics"
          ],
          [
           "narcotics"
          ],
          [
           "narcotics"
          ],
          [
           "narcotics"
          ],
          [
           "narcotics"
          ],
          [
           "narcotics"
          ],
          [
           "narcotics"
          ],
          [
           "narcotics"
          ],
          [
           "narcotics"
          ],
          [
           "narcotics"
          ],
          [
           "narcotics"
          ],
          [
           "narcotics"
          ],
          [
           "narcotics"
          ],
          [
           "narcotics"
          ],
          [
           "narcotics"
          ],
          [
           "narcotics"
          ],
          [
           "narcotics"
          ],
          [
           "narcotics"
          ],
          [
           "narcotics"
          ],
          [
           "narcotics"
          ],
          [
           "narcotics"
          ],
          [
           "narcotics"
          ],
          [
           "narcotics"
          ],
          [
           "narcotics"
          ],
          [
           "narcotics"
          ],
          [
           "narcotics"
          ],
          [
           "narcotics"
          ],
          [
           "narcotics"
          ],
          [
           "narcotics"
          ],
          [
           "narcotics"
          ],
          [
           "narcotics"
          ],
          [
           "narcotics"
          ],
          [
           "narcotics"
          ],
          [
           "narcotics"
          ],
          [
           "narcotics"
          ],
          [
           "narcotics"
          ],
          [
           "narcotics"
          ],
          [
           "narcotics"
          ],
          [
           "narcotics"
          ],
          [
           "narcotics"
          ],
          [
           "narcotics"
          ],
          [
           "narcotics"
          ]
         ],
         "hovertemplate": "Crime=%{customdata[0]}<br>År=%{x}<br>Antal brott=%{y}<extra></extra>",
         "legendgroup": "narcotics",
         "line": {
          "color": "#FFA15A",
          "dash": "solid"
         },
         "marker": {
          "symbol": "circle"
         },
         "mode": "lines",
         "name": "narcotics",
         "showlegend": true,
         "type": "scattergl",
         "x": {
          "bdata": "ngefB6AHoQeiB6MHpAelB6YHpweoB6kHqgerB6wHrQeuB68HsAexB7IHswe0B7UHtge3B7gHuQe6B7sHvAe9B74HvwfAB8EHwgfDB8QHxQfGB8cHyAfJB8oHywfMB80HzgfPB9AH0QfSB9MH1AfVB9YH1wfYB9kH2gfbB9wH3QfeB98H",
          "dtype": "i2"
         },
         "xaxis": "x",
         "y": {
          "bdata": "AAAAAAAAAAAAAAAAAAAAAAAAAAAAAAAAAAAAAAAAAAAAAAAAAAAAAAAAAAAAAAAAAAAAAAAAAAAAAAAAAAAAAAAAAAAAAPA/AAAAAAAA8D8AAAAAAAAAQAAAAAAAAAAAAAAAAAAAAAAAAAAAAAAAAAAAAAAAAAAAAAAAAAAAJEAAAAAAAAAqQAAAAAAAgElAAAAAAABAWUAAAAAAAECBQAAAAAAAgGhAAAAAAADga0AAAAAAAGBtQAAAAAAAIHBAAAAAAAAAbUAAAAAAACBwQAAAAAAAIGtAAAAAAACAb0AAAAAAAEBvQAAAAAAAEHFAAAAAAABYhkAAAAAAAGCJQAAAAAAAwIlAAAAAAAAIgkAAAAAAALB8QAAAAAAA8HpAAAAAAABgfEAAAAAAADB/QAAAAAAAgHVAAAAAAADAeEAAAAAAAGBzQAAAAAAAUHZAAAAAAAAQdUAAAAAAADB9QAAAAAAA8HVAAAAAAAAwdEAAAAAAANB1QAAAAAAAgHVAAAAAAABQdkAAAAAAAKB5QAAAAAAA0HZAAAAAAADAdkAAAAAAAFB6QAAAAAAAcHxAAAAAAABQf0AAAAAAAPCBQAAAAAAAAIdAAAAAAABwiEAAAAAAAICKQAAAAAAA8IpAAAAAAABIjUAAAAAAAJCNQAAAAAAAEI9AAAAAAABQj0AAAAAAALiOQAAAAAAAAI5A",
          "dtype": "f8"
         },
         "yaxis": "y"
        },
        {
         "customdata": [
          [
           "drunk.driving"
          ],
          [
           "drunk.driving"
          ],
          [
           "drunk.driving"
          ],
          [
           "drunk.driving"
          ],
          [
           "drunk.driving"
          ],
          [
           "drunk.driving"
          ],
          [
           "drunk.driving"
          ],
          [
           "drunk.driving"
          ],
          [
           "drunk.driving"
          ],
          [
           "drunk.driving"
          ],
          [
           "drunk.driving"
          ],
          [
           "drunk.driving"
          ],
          [
           "drunk.driving"
          ],
          [
           "drunk.driving"
          ],
          [
           "drunk.driving"
          ],
          [
           "drunk.driving"
          ],
          [
           "drunk.driving"
          ],
          [
           "drunk.driving"
          ],
          [
           "drunk.driving"
          ],
          [
           "drunk.driving"
          ],
          [
           "drunk.driving"
          ],
          [
           "drunk.driving"
          ],
          [
           "drunk.driving"
          ],
          [
           "drunk.driving"
          ],
          [
           "drunk.driving"
          ],
          [
           "drunk.driving"
          ],
          [
           "drunk.driving"
          ],
          [
           "drunk.driving"
          ],
          [
           "drunk.driving"
          ],
          [
           "drunk.driving"
          ],
          [
           "drunk.driving"
          ],
          [
           "drunk.driving"
          ],
          [
           "drunk.driving"
          ],
          [
           "drunk.driving"
          ],
          [
           "drunk.driving"
          ],
          [
           "drunk.driving"
          ],
          [
           "drunk.driving"
          ],
          [
           "drunk.driving"
          ],
          [
           "drunk.driving"
          ],
          [
           "drunk.driving"
          ],
          [
           "drunk.driving"
          ],
          [
           "drunk.driving"
          ],
          [
           "drunk.driving"
          ],
          [
           "drunk.driving"
          ],
          [
           "drunk.driving"
          ],
          [
           "drunk.driving"
          ],
          [
           "drunk.driving"
          ],
          [
           "drunk.driving"
          ],
          [
           "drunk.driving"
          ],
          [
           "drunk.driving"
          ],
          [
           "drunk.driving"
          ],
          [
           "drunk.driving"
          ],
          [
           "drunk.driving"
          ],
          [
           "drunk.driving"
          ],
          [
           "drunk.driving"
          ],
          [
           "drunk.driving"
          ],
          [
           "drunk.driving"
          ],
          [
           "drunk.driving"
          ],
          [
           "drunk.driving"
          ],
          [
           "drunk.driving"
          ],
          [
           "drunk.driving"
          ],
          [
           "drunk.driving"
          ],
          [
           "drunk.driving"
          ],
          [
           "drunk.driving"
          ],
          [
           "drunk.driving"
          ],
          [
           "drunk.driving"
          ]
         ],
         "hovertemplate": "Crime=%{customdata[0]}<br>År=%{x}<br>Antal brott=%{y}<extra></extra>",
         "legendgroup": "drunk.driving",
         "line": {
          "color": "#19d3f3",
          "dash": "solid"
         },
         "marker": {
          "symbol": "circle"
         },
         "mode": "lines",
         "name": "drunk.driving",
         "showlegend": true,
         "type": "scattergl",
         "x": {
          "bdata": "ngefB6AHoQeiB6MHpAelB6YHpweoB6kHqgerB6wHrQeuB68HsAexB7IHswe0B7UHtge3B7gHuQe6B7sHvAe9B74HvwfAB8EHwgfDB8QHxQfGB8cHyAfJB8oHywfMB80HzgfPB9AH0QfSB9MH1AfVB9YH1wfYB9kH2gfbB9wH3QfeB98H",
          "dtype": "i2"
         },
         "xaxis": "x",
         "y": {
          "bdata": "AAAAAACASEAAAAAAAIBQQAAAAAAAgFNAAAAAAADAVkAAAAAAAMBZQAAAAAAAQF9AAAAAAAAAZEAAAAAAAGBkQAAAAAAAwGRAAAAAAACgZkAAAAAAAEBlQAAAAAAAIGZAAAAAAAAAZUAAAAAAAMBkQAAAAAAAIGhAAAAAAACgakAAAAAAAEBrQAAAAAAAoGxAAAAAAAAgaUAAAAAAAOBsQAAAAAAAgGpAAAAAAADgbEAAAAAAAOBrQAAAAAAAQG5AAAAAAAAAcEAAAAAAAJBwQAAAAAAAoG9AAAAAAADQcEAAAAAAACBxQAAAAAAAYHBAAAAAAABQcEAAAAAAAKBvQAAAAAAA4G9AAAAAAADgcEAAAAAAAHBwQAAAAAAAoG1AAAAAAABQcUAAAAAAABBxQAAAAAAAEHJAAAAAAABAc0AAAAAAAKByQAAAAAAA8HJAAAAAAACwcUAAAAAAAHBxQAAAAAAA4G1AAAAAAAAgaEAAAAAAAEBlQAAAAAAAQGNAAAAAAAAgYUAAAAAAAKBjQAAAAAAAgGhAAAAAAABgaUAAAAAAACBrQAAAAAAAAG1AAAAAAADgbkAAAAAAABBwQAAAAAAA0HJAAAAAAAAQdEAAAAAAABB1QAAAAAAAIHRAAAAAAADAc0AAAAAAAKBzQAAAAAAA4HFAAAAAAABwcUAAAAAAAPBwQAAAAAAAsHBA",
          "dtype": "f8"
         },
         "yaxis": "y"
        }
       ],
       "layout": {
        "legend": {
         "title": {
          "text": "Brottstyp"
         },
         "tracegroupgap": 0,
         "x": 1.05,
         "y": 1
        },
        "template": {
         "data": {
          "bar": [
           {
            "error_x": {
             "color": "#2a3f5f"
            },
            "error_y": {
             "color": "#2a3f5f"
            },
            "marker": {
             "line": {
              "color": "#E5ECF6",
              "width": 0.5
             },
             "pattern": {
              "fillmode": "overlay",
              "size": 10,
              "solidity": 0.2
             }
            },
            "type": "bar"
           }
          ],
          "barpolar": [
           {
            "marker": {
             "line": {
              "color": "#E5ECF6",
              "width": 0.5
             },
             "pattern": {
              "fillmode": "overlay",
              "size": 10,
              "solidity": 0.2
             }
            },
            "type": "barpolar"
           }
          ],
          "carpet": [
           {
            "aaxis": {
             "endlinecolor": "#2a3f5f",
             "gridcolor": "white",
             "linecolor": "white",
             "minorgridcolor": "white",
             "startlinecolor": "#2a3f5f"
            },
            "baxis": {
             "endlinecolor": "#2a3f5f",
             "gridcolor": "white",
             "linecolor": "white",
             "minorgridcolor": "white",
             "startlinecolor": "#2a3f5f"
            },
            "type": "carpet"
           }
          ],
          "choropleth": [
           {
            "colorbar": {
             "outlinewidth": 0,
             "ticks": ""
            },
            "type": "choropleth"
           }
          ],
          "contour": [
           {
            "colorbar": {
             "outlinewidth": 0,
             "ticks": ""
            },
            "colorscale": [
             [
              0,
              "#0d0887"
             ],
             [
              0.1111111111111111,
              "#46039f"
             ],
             [
              0.2222222222222222,
              "#7201a8"
             ],
             [
              0.3333333333333333,
              "#9c179e"
             ],
             [
              0.4444444444444444,
              "#bd3786"
             ],
             [
              0.5555555555555556,
              "#d8576b"
             ],
             [
              0.6666666666666666,
              "#ed7953"
             ],
             [
              0.7777777777777778,
              "#fb9f3a"
             ],
             [
              0.8888888888888888,
              "#fdca26"
             ],
             [
              1,
              "#f0f921"
             ]
            ],
            "type": "contour"
           }
          ],
          "contourcarpet": [
           {
            "colorbar": {
             "outlinewidth": 0,
             "ticks": ""
            },
            "type": "contourcarpet"
           }
          ],
          "heatmap": [
           {
            "colorbar": {
             "outlinewidth": 0,
             "ticks": ""
            },
            "colorscale": [
             [
              0,
              "#0d0887"
             ],
             [
              0.1111111111111111,
              "#46039f"
             ],
             [
              0.2222222222222222,
              "#7201a8"
             ],
             [
              0.3333333333333333,
              "#9c179e"
             ],
             [
              0.4444444444444444,
              "#bd3786"
             ],
             [
              0.5555555555555556,
              "#d8576b"
             ],
             [
              0.6666666666666666,
              "#ed7953"
             ],
             [
              0.7777777777777778,
              "#fb9f3a"
             ],
             [
              0.8888888888888888,
              "#fdca26"
             ],
             [
              1,
              "#f0f921"
             ]
            ],
            "type": "heatmap"
           }
          ],
          "histogram": [
           {
            "marker": {
             "pattern": {
              "fillmode": "overlay",
              "size": 10,
              "solidity": 0.2
             }
            },
            "type": "histogram"
           }
          ],
          "histogram2d": [
           {
            "colorbar": {
             "outlinewidth": 0,
             "ticks": ""
            },
            "colorscale": [
             [
              0,
              "#0d0887"
             ],
             [
              0.1111111111111111,
              "#46039f"
             ],
             [
              0.2222222222222222,
              "#7201a8"
             ],
             [
              0.3333333333333333,
              "#9c179e"
             ],
             [
              0.4444444444444444,
              "#bd3786"
             ],
             [
              0.5555555555555556,
              "#d8576b"
             ],
             [
              0.6666666666666666,
              "#ed7953"
             ],
             [
              0.7777777777777778,
              "#fb9f3a"
             ],
             [
              0.8888888888888888,
              "#fdca26"
             ],
             [
              1,
              "#f0f921"
             ]
            ],
            "type": "histogram2d"
           }
          ],
          "histogram2dcontour": [
           {
            "colorbar": {
             "outlinewidth": 0,
             "ticks": ""
            },
            "colorscale": [
             [
              0,
              "#0d0887"
             ],
             [
              0.1111111111111111,
              "#46039f"
             ],
             [
              0.2222222222222222,
              "#7201a8"
             ],
             [
              0.3333333333333333,
              "#9c179e"
             ],
             [
              0.4444444444444444,
              "#bd3786"
             ],
             [
              0.5555555555555556,
              "#d8576b"
             ],
             [
              0.6666666666666666,
              "#ed7953"
             ],
             [
              0.7777777777777778,
              "#fb9f3a"
             ],
             [
              0.8888888888888888,
              "#fdca26"
             ],
             [
              1,
              "#f0f921"
             ]
            ],
            "type": "histogram2dcontour"
           }
          ],
          "mesh3d": [
           {
            "colorbar": {
             "outlinewidth": 0,
             "ticks": ""
            },
            "type": "mesh3d"
           }
          ],
          "parcoords": [
           {
            "line": {
             "colorbar": {
              "outlinewidth": 0,
              "ticks": ""
             }
            },
            "type": "parcoords"
           }
          ],
          "pie": [
           {
            "automargin": true,
            "type": "pie"
           }
          ],
          "scatter": [
           {
            "fillpattern": {
             "fillmode": "overlay",
             "size": 10,
             "solidity": 0.2
            },
            "type": "scatter"
           }
          ],
          "scatter3d": [
           {
            "line": {
             "colorbar": {
              "outlinewidth": 0,
              "ticks": ""
             }
            },
            "marker": {
             "colorbar": {
              "outlinewidth": 0,
              "ticks": ""
             }
            },
            "type": "scatter3d"
           }
          ],
          "scattercarpet": [
           {
            "marker": {
             "colorbar": {
              "outlinewidth": 0,
              "ticks": ""
             }
            },
            "type": "scattercarpet"
           }
          ],
          "scattergeo": [
           {
            "marker": {
             "colorbar": {
              "outlinewidth": 0,
              "ticks": ""
             }
            },
            "type": "scattergeo"
           }
          ],
          "scattergl": [
           {
            "marker": {
             "colorbar": {
              "outlinewidth": 0,
              "ticks": ""
             }
            },
            "type": "scattergl"
           }
          ],
          "scattermap": [
           {
            "marker": {
             "colorbar": {
              "outlinewidth": 0,
              "ticks": ""
             }
            },
            "type": "scattermap"
           }
          ],
          "scattermapbox": [
           {
            "marker": {
             "colorbar": {
              "outlinewidth": 0,
              "ticks": ""
             }
            },
            "type": "scattermapbox"
           }
          ],
          "scatterpolar": [
           {
            "marker": {
             "colorbar": {
              "outlinewidth": 0,
              "ticks": ""
             }
            },
            "type": "scatterpolar"
           }
          ],
          "scatterpolargl": [
           {
            "marker": {
             "colorbar": {
              "outlinewidth": 0,
              "ticks": ""
             }
            },
            "type": "scatterpolargl"
           }
          ],
          "scatterternary": [
           {
            "marker": {
             "colorbar": {
              "outlinewidth": 0,
              "ticks": ""
             }
            },
            "type": "scatterternary"
           }
          ],
          "surface": [
           {
            "colorbar": {
             "outlinewidth": 0,
             "ticks": ""
            },
            "colorscale": [
             [
              0,
              "#0d0887"
             ],
             [
              0.1111111111111111,
              "#46039f"
             ],
             [
              0.2222222222222222,
              "#7201a8"
             ],
             [
              0.3333333333333333,
              "#9c179e"
             ],
             [
              0.4444444444444444,
              "#bd3786"
             ],
             [
              0.5555555555555556,
              "#d8576b"
             ],
             [
              0.6666666666666666,
              "#ed7953"
             ],
             [
              0.7777777777777778,
              "#fb9f3a"
             ],
             [
              0.8888888888888888,
              "#fdca26"
             ],
             [
              1,
              "#f0f921"
             ]
            ],
            "type": "surface"
           }
          ],
          "table": [
           {
            "cells": {
             "fill": {
              "color": "#EBF0F8"
             },
             "line": {
              "color": "white"
             }
            },
            "header": {
             "fill": {
              "color": "#C8D4E3"
             },
             "line": {
              "color": "white"
             }
            },
            "type": "table"
           }
          ]
         },
         "layout": {
          "annotationdefaults": {
           "arrowcolor": "#2a3f5f",
           "arrowhead": 0,
           "arrowwidth": 1
          },
          "autotypenumbers": "strict",
          "coloraxis": {
           "colorbar": {
            "outlinewidth": 0,
            "ticks": ""
           }
          },
          "colorscale": {
           "diverging": [
            [
             0,
             "#8e0152"
            ],
            [
             0.1,
             "#c51b7d"
            ],
            [
             0.2,
             "#de77ae"
            ],
            [
             0.3,
             "#f1b6da"
            ],
            [
             0.4,
             "#fde0ef"
            ],
            [
             0.5,
             "#f7f7f7"
            ],
            [
             0.6,
             "#e6f5d0"
            ],
            [
             0.7,
             "#b8e186"
            ],
            [
             0.8,
             "#7fbc41"
            ],
            [
             0.9,
             "#4d9221"
            ],
            [
             1,
             "#276419"
            ]
           ],
           "sequential": [
            [
             0,
             "#0d0887"
            ],
            [
             0.1111111111111111,
             "#46039f"
            ],
            [
             0.2222222222222222,
             "#7201a8"
            ],
            [
             0.3333333333333333,
             "#9c179e"
            ],
            [
             0.4444444444444444,
             "#bd3786"
            ],
            [
             0.5555555555555556,
             "#d8576b"
            ],
            [
             0.6666666666666666,
             "#ed7953"
            ],
            [
             0.7777777777777778,
             "#fb9f3a"
            ],
            [
             0.8888888888888888,
             "#fdca26"
            ],
            [
             1,
             "#f0f921"
            ]
           ],
           "sequentialminus": [
            [
             0,
             "#0d0887"
            ],
            [
             0.1111111111111111,
             "#46039f"
            ],
            [
             0.2222222222222222,
             "#7201a8"
            ],
            [
             0.3333333333333333,
             "#9c179e"
            ],
            [
             0.4444444444444444,
             "#bd3786"
            ],
            [
             0.5555555555555556,
             "#d8576b"
            ],
            [
             0.6666666666666666,
             "#ed7953"
            ],
            [
             0.7777777777777778,
             "#fb9f3a"
            ],
            [
             0.8888888888888888,
             "#fdca26"
            ],
            [
             1,
             "#f0f921"
            ]
           ]
          },
          "colorway": [
           "#636efa",
           "#EF553B",
           "#00cc96",
           "#ab63fa",
           "#FFA15A",
           "#19d3f3",
           "#FF6692",
           "#B6E880",
           "#FF97FF",
           "#FECB52"
          ],
          "font": {
           "color": "#2a3f5f"
          },
          "geo": {
           "bgcolor": "white",
           "lakecolor": "white",
           "landcolor": "#E5ECF6",
           "showlakes": true,
           "showland": true,
           "subunitcolor": "white"
          },
          "hoverlabel": {
           "align": "left"
          },
          "hovermode": "closest",
          "mapbox": {
           "style": "light"
          },
          "paper_bgcolor": "white",
          "plot_bgcolor": "#E5ECF6",
          "polar": {
           "angularaxis": {
            "gridcolor": "white",
            "linecolor": "white",
            "ticks": ""
           },
           "bgcolor": "#E5ECF6",
           "radialaxis": {
            "gridcolor": "white",
            "linecolor": "white",
            "ticks": ""
           }
          },
          "scene": {
           "xaxis": {
            "backgroundcolor": "#E5ECF6",
            "gridcolor": "white",
            "gridwidth": 2,
            "linecolor": "white",
            "showbackground": true,
            "ticks": "",
            "zerolinecolor": "white"
           },
           "yaxis": {
            "backgroundcolor": "#E5ECF6",
            "gridcolor": "white",
            "gridwidth": 2,
            "linecolor": "white",
            "showbackground": true,
            "ticks": "",
            "zerolinecolor": "white"
           },
           "zaxis": {
            "backgroundcolor": "#E5ECF6",
            "gridcolor": "white",
            "gridwidth": 2,
            "linecolor": "white",
            "showbackground": true,
            "ticks": "",
            "zerolinecolor": "white"
           }
          },
          "shapedefaults": {
           "line": {
            "color": "#2a3f5f"
           }
          },
          "ternary": {
           "aaxis": {
            "gridcolor": "white",
            "linecolor": "white",
            "ticks": ""
           },
           "baxis": {
            "gridcolor": "white",
            "linecolor": "white",
            "ticks": ""
           },
           "bgcolor": "#E5ECF6",
           "caxis": {
            "gridcolor": "white",
            "linecolor": "white",
            "ticks": ""
           }
          },
          "title": {
           "x": 0.05
          },
          "xaxis": {
           "automargin": true,
           "gridcolor": "white",
           "linecolor": "white",
           "ticks": "",
           "title": {
            "standoff": 15
           },
           "zerolinecolor": "white",
           "zerolinewidth": 2
          },
          "yaxis": {
           "automargin": true,
           "gridcolor": "white",
           "linecolor": "white",
           "ticks": "",
           "title": {
            "standoff": 15
           },
           "zerolinecolor": "white",
           "zerolinewidth": 2
          }
         }
        },
        "title": {
         "text": "Brottstyper över åren"
        },
        "xaxis": {
         "anchor": "y",
         "domain": [
          0,
          1
         ],
         "title": {
          "text": "År"
         }
        },
        "yaxis": {
         "anchor": "x",
         "domain": [
          0,
          1
         ],
         "title": {
          "text": "Antal brott"
         }
        }
       }
      }
     },
     "metadata": {},
     "output_type": "display_data"
    }
   ],
   "source": [
    "# Konvertera till lång form\n",
    "df_long = df.melt(id_vars=['Year'], \n",
    "                  value_vars=crime_cols, \n",
    "                  var_name='Crime', \n",
    "                  value_name='Count')\n",
    "\n",
    "# Skapa lineplot med Plotly Express\n",
    "fig = px.line(df_long, \n",
    "              x='Year', \n",
    "              y='Count', \n",
    "              color='Crime', \n",
    "              title='Brottstyper över åren',\n",
    "              labels={'Count':'Antal brott', 'Year':'År'},\n",
    "              hover_data={'Crime':True, 'Count':True, 'Year':True})\n",
    "\n",
    "fig.update_layout(legend=dict(title='Brottstyp', x=1.05, y=1))  # Flytta legend utanför plot\n",
    "fig"
   ]
  },
  {
   "cell_type": "markdown",
   "id": "a93a6b6f",
   "metadata": {},
   "source": [
    "visa antal brott / brottstyp och VALT år"
   ]
  },
  {
   "cell_type": "code",
   "execution_count": 48,
   "metadata": {},
   "outputs": [
    {
     "name": "stdout",
     "output_type": "stream",
     "text": [
      "stealing.general        6091.0\n",
      "other.penal.crimes      2518.0\n",
      "criminal.damage         2115.0\n",
      "fraud                   1066.0\n",
      "burglary                1023.0\n",
      "assault                  918.0\n",
      "out.of.vehicle.theft     870.0\n",
      "narcotics                848.0\n",
      "shop.theft               693.0\n",
      "drunk.driving            337.0\n",
      "vehicle.theft            304.0\n",
      "house.theft              198.0\n",
      "sexual.offenses          154.0\n",
      "robbery                   97.0\n",
      "rape                      59.0\n",
      "murder                     2.0\n",
      "Name: 58, dtype: float64\n"
     ]
    }
   ],
   "source": [
    "year = 2008\n",
    "row = df[df['Year'] == year]\n",
    "\n",
    "# Extrahera brott för det året\n",
    "crime_counts = row[crime_cols].iloc[0]\n",
    "\n",
    "# Sortera och visa de vanligaste brotten\n",
    "top_crimes = crime_counts.sort_values(ascending=False)\n",
    "print(top_crimes)  # visar t.ex. topp 10\n"
   ]
  },
  {
   "cell_type": "code",
   "execution_count": 49,
   "id": "12ef3f10",
   "metadata": {},
   "outputs": [
    {
     "data": {
      "application/vnd.plotly.v1+json": {
       "config": {
        "plotlyServerURL": "https://plot.ly"
       },
       "data": [
        {
         "hovertemplate": "Brottstyp=%{x}<br>Antal=%{y}<extra></extra>",
         "legendgroup": "",
         "marker": {
          "color": "#636efa",
          "pattern": {
           "shape": ""
          }
         },
         "name": "",
         "orientation": "v",
         "showlegend": false,
         "textposition": "auto",
         "type": "bar",
         "x": [
          "stealing.general",
          "other.penal.crimes",
          "criminal.damage",
          "fraud",
          "burglary",
          "assault",
          "out.of.vehicle.theft",
          "narcotics",
          "shop.theft",
          "drunk.driving",
          "vehicle.theft",
          "house.theft",
          "sexual.offenses",
          "robbery",
          "rape",
          "murder"
         ],
         "xaxis": "x",
         "y": {
          "bdata": "AAAAAADLt0AAAAAAAKyjQAAAAAAAhqBAAAAAAACokEAAAAAAAPiPQAAAAAAAsIxAAAAAAAAwi0AAAAAAAICKQAAAAAAAqIVAAAAAAAAQdUAAAAAAAABzQAAAAAAAwGhAAAAAAABAY0AAAAAAAEBYQAAAAAAAgE1AAAAAAAAAAEA=",
          "dtype": "f8"
         },
         "yaxis": "y"
        }
       ],
       "layout": {
        "barmode": "relative",
        "legend": {
         "tracegroupgap": 0
        },
        "template": {
         "data": {
          "bar": [
           {
            "error_x": {
             "color": "#2a3f5f"
            },
            "error_y": {
             "color": "#2a3f5f"
            },
            "marker": {
             "line": {
              "color": "#E5ECF6",
              "width": 0.5
             },
             "pattern": {
              "fillmode": "overlay",
              "size": 10,
              "solidity": 0.2
             }
            },
            "type": "bar"
           }
          ],
          "barpolar": [
           {
            "marker": {
             "line": {
              "color": "#E5ECF6",
              "width": 0.5
             },
             "pattern": {
              "fillmode": "overlay",
              "size": 10,
              "solidity": 0.2
             }
            },
            "type": "barpolar"
           }
          ],
          "carpet": [
           {
            "aaxis": {
             "endlinecolor": "#2a3f5f",
             "gridcolor": "white",
             "linecolor": "white",
             "minorgridcolor": "white",
             "startlinecolor": "#2a3f5f"
            },
            "baxis": {
             "endlinecolor": "#2a3f5f",
             "gridcolor": "white",
             "linecolor": "white",
             "minorgridcolor": "white",
             "startlinecolor": "#2a3f5f"
            },
            "type": "carpet"
           }
          ],
          "choropleth": [
           {
            "colorbar": {
             "outlinewidth": 0,
             "ticks": ""
            },
            "type": "choropleth"
           }
          ],
          "contour": [
           {
            "colorbar": {
             "outlinewidth": 0,
             "ticks": ""
            },
            "colorscale": [
             [
              0,
              "#0d0887"
             ],
             [
              0.1111111111111111,
              "#46039f"
             ],
             [
              0.2222222222222222,
              "#7201a8"
             ],
             [
              0.3333333333333333,
              "#9c179e"
             ],
             [
              0.4444444444444444,
              "#bd3786"
             ],
             [
              0.5555555555555556,
              "#d8576b"
             ],
             [
              0.6666666666666666,
              "#ed7953"
             ],
             [
              0.7777777777777778,
              "#fb9f3a"
             ],
             [
              0.8888888888888888,
              "#fdca26"
             ],
             [
              1,
              "#f0f921"
             ]
            ],
            "type": "contour"
           }
          ],
          "contourcarpet": [
           {
            "colorbar": {
             "outlinewidth": 0,
             "ticks": ""
            },
            "type": "contourcarpet"
           }
          ],
          "heatmap": [
           {
            "colorbar": {
             "outlinewidth": 0,
             "ticks": ""
            },
            "colorscale": [
             [
              0,
              "#0d0887"
             ],
             [
              0.1111111111111111,
              "#46039f"
             ],
             [
              0.2222222222222222,
              "#7201a8"
             ],
             [
              0.3333333333333333,
              "#9c179e"
             ],
             [
              0.4444444444444444,
              "#bd3786"
             ],
             [
              0.5555555555555556,
              "#d8576b"
             ],
             [
              0.6666666666666666,
              "#ed7953"
             ],
             [
              0.7777777777777778,
              "#fb9f3a"
             ],
             [
              0.8888888888888888,
              "#fdca26"
             ],
             [
              1,
              "#f0f921"
             ]
            ],
            "type": "heatmap"
           }
          ],
          "histogram": [
           {
            "marker": {
             "pattern": {
              "fillmode": "overlay",
              "size": 10,
              "solidity": 0.2
             }
            },
            "type": "histogram"
           }
          ],
          "histogram2d": [
           {
            "colorbar": {
             "outlinewidth": 0,
             "ticks": ""
            },
            "colorscale": [
             [
              0,
              "#0d0887"
             ],
             [
              0.1111111111111111,
              "#46039f"
             ],
             [
              0.2222222222222222,
              "#7201a8"
             ],
             [
              0.3333333333333333,
              "#9c179e"
             ],
             [
              0.4444444444444444,
              "#bd3786"
             ],
             [
              0.5555555555555556,
              "#d8576b"
             ],
             [
              0.6666666666666666,
              "#ed7953"
             ],
             [
              0.7777777777777778,
              "#fb9f3a"
             ],
             [
              0.8888888888888888,
              "#fdca26"
             ],
             [
              1,
              "#f0f921"
             ]
            ],
            "type": "histogram2d"
           }
          ],
          "histogram2dcontour": [
           {
            "colorbar": {
             "outlinewidth": 0,
             "ticks": ""
            },
            "colorscale": [
             [
              0,
              "#0d0887"
             ],
             [
              0.1111111111111111,
              "#46039f"
             ],
             [
              0.2222222222222222,
              "#7201a8"
             ],
             [
              0.3333333333333333,
              "#9c179e"
             ],
             [
              0.4444444444444444,
              "#bd3786"
             ],
             [
              0.5555555555555556,
              "#d8576b"
             ],
             [
              0.6666666666666666,
              "#ed7953"
             ],
             [
              0.7777777777777778,
              "#fb9f3a"
             ],
             [
              0.8888888888888888,
              "#fdca26"
             ],
             [
              1,
              "#f0f921"
             ]
            ],
            "type": "histogram2dcontour"
           }
          ],
          "mesh3d": [
           {
            "colorbar": {
             "outlinewidth": 0,
             "ticks": ""
            },
            "type": "mesh3d"
           }
          ],
          "parcoords": [
           {
            "line": {
             "colorbar": {
              "outlinewidth": 0,
              "ticks": ""
             }
            },
            "type": "parcoords"
           }
          ],
          "pie": [
           {
            "automargin": true,
            "type": "pie"
           }
          ],
          "scatter": [
           {
            "fillpattern": {
             "fillmode": "overlay",
             "size": 10,
             "solidity": 0.2
            },
            "type": "scatter"
           }
          ],
          "scatter3d": [
           {
            "line": {
             "colorbar": {
              "outlinewidth": 0,
              "ticks": ""
             }
            },
            "marker": {
             "colorbar": {
              "outlinewidth": 0,
              "ticks": ""
             }
            },
            "type": "scatter3d"
           }
          ],
          "scattercarpet": [
           {
            "marker": {
             "colorbar": {
              "outlinewidth": 0,
              "ticks": ""
             }
            },
            "type": "scattercarpet"
           }
          ],
          "scattergeo": [
           {
            "marker": {
             "colorbar": {
              "outlinewidth": 0,
              "ticks": ""
             }
            },
            "type": "scattergeo"
           }
          ],
          "scattergl": [
           {
            "marker": {
             "colorbar": {
              "outlinewidth": 0,
              "ticks": ""
             }
            },
            "type": "scattergl"
           }
          ],
          "scattermap": [
           {
            "marker": {
             "colorbar": {
              "outlinewidth": 0,
              "ticks": ""
             }
            },
            "type": "scattermap"
           }
          ],
          "scattermapbox": [
           {
            "marker": {
             "colorbar": {
              "outlinewidth": 0,
              "ticks": ""
             }
            },
            "type": "scattermapbox"
           }
          ],
          "scatterpolar": [
           {
            "marker": {
             "colorbar": {
              "outlinewidth": 0,
              "ticks": ""
             }
            },
            "type": "scatterpolar"
           }
          ],
          "scatterpolargl": [
           {
            "marker": {
             "colorbar": {
              "outlinewidth": 0,
              "ticks": ""
             }
            },
            "type": "scatterpolargl"
           }
          ],
          "scatterternary": [
           {
            "marker": {
             "colorbar": {
              "outlinewidth": 0,
              "ticks": ""
             }
            },
            "type": "scatterternary"
           }
          ],
          "surface": [
           {
            "colorbar": {
             "outlinewidth": 0,
             "ticks": ""
            },
            "colorscale": [
             [
              0,
              "#0d0887"
             ],
             [
              0.1111111111111111,
              "#46039f"
             ],
             [
              0.2222222222222222,
              "#7201a8"
             ],
             [
              0.3333333333333333,
              "#9c179e"
             ],
             [
              0.4444444444444444,
              "#bd3786"
             ],
             [
              0.5555555555555556,
              "#d8576b"
             ],
             [
              0.6666666666666666,
              "#ed7953"
             ],
             [
              0.7777777777777778,
              "#fb9f3a"
             ],
             [
              0.8888888888888888,
              "#fdca26"
             ],
             [
              1,
              "#f0f921"
             ]
            ],
            "type": "surface"
           }
          ],
          "table": [
           {
            "cells": {
             "fill": {
              "color": "#EBF0F8"
             },
             "line": {
              "color": "white"
             }
            },
            "header": {
             "fill": {
              "color": "#C8D4E3"
             },
             "line": {
              "color": "white"
             }
            },
            "type": "table"
           }
          ]
         },
         "layout": {
          "annotationdefaults": {
           "arrowcolor": "#2a3f5f",
           "arrowhead": 0,
           "arrowwidth": 1
          },
          "autotypenumbers": "strict",
          "coloraxis": {
           "colorbar": {
            "outlinewidth": 0,
            "ticks": ""
           }
          },
          "colorscale": {
           "diverging": [
            [
             0,
             "#8e0152"
            ],
            [
             0.1,
             "#c51b7d"
            ],
            [
             0.2,
             "#de77ae"
            ],
            [
             0.3,
             "#f1b6da"
            ],
            [
             0.4,
             "#fde0ef"
            ],
            [
             0.5,
             "#f7f7f7"
            ],
            [
             0.6,
             "#e6f5d0"
            ],
            [
             0.7,
             "#b8e186"
            ],
            [
             0.8,
             "#7fbc41"
            ],
            [
             0.9,
             "#4d9221"
            ],
            [
             1,
             "#276419"
            ]
           ],
           "sequential": [
            [
             0,
             "#0d0887"
            ],
            [
             0.1111111111111111,
             "#46039f"
            ],
            [
             0.2222222222222222,
             "#7201a8"
            ],
            [
             0.3333333333333333,
             "#9c179e"
            ],
            [
             0.4444444444444444,
             "#bd3786"
            ],
            [
             0.5555555555555556,
             "#d8576b"
            ],
            [
             0.6666666666666666,
             "#ed7953"
            ],
            [
             0.7777777777777778,
             "#fb9f3a"
            ],
            [
             0.8888888888888888,
             "#fdca26"
            ],
            [
             1,
             "#f0f921"
            ]
           ],
           "sequentialminus": [
            [
             0,
             "#0d0887"
            ],
            [
             0.1111111111111111,
             "#46039f"
            ],
            [
             0.2222222222222222,
             "#7201a8"
            ],
            [
             0.3333333333333333,
             "#9c179e"
            ],
            [
             0.4444444444444444,
             "#bd3786"
            ],
            [
             0.5555555555555556,
             "#d8576b"
            ],
            [
             0.6666666666666666,
             "#ed7953"
            ],
            [
             0.7777777777777778,
             "#fb9f3a"
            ],
            [
             0.8888888888888888,
             "#fdca26"
            ],
            [
             1,
             "#f0f921"
            ]
           ]
          },
          "colorway": [
           "#636efa",
           "#EF553B",
           "#00cc96",
           "#ab63fa",
           "#FFA15A",
           "#19d3f3",
           "#FF6692",
           "#B6E880",
           "#FF97FF",
           "#FECB52"
          ],
          "font": {
           "color": "#2a3f5f"
          },
          "geo": {
           "bgcolor": "white",
           "lakecolor": "white",
           "landcolor": "#E5ECF6",
           "showlakes": true,
           "showland": true,
           "subunitcolor": "white"
          },
          "hoverlabel": {
           "align": "left"
          },
          "hovermode": "closest",
          "mapbox": {
           "style": "light"
          },
          "paper_bgcolor": "white",
          "plot_bgcolor": "#E5ECF6",
          "polar": {
           "angularaxis": {
            "gridcolor": "white",
            "linecolor": "white",
            "ticks": ""
           },
           "bgcolor": "#E5ECF6",
           "radialaxis": {
            "gridcolor": "white",
            "linecolor": "white",
            "ticks": ""
           }
          },
          "scene": {
           "xaxis": {
            "backgroundcolor": "#E5ECF6",
            "gridcolor": "white",
            "gridwidth": 2,
            "linecolor": "white",
            "showbackground": true,
            "ticks": "",
            "zerolinecolor": "white"
           },
           "yaxis": {
            "backgroundcolor": "#E5ECF6",
            "gridcolor": "white",
            "gridwidth": 2,
            "linecolor": "white",
            "showbackground": true,
            "ticks": "",
            "zerolinecolor": "white"
           },
           "zaxis": {
            "backgroundcolor": "#E5ECF6",
            "gridcolor": "white",
            "gridwidth": 2,
            "linecolor": "white",
            "showbackground": true,
            "ticks": "",
            "zerolinecolor": "white"
           }
          },
          "shapedefaults": {
           "line": {
            "color": "#2a3f5f"
           }
          },
          "ternary": {
           "aaxis": {
            "gridcolor": "white",
            "linecolor": "white",
            "ticks": ""
           },
           "baxis": {
            "gridcolor": "white",
            "linecolor": "white",
            "ticks": ""
           },
           "bgcolor": "#E5ECF6",
           "caxis": {
            "gridcolor": "white",
            "linecolor": "white",
            "ticks": ""
           }
          },
          "title": {
           "x": 0.05
          },
          "xaxis": {
           "automargin": true,
           "gridcolor": "white",
           "linecolor": "white",
           "ticks": "",
           "title": {
            "standoff": 15
           },
           "zerolinecolor": "white",
           "zerolinewidth": 2
          },
          "yaxis": {
           "automargin": true,
           "gridcolor": "white",
           "linecolor": "white",
           "ticks": "",
           "title": {
            "standoff": 15
           },
           "zerolinecolor": "white",
           "zerolinewidth": 2
          }
         }
        },
        "title": {
         "text": "Topp brottstyper år 2008"
        },
        "xaxis": {
         "anchor": "y",
         "domain": [
          0,
          1
         ],
         "tickangle": -45,
         "title": {
          "text": "Brottstyp"
         }
        },
        "yaxis": {
         "anchor": "x",
         "domain": [
          0,
          1
         ],
         "title": {
          "text": "Antal"
         }
        }
       }
      }
     },
     "metadata": {},
     "output_type": "display_data"
    }
   ],
   "source": [
    "# top_crimes är en Series där index = brottstyp, values = antal\n",
    "fig = px.bar(\n",
    "    x=top_crimes.index,\n",
    "    y=top_crimes.values,\n",
    "    labels={'x':'Brottstyp', 'y':'Antal'},\n",
    "    title=f'Topp brottstyper år {year}'\n",
    ")\n",
    "\n",
    "# Rotera x-axelns labels om de är långa\n",
    "fig.update_layout(xaxis_tickangle=-45)\n",
    "\n",
    "fig.show()"
   ]
  },
  {
   "cell_type": "code",
   "execution_count": 50,
   "id": "da122a5f",
   "metadata": {},
   "outputs": [
    {
     "data": {
      "text/html": [
       "<div>\n",
       "<style scoped>\n",
       "    .dataframe tbody tr th:only-of-type {\n",
       "        vertical-align: middle;\n",
       "    }\n",
       "\n",
       "    .dataframe tbody tr th {\n",
       "        vertical-align: top;\n",
       "    }\n",
       "\n",
       "    .dataframe thead th {\n",
       "        text-align: right;\n",
       "    }\n",
       "</style>\n",
       "<table border=\"1\" class=\"dataframe\">\n",
       "  <thead>\n",
       "    <tr style=\"text-align: right;\">\n",
       "      <th></th>\n",
       "      <th>Year</th>\n",
       "      <th>crimes.total</th>\n",
       "      <th>crimes.penal.code</th>\n",
       "      <th>crimes.person</th>\n",
       "      <th>murder</th>\n",
       "      <th>assault</th>\n",
       "      <th>sexual.offenses</th>\n",
       "      <th>rape</th>\n",
       "      <th>stealing.general</th>\n",
       "      <th>burglary</th>\n",
       "      <th>...</th>\n",
       "      <th>vehicle.theft</th>\n",
       "      <th>out.of.vehicle.theft</th>\n",
       "      <th>shop.theft</th>\n",
       "      <th>robbery</th>\n",
       "      <th>fraud</th>\n",
       "      <th>criminal.damage</th>\n",
       "      <th>other.penal.crimes</th>\n",
       "      <th>narcotics</th>\n",
       "      <th>drunk.driving</th>\n",
       "      <th>population</th>\n",
       "    </tr>\n",
       "  </thead>\n",
       "  <tbody>\n",
       "    <tr>\n",
       "      <th>0</th>\n",
       "      <td>1950</td>\n",
       "      <td>2784</td>\n",
       "      <td>2306</td>\n",
       "      <td>120</td>\n",
       "      <td>1</td>\n",
       "      <td>105</td>\n",
       "      <td>40</td>\n",
       "      <td>5</td>\n",
       "      <td>1578</td>\n",
       "      <td>295</td>\n",
       "      <td>...</td>\n",
       "      <td>0.0</td>\n",
       "      <td>0.0</td>\n",
       "      <td>0.0</td>\n",
       "      <td>3</td>\n",
       "      <td>209</td>\n",
       "      <td>72</td>\n",
       "      <td>477</td>\n",
       "      <td>0.0</td>\n",
       "      <td>49</td>\n",
       "      <td>7014000</td>\n",
       "    </tr>\n",
       "    <tr>\n",
       "      <th>1</th>\n",
       "      <td>1951</td>\n",
       "      <td>3284</td>\n",
       "      <td>2754</td>\n",
       "      <td>125</td>\n",
       "      <td>1</td>\n",
       "      <td>109</td>\n",
       "      <td>45</td>\n",
       "      <td>6</td>\n",
       "      <td>1899</td>\n",
       "      <td>342</td>\n",
       "      <td>...</td>\n",
       "      <td>0.0</td>\n",
       "      <td>0.0</td>\n",
       "      <td>0.0</td>\n",
       "      <td>3</td>\n",
       "      <td>310</td>\n",
       "      <td>73</td>\n",
       "      <td>530</td>\n",
       "      <td>0.0</td>\n",
       "      <td>66</td>\n",
       "      <td>7073000</td>\n",
       "    </tr>\n",
       "    <tr>\n",
       "      <th>2</th>\n",
       "      <td>1952</td>\n",
       "      <td>3160</td>\n",
       "      <td>2608</td>\n",
       "      <td>119</td>\n",
       "      <td>1</td>\n",
       "      <td>104</td>\n",
       "      <td>39</td>\n",
       "      <td>4</td>\n",
       "      <td>1846</td>\n",
       "      <td>372</td>\n",
       "      <td>...</td>\n",
       "      <td>0.0</td>\n",
       "      <td>0.0</td>\n",
       "      <td>0.0</td>\n",
       "      <td>3</td>\n",
       "      <td>217</td>\n",
       "      <td>82</td>\n",
       "      <td>553</td>\n",
       "      <td>0.0</td>\n",
       "      <td>78</td>\n",
       "      <td>7125000</td>\n",
       "    </tr>\n",
       "    <tr>\n",
       "      <th>3</th>\n",
       "      <td>1953</td>\n",
       "      <td>2909</td>\n",
       "      <td>2689</td>\n",
       "      <td>119</td>\n",
       "      <td>1</td>\n",
       "      <td>105</td>\n",
       "      <td>45</td>\n",
       "      <td>5</td>\n",
       "      <td>1929</td>\n",
       "      <td>361</td>\n",
       "      <td>...</td>\n",
       "      <td>0.0</td>\n",
       "      <td>0.0</td>\n",
       "      <td>0.0</td>\n",
       "      <td>4</td>\n",
       "      <td>209</td>\n",
       "      <td>88</td>\n",
       "      <td>220</td>\n",
       "      <td>0.0</td>\n",
       "      <td>91</td>\n",
       "      <td>7171000</td>\n",
       "    </tr>\n",
       "    <tr>\n",
       "      <th>4</th>\n",
       "      <td>1954</td>\n",
       "      <td>3028</td>\n",
       "      <td>2791</td>\n",
       "      <td>126</td>\n",
       "      <td>1</td>\n",
       "      <td>107</td>\n",
       "      <td>41</td>\n",
       "      <td>5</td>\n",
       "      <td>1981</td>\n",
       "      <td>393</td>\n",
       "      <td>...</td>\n",
       "      <td>0.0</td>\n",
       "      <td>0.0</td>\n",
       "      <td>0.0</td>\n",
       "      <td>4</td>\n",
       "      <td>236</td>\n",
       "      <td>101</td>\n",
       "      <td>237</td>\n",
       "      <td>0.0</td>\n",
       "      <td>103</td>\n",
       "      <td>7213000</td>\n",
       "    </tr>\n",
       "  </tbody>\n",
       "</table>\n",
       "<p>5 rows × 21 columns</p>\n",
       "</div>"
      ],
      "text/plain": [
       "   Year  crimes.total  crimes.penal.code  crimes.person  murder  assault  \\\n",
       "0  1950          2784               2306            120       1      105   \n",
       "1  1951          3284               2754            125       1      109   \n",
       "2  1952          3160               2608            119       1      104   \n",
       "3  1953          2909               2689            119       1      105   \n",
       "4  1954          3028               2791            126       1      107   \n",
       "\n",
       "   sexual.offenses  rape  stealing.general  burglary  ...  vehicle.theft  \\\n",
       "0               40     5              1578       295  ...            0.0   \n",
       "1               45     6              1899       342  ...            0.0   \n",
       "2               39     4              1846       372  ...            0.0   \n",
       "3               45     5              1929       361  ...            0.0   \n",
       "4               41     5              1981       393  ...            0.0   \n",
       "\n",
       "   out.of.vehicle.theft  shop.theft  robbery  fraud  criminal.damage  \\\n",
       "0                   0.0         0.0        3    209               72   \n",
       "1                   0.0         0.0        3    310               73   \n",
       "2                   0.0         0.0        3    217               82   \n",
       "3                   0.0         0.0        4    209               88   \n",
       "4                   0.0         0.0        4    236              101   \n",
       "\n",
       "   other.penal.crimes  narcotics  drunk.driving  population  \n",
       "0                 477        0.0             49     7014000  \n",
       "1                 530        0.0             66     7073000  \n",
       "2                 553        0.0             78     7125000  \n",
       "3                 220        0.0             91     7171000  \n",
       "4                 237        0.0            103     7213000  \n",
       "\n",
       "[5 rows x 21 columns]"
      ]
     },
     "execution_count": 50,
     "metadata": {},
     "output_type": "execute_result"
    }
   ],
   "source": [
    "df.head()"
   ]
  },
  {
   "cell_type": "code",
   "execution_count": 51,
   "id": "66eda04c",
   "metadata": {},
   "outputs": [
    {
     "data": {
      "text/plain": [
       "array([ 120,  125,  119,  126,  135,  133,  127,  131,  129,  132,  137,\n",
       "        167,  184,  189,  228,  241,  247,  238,  242,  233,  261,  282,\n",
       "        279,  306,  297,  301,  320,  315,  363,  378,  396,  411,  418,\n",
       "        441,  477,  497,  504,  549,  614,  641,  647,  640,  655,  674,\n",
       "        709,  696,  701,  718,  768,  787,  846,  889,  948,  968,  980,\n",
       "        991, 1005,  974,  896,  923,  932])"
      ]
     },
     "execution_count": 51,
     "metadata": {},
     "output_type": "execute_result"
    }
   ],
   "source": [
    "df[\"crimes.person\"].unique()"
   ]
  },
  {
   "cell_type": "code",
   "execution_count": 52,
   "id": "89466c05",
   "metadata": {},
   "outputs": [
    {
     "data": {
      "text/plain": [
       "0    0.0\n",
       "1    0.0\n",
       "2    0.0\n",
       "3    0.0\n",
       "4    0.0\n",
       "5    0.0\n",
       "6    0.0\n",
       "7    0.0\n",
       "8    1.0\n",
       "9    1.0\n",
       "Name: narcotics, dtype: float64"
      ]
     },
     "execution_count": 52,
     "metadata": {},
     "output_type": "execute_result"
    }
   ],
   "source": [
    "df[\"narcotics\"].head(10)"
   ]
  },
  {
   "cell_type": "code",
   "execution_count": 53,
   "id": "1130272f",
   "metadata": {},
   "outputs": [
    {
     "data": {
      "text/html": [
       "<div>\n",
       "<style scoped>\n",
       "    .dataframe tbody tr th:only-of-type {\n",
       "        vertical-align: middle;\n",
       "    }\n",
       "\n",
       "    .dataframe tbody tr th {\n",
       "        vertical-align: top;\n",
       "    }\n",
       "\n",
       "    .dataframe thead th {\n",
       "        text-align: right;\n",
       "    }\n",
       "</style>\n",
       "<table border=\"1\" class=\"dataframe\">\n",
       "  <thead>\n",
       "    <tr style=\"text-align: right;\">\n",
       "      <th></th>\n",
       "      <th>Year</th>\n",
       "      <th>crimes.total</th>\n",
       "      <th>crimes.penal.code</th>\n",
       "      <th>crimes.person</th>\n",
       "      <th>murder</th>\n",
       "      <th>assault</th>\n",
       "      <th>sexual.offenses</th>\n",
       "      <th>rape</th>\n",
       "      <th>stealing.general</th>\n",
       "      <th>burglary</th>\n",
       "      <th>...</th>\n",
       "      <th>vehicle.theft</th>\n",
       "      <th>out.of.vehicle.theft</th>\n",
       "      <th>shop.theft</th>\n",
       "      <th>robbery</th>\n",
       "      <th>fraud</th>\n",
       "      <th>criminal.damage</th>\n",
       "      <th>other.penal.crimes</th>\n",
       "      <th>narcotics</th>\n",
       "      <th>drunk.driving</th>\n",
       "      <th>population</th>\n",
       "    </tr>\n",
       "  </thead>\n",
       "  <tbody>\n",
       "    <tr>\n",
       "      <th>0</th>\n",
       "      <td>1950</td>\n",
       "      <td>2784</td>\n",
       "      <td>2306</td>\n",
       "      <td>120</td>\n",
       "      <td>1</td>\n",
       "      <td>105</td>\n",
       "      <td>40</td>\n",
       "      <td>5</td>\n",
       "      <td>1578</td>\n",
       "      <td>295</td>\n",
       "      <td>...</td>\n",
       "      <td>0.0</td>\n",
       "      <td>0.0</td>\n",
       "      <td>0.0</td>\n",
       "      <td>3</td>\n",
       "      <td>209</td>\n",
       "      <td>72</td>\n",
       "      <td>477</td>\n",
       "      <td>0.0</td>\n",
       "      <td>49</td>\n",
       "      <td>7014000</td>\n",
       "    </tr>\n",
       "    <tr>\n",
       "      <th>1</th>\n",
       "      <td>1951</td>\n",
       "      <td>3284</td>\n",
       "      <td>2754</td>\n",
       "      <td>125</td>\n",
       "      <td>1</td>\n",
       "      <td>109</td>\n",
       "      <td>45</td>\n",
       "      <td>6</td>\n",
       "      <td>1899</td>\n",
       "      <td>342</td>\n",
       "      <td>...</td>\n",
       "      <td>0.0</td>\n",
       "      <td>0.0</td>\n",
       "      <td>0.0</td>\n",
       "      <td>3</td>\n",
       "      <td>310</td>\n",
       "      <td>73</td>\n",
       "      <td>530</td>\n",
       "      <td>0.0</td>\n",
       "      <td>66</td>\n",
       "      <td>7073000</td>\n",
       "    </tr>\n",
       "    <tr>\n",
       "      <th>2</th>\n",
       "      <td>1952</td>\n",
       "      <td>3160</td>\n",
       "      <td>2608</td>\n",
       "      <td>119</td>\n",
       "      <td>1</td>\n",
       "      <td>104</td>\n",
       "      <td>39</td>\n",
       "      <td>4</td>\n",
       "      <td>1846</td>\n",
       "      <td>372</td>\n",
       "      <td>...</td>\n",
       "      <td>0.0</td>\n",
       "      <td>0.0</td>\n",
       "      <td>0.0</td>\n",
       "      <td>3</td>\n",
       "      <td>217</td>\n",
       "      <td>82</td>\n",
       "      <td>553</td>\n",
       "      <td>0.0</td>\n",
       "      <td>78</td>\n",
       "      <td>7125000</td>\n",
       "    </tr>\n",
       "    <tr>\n",
       "      <th>3</th>\n",
       "      <td>1953</td>\n",
       "      <td>2909</td>\n",
       "      <td>2689</td>\n",
       "      <td>119</td>\n",
       "      <td>1</td>\n",
       "      <td>105</td>\n",
       "      <td>45</td>\n",
       "      <td>5</td>\n",
       "      <td>1929</td>\n",
       "      <td>361</td>\n",
       "      <td>...</td>\n",
       "      <td>0.0</td>\n",
       "      <td>0.0</td>\n",
       "      <td>0.0</td>\n",
       "      <td>4</td>\n",
       "      <td>209</td>\n",
       "      <td>88</td>\n",
       "      <td>220</td>\n",
       "      <td>0.0</td>\n",
       "      <td>91</td>\n",
       "      <td>7171000</td>\n",
       "    </tr>\n",
       "    <tr>\n",
       "      <th>4</th>\n",
       "      <td>1954</td>\n",
       "      <td>3028</td>\n",
       "      <td>2791</td>\n",
       "      <td>126</td>\n",
       "      <td>1</td>\n",
       "      <td>107</td>\n",
       "      <td>41</td>\n",
       "      <td>5</td>\n",
       "      <td>1981</td>\n",
       "      <td>393</td>\n",
       "      <td>...</td>\n",
       "      <td>0.0</td>\n",
       "      <td>0.0</td>\n",
       "      <td>0.0</td>\n",
       "      <td>4</td>\n",
       "      <td>236</td>\n",
       "      <td>101</td>\n",
       "      <td>237</td>\n",
       "      <td>0.0</td>\n",
       "      <td>103</td>\n",
       "      <td>7213000</td>\n",
       "    </tr>\n",
       "  </tbody>\n",
       "</table>\n",
       "<p>5 rows × 21 columns</p>\n",
       "</div>"
      ],
      "text/plain": [
       "   Year  crimes.total  crimes.penal.code  crimes.person  murder  assault  \\\n",
       "0  1950          2784               2306            120       1      105   \n",
       "1  1951          3284               2754            125       1      109   \n",
       "2  1952          3160               2608            119       1      104   \n",
       "3  1953          2909               2689            119       1      105   \n",
       "4  1954          3028               2791            126       1      107   \n",
       "\n",
       "   sexual.offenses  rape  stealing.general  burglary  ...  vehicle.theft  \\\n",
       "0               40     5              1578       295  ...            0.0   \n",
       "1               45     6              1899       342  ...            0.0   \n",
       "2               39     4              1846       372  ...            0.0   \n",
       "3               45     5              1929       361  ...            0.0   \n",
       "4               41     5              1981       393  ...            0.0   \n",
       "\n",
       "   out.of.vehicle.theft  shop.theft  robbery  fraud  criminal.damage  \\\n",
       "0                   0.0         0.0        3    209               72   \n",
       "1                   0.0         0.0        3    310               73   \n",
       "2                   0.0         0.0        3    217               82   \n",
       "3                   0.0         0.0        4    209               88   \n",
       "4                   0.0         0.0        4    236              101   \n",
       "\n",
       "   other.penal.crimes  narcotics  drunk.driving  population  \n",
       "0                 477        0.0             49     7014000  \n",
       "1                 530        0.0             66     7073000  \n",
       "2                 553        0.0             78     7125000  \n",
       "3                 220        0.0             91     7171000  \n",
       "4                 237        0.0            103     7213000  \n",
       "\n",
       "[5 rows x 21 columns]"
      ]
     },
     "execution_count": 53,
     "metadata": {},
     "output_type": "execute_result"
    }
   ],
   "source": [
    "df.head()"
   ]
  },
  {
   "cell_type": "code",
   "execution_count": 54,
   "id": "8ca9fa34",
   "metadata": {},
   "outputs": [
    {
     "data": {
      "application/vnd.plotly.v1+json": {
       "config": {
        "plotlyServerURL": "https://plot.ly"
       },
       "data": [
        {
         "fillpattern": {
          "shape": ""
         },
         "hovertemplate": "Category=Våldsbrott<br>År=%{x}<br>Andel=%{y}<extra></extra>",
         "legendgroup": "Våldsbrott",
         "line": {
          "color": "#636efa"
         },
         "marker": {
          "symbol": "circle"
         },
         "mode": "lines",
         "name": "Våldsbrott",
         "orientation": "v",
         "showlegend": true,
         "stackgroup": "1",
         "type": "scatter",
         "x": {
          "bdata": "ngefB6AHoQeiB6MHpAelB6YHpweoB6kHqgerB6wHrQeuB68HsAexB7IHswe0B7UHtge3B7gHuQe6B7sHvAe9B74HvwfAB8EHwgfDB8QHxQfGB8cHyAfJB8oHywfMB80HzgfPB9AH0QfSB9MH1AfVB9YH1wfYB9kH2gfbB9wH3QfeB98H",
          "dtype": "i2"
         },
         "xaxis": "x",
         "y": {
          "bdata": "7LoLxIdmsD+vELFnCuKsP/KwxwVVmKs/Znt8qs0krD9rpluawIeqP1Fghed0n6k/cXxtGq47pz/j5SIZgUejP5GLoPSlqqE/2wocs06Loj8CWUYctCGkP1i4l2y+kqM/X9r1jxUuoj9REuzzD52hP6mLnQtS9qA/nL11yGqCnj9IL/mPXvKfP8Bg749vGZ8/P8D9QrYSoD/7miSOQkigP+TZstRBuJ0/tH+G+4AYmT95xy9ltaGZP5Ng6atrUZs/3wO73Nz5nj8eM7V3atibPzcmXigXT5k/KtPzbPqkmj/R5cYDG2abP39S7TZ1vZs/ckz+F9/Vmj8HK7Jw1ZWaP3fobpengZ0/Jm6mS8W2nj+N7Xf0ytieP8MZN2lcQZ4/to2vvLFinD+x/SJv7JieP9stP4rP+6A/q/f4nFwIoT91XX9OqiSgP2UZZTTYsqA/Y6xcxW9Moz/daXWn1Z2mP0wbg27LKqk/wQM3ZOloqD/78Nxz3DKnP7gFboFb4KY/XmZ8MIFMqD9cKdLKAOepP/UDw9cUSKk/7zxNCZrsqj+QTQht+wurPyC4P4XVUaw/efYUBSjbrT8A9z5Qj8SwP1hm+/EprLI/p5RRGCBIsz/DXD4xzOWzP0gkKyLfcbQ/OyTJoWc5tj+9BR7YkQ62PxBW1lyrBLY/5/Nro0g1tT8pckgEEeq1P2H21WdXobQ/",
          "dtype": "f8"
         },
         "yaxis": "y"
        },
        {
         "fillpattern": {
          "shape": ""
         },
         "hovertemplate": "Category=Stöldbrott<br>År=%{x}<br>Andel=%{y}<extra></extra>",
         "legendgroup": "Stöldbrott",
         "line": {
          "color": "#EF553B"
         },
         "marker": {
          "symbol": "circle"
         },
         "mode": "lines",
         "name": "Stöldbrott",
         "orientation": "v",
         "showlegend": true,
         "stackgroup": "1",
         "type": "scatter",
         "x": {
          "bdata": "ngefB6AHoQeiB6MHpAelB6YHpweoB6kHqgerB6wHrQeuB68HsAexB7IHswe0B7UHtge3B7gHuQe6B7sHvAe9B74HvwfAB8EHwgfDB8QHxQfGB8cHyAfJB8oHywfMB80HzgfPB9AH0QfSB9MH1AfVB9YH1wfYB9kH2gfbB9wH3QfeB98H",
          "dtype": "i2"
         },
         "xaxis": "x",
         "y": {
          "bdata": "4BNF9Dt46T8+HU/9FCnpP1BZlWvL4ek/ScRA67jd6T/i58nas5rpPx6su3855uk/6De1YOLD6T/Sbe6Hy27qP2xK7OiJ1uo/q/mEFxKE6j/lRZTeYGHqP52Wyohhauo/Mol1PIa/6j/W1g2zJuHqP2YjgOI/w+o/sSygwy3K6j/Pky2dJ1vqP0S7tKmIPuo/hweNiR1/6T9O2OoUCCboPwvpVX5YWek/kzE6XoRd6j+l3cU1w5zqP/I5vwCn/ek/MysojTeV6T/++eeff/7pP+rFfOrFfOo/g5DjFJI16j8C5qkePxrqPwqbxHPffOk//fluNKgk6D+oECv45ufnP51YUbCZEeg/WPn8cu6a6D8JxIWakwDpPwGzI7GlWuk/5fRbxAeJ6T+n6WBCxDXpP+nDkI7mJuk/EEYJuA9d6T+MTZXZF4rpP63gwpxU3uk/nk5s7NXi6T/oljj1e27pP66bTr7+Zek/baE91TOf6T8GXalSR2PpP4KeoCfoCeo/tS37+TLN6T88A/idxqTpP8wNJYAQWek/3MzP4djo6D8QtIntNcboP+fNZSG86ec/VOgjnpbP5z8dXVc/7UPnPyUFPGKwM+Y/Ojlyfa7z5D+l2j5Vqu3jP92fAwsVfuM/SS6YQJaP4z9RkwKr9HXjP6KsV5t4MuM/UlG42Snf4j8Kwvn0XaTiP+OsoFcgmeE/",
          "dtype": "f8"
         },
         "yaxis": "y"
        },
        {
         "fillpattern": {
          "shape": ""
         },
         "hovertemplate": "Category=Ekonomiska brott<br>År=%{x}<br>Andel=%{y}<extra></extra>",
         "legendgroup": "Ekonomiska brott",
         "line": {
          "color": "#00cc96"
         },
         "marker": {
          "symbol": "circle"
         },
         "mode": "lines",
         "name": "Ekonomiska brott",
         "orientation": "v",
         "showlegend": true,
         "stackgroup": "1",
         "type": "scatter",
         "x": {
          "bdata": "ngefB6AHoQeiB6MHpAelB6YHpweoB6kHqgerB6wHrQeuB68HsAexB7IHswe0B7UHtge3B7gHuQe6B7sHvAe9B74HvwfAB8EHwgfDB8QHxQfGB8cHyAfJB8oHywfMB80HzgfPB9AH0QfSB9MH1AfVB9YH1wfYB9kH2gfbB9wH3QfeB98H",
          "dtype": "i2"
         },
         "xaxis": "x",
         "y": {
          "bdata": "PvoA+zWztj920HKAfM67P6o7wE3rOrQ/t6QtaUvasj/4UKPqEVS0P3b3L8c8/7E/M3aGtj39sD9aEEWtSv6uP/ZDJUG0C6w/B2h3NLJhrD94Kj9NdmyuP9H3HXMtT6w/9XVWRahsqj92T8vI1iyrP6LyeOBFGqs/liD6sxberj/VMg5UEMeyPzz6M3ddXbI/OBaTrwkFuD+uFCVU5ju0P9ZI1VOEs7c/f4/P1S0wsT+Xb9RzCtmsP7EfieUHCq4//oO7F53srz/NYUHuW/urP99Kbf1oi6s/JL/GLP/4qz/MCr6uX6yqP3KKSijNKrI/+D7/3oKHtz+TR4nIzbe2P0dviwYS97Q/sNtjLUMHtD8Z2+/olbGzP/62dpiuP7M/RZ8SpWxLsj8DqT92QQOzPy3omq3BnrM/9mHKvhjFsD/4r/gmhjOyPw22LATchqw/2uXQsT+7qT/Ue1HvRb2nP1EXRhyJ3KM//5eNk0Vtoz+ouR6hX1mpP9gH9oF9YJ8/kc282kk6nz9LQ+7wQ4agP4l0j4xCTaI/g3LtKAwRoD/Vv9/11OKfP9ps4NOG5Kc/L4AWB0xupT9KRsox2d2lPwAFdNa57aY/CQcqXnACrj82iSthk7iyP64EMW3jg7Q/dVnmSU3gtD8/WxiTd3G2PyDZ/3cSvbk/AsubD+Akvj+OXWlyC+y+P5vH/QlTisE/",
          "dtype": "f8"
         },
         "yaxis": "y"
        },
        {
         "fillpattern": {
          "shape": ""
         },
         "hovertemplate": "Category=Vandalisering<br>År=%{x}<br>Andel=%{y}<extra></extra>",
         "legendgroup": "Vandalisering",
         "line": {
          "color": "#ab63fa"
         },
         "marker": {
          "symbol": "circle"
         },
         "mode": "lines",
         "name": "Vandalisering",
         "orientation": "v",
         "showlegend": true,
         "stackgroup": "1",
         "type": "scatter",
         "x": {
          "bdata": "ngefB6AHoQeiB6MHpAelB6YHpweoB6kHqgerB6wHrQeuB68HsAexB7IHswe0B7UHtge3B7gHuQe6B7sHvAe9B74HvwfAB8EHwgfDB8QHxQfGB8cHyAfJB8oHywfMB80HzgfPB9AH0QfSB9MH1AfVB9YH1wfYB9kH2gfbB9wH3QfeB98H",
          "dtype": "i2"
         },
         "xaxis": "x",
         "y": {
          "bdata": "vF09/8pHnz8gcJWlJzGaPwUe6y8LlJ4/8Af8AX/Anz+CYVPCVGahP8doij3t7aA/PpzEUgJQoz+P1IHMyumiP9/Eup2DcKI/GBKEKoM9pD8OtHD5y+ejP6wtCSc95aU/92qy3ASrpT8hkDAlg26kPxVvw3iy8KU/0JCEckpFpT9lqNp0+1+kP9EPGB6yC6U/40lgfaPUpT80FF+w8lemP1jGiLBHbKY/EdOx3dy7pT9xLKA2ejimP5uorBJPxak/skM6hLyNrT/Z7+1xsGSuPzpyPCtjLaw/MGwAWzZjrj870lRNuJ+vPxCIggSWOq8/iX07Uyd+qz/6V+2/PGKtP92qCpnmUa4/e6xl6IDdrj8q8lk3mCKvPwe8lxtDDa4/xOUmzwHarT+JTZma1+muP8WSekIGb7A/fzJPFKrssD+ZfaGYjYmwP7LDbunjdLA/dWJjrxbPsD91FtNZTGexP731wHxHALQ/bOcrsIlrtD9Ns9GcIyu0PygFSoFSoLQ/FP3cOpO+tT+3CO0cO3i0P8samdgeZ7Y/ndfT0o6juT+X0mta0Ly5P85V6I2BaLs/O0JLbYNduz+Zrae8L/W7PzVgwI56d70/C+4XXmRNwT/HJSlpXJLCP9Ow3SxPIsM/+Vjwo+x5wD8YfQS1PFHAPzCRkWW3Xr4/xwFlB0WuvD+cXZa7SfG9Pyu/I9+TZsI/",
          "dtype": "f8"
         },
         "yaxis": "y"
        },
        {
         "fillpattern": {
          "shape": ""
         },
         "hovertemplate": "Category=Under influenser<br>År=%{x}<br>Andel=%{y}<extra></extra>",
         "legendgroup": "Under influenser",
         "line": {
          "color": "#FFA15A"
         },
         "marker": {
          "symbol": "circle"
         },
         "mode": "lines",
         "name": "Under influenser",
         "orientation": "v",
         "showlegend": true,
         "stackgroup": "1",
         "type": "scatter",
         "x": {
          "bdata": "ngefB6AHoQeiB6MHpAelB6YHpweoB6kHqgerB6wHrQeuB68HsAexB7IHswe0B7UHtge3B7gHuQe6B7sHvAe9B74HvwfAB8EHwgfDB8QHxQfGB8cHyAfJB8oHywfMB80HzgfPB9AH0QfSB9MH1AfVB9YH1wfYB9kH2gfbB9wH3QfeB98H",
          "dtype": "i2"
         },
         "xaxis": "x",
         "y": {
          "bdata": "kVHte79JlT/vhFnfMa6XP3tn2RowFp0/pvIdTs1qoD8I2Gshib6hPySG1VCMEKM/cXxtGq47pz8ZWC/usOOjP9/Eup2DcKI/V+CYdVqUpD8lasWz+3OjP1i4l2y+kqM/krGohtnBoT+8oDrtKrWgPzvcI3O3yqE/hEmHdhrxnz9kHTPIOmagPxOXPJBQxKI//1CrR7ocoj9LUUJlvkO3P1SqFNgGu6U/4bRIFUF/pT/mpZVGbVGmP0/o4SWDrao/NwMqIz+1qT/jdHZlxMunPyPRWptJ06M/5+KF8yv4pD/qT2uX6FymPzEJKNMdw6Y/QZ/rDbDesj9y/Pq5ZrK0P0i8iETD8rM/y+eXc9cEsD9KIC7UnASqPwgZpGxWqKY/g8acwk/Npj8nR0cb62aoP7Cdiaw3eqQ/an4/PCLDpT+gbveYsL+hP12eYig696M/+r5GY8Qsoz/pfglijO6nPwYny5YwmKQ/nH4JVIBfoT9mHsuGB+mgP8gH8oF8IJ8/urpwmQeMnz8tTuUq21WiPyV1KuhiC6I/m9MgC64toz9U7JSKmiWlP/VQsnTeXKY/nn//NhsCqT+2nvK+1G+sP80NKoL7x7I/7sHXEGt+sz9P+UzxlM+0P3t2y7721LQ/Gl6ux791tz9NCqzS1y23P43a2urFS7g/v7TQd0P+uD9ZwuklqhW4P/uU4QjYs7Y/",
          "dtype": "f8"
         },
         "yaxis": "y"
        }
       ],
       "layout": {
        "legend": {
         "title": {
          "text": "Category"
         },
         "tracegroupgap": 0
        },
        "template": {
         "data": {
          "bar": [
           {
            "error_x": {
             "color": "#2a3f5f"
            },
            "error_y": {
             "color": "#2a3f5f"
            },
            "marker": {
             "line": {
              "color": "#E5ECF6",
              "width": 0.5
             },
             "pattern": {
              "fillmode": "overlay",
              "size": 10,
              "solidity": 0.2
             }
            },
            "type": "bar"
           }
          ],
          "barpolar": [
           {
            "marker": {
             "line": {
              "color": "#E5ECF6",
              "width": 0.5
             },
             "pattern": {
              "fillmode": "overlay",
              "size": 10,
              "solidity": 0.2
             }
            },
            "type": "barpolar"
           }
          ],
          "carpet": [
           {
            "aaxis": {
             "endlinecolor": "#2a3f5f",
             "gridcolor": "white",
             "linecolor": "white",
             "minorgridcolor": "white",
             "startlinecolor": "#2a3f5f"
            },
            "baxis": {
             "endlinecolor": "#2a3f5f",
             "gridcolor": "white",
             "linecolor": "white",
             "minorgridcolor": "white",
             "startlinecolor": "#2a3f5f"
            },
            "type": "carpet"
           }
          ],
          "choropleth": [
           {
            "colorbar": {
             "outlinewidth": 0,
             "ticks": ""
            },
            "type": "choropleth"
           }
          ],
          "contour": [
           {
            "colorbar": {
             "outlinewidth": 0,
             "ticks": ""
            },
            "colorscale": [
             [
              0,
              "#0d0887"
             ],
             [
              0.1111111111111111,
              "#46039f"
             ],
             [
              0.2222222222222222,
              "#7201a8"
             ],
             [
              0.3333333333333333,
              "#9c179e"
             ],
             [
              0.4444444444444444,
              "#bd3786"
             ],
             [
              0.5555555555555556,
              "#d8576b"
             ],
             [
              0.6666666666666666,
              "#ed7953"
             ],
             [
              0.7777777777777778,
              "#fb9f3a"
             ],
             [
              0.8888888888888888,
              "#fdca26"
             ],
             [
              1,
              "#f0f921"
             ]
            ],
            "type": "contour"
           }
          ],
          "contourcarpet": [
           {
            "colorbar": {
             "outlinewidth": 0,
             "ticks": ""
            },
            "type": "contourcarpet"
           }
          ],
          "heatmap": [
           {
            "colorbar": {
             "outlinewidth": 0,
             "ticks": ""
            },
            "colorscale": [
             [
              0,
              "#0d0887"
             ],
             [
              0.1111111111111111,
              "#46039f"
             ],
             [
              0.2222222222222222,
              "#7201a8"
             ],
             [
              0.3333333333333333,
              "#9c179e"
             ],
             [
              0.4444444444444444,
              "#bd3786"
             ],
             [
              0.5555555555555556,
              "#d8576b"
             ],
             [
              0.6666666666666666,
              "#ed7953"
             ],
             [
              0.7777777777777778,
              "#fb9f3a"
             ],
             [
              0.8888888888888888,
              "#fdca26"
             ],
             [
              1,
              "#f0f921"
             ]
            ],
            "type": "heatmap"
           }
          ],
          "histogram": [
           {
            "marker": {
             "pattern": {
              "fillmode": "overlay",
              "size": 10,
              "solidity": 0.2
             }
            },
            "type": "histogram"
           }
          ],
          "histogram2d": [
           {
            "colorbar": {
             "outlinewidth": 0,
             "ticks": ""
            },
            "colorscale": [
             [
              0,
              "#0d0887"
             ],
             [
              0.1111111111111111,
              "#46039f"
             ],
             [
              0.2222222222222222,
              "#7201a8"
             ],
             [
              0.3333333333333333,
              "#9c179e"
             ],
             [
              0.4444444444444444,
              "#bd3786"
             ],
             [
              0.5555555555555556,
              "#d8576b"
             ],
             [
              0.6666666666666666,
              "#ed7953"
             ],
             [
              0.7777777777777778,
              "#fb9f3a"
             ],
             [
              0.8888888888888888,
              "#fdca26"
             ],
             [
              1,
              "#f0f921"
             ]
            ],
            "type": "histogram2d"
           }
          ],
          "histogram2dcontour": [
           {
            "colorbar": {
             "outlinewidth": 0,
             "ticks": ""
            },
            "colorscale": [
             [
              0,
              "#0d0887"
             ],
             [
              0.1111111111111111,
              "#46039f"
             ],
             [
              0.2222222222222222,
              "#7201a8"
             ],
             [
              0.3333333333333333,
              "#9c179e"
             ],
             [
              0.4444444444444444,
              "#bd3786"
             ],
             [
              0.5555555555555556,
              "#d8576b"
             ],
             [
              0.6666666666666666,
              "#ed7953"
             ],
             [
              0.7777777777777778,
              "#fb9f3a"
             ],
             [
              0.8888888888888888,
              "#fdca26"
             ],
             [
              1,
              "#f0f921"
             ]
            ],
            "type": "histogram2dcontour"
           }
          ],
          "mesh3d": [
           {
            "colorbar": {
             "outlinewidth": 0,
             "ticks": ""
            },
            "type": "mesh3d"
           }
          ],
          "parcoords": [
           {
            "line": {
             "colorbar": {
              "outlinewidth": 0,
              "ticks": ""
             }
            },
            "type": "parcoords"
           }
          ],
          "pie": [
           {
            "automargin": true,
            "type": "pie"
           }
          ],
          "scatter": [
           {
            "fillpattern": {
             "fillmode": "overlay",
             "size": 10,
             "solidity": 0.2
            },
            "type": "scatter"
           }
          ],
          "scatter3d": [
           {
            "line": {
             "colorbar": {
              "outlinewidth": 0,
              "ticks": ""
             }
            },
            "marker": {
             "colorbar": {
              "outlinewidth": 0,
              "ticks": ""
             }
            },
            "type": "scatter3d"
           }
          ],
          "scattercarpet": [
           {
            "marker": {
             "colorbar": {
              "outlinewidth": 0,
              "ticks": ""
             }
            },
            "type": "scattercarpet"
           }
          ],
          "scattergeo": [
           {
            "marker": {
             "colorbar": {
              "outlinewidth": 0,
              "ticks": ""
             }
            },
            "type": "scattergeo"
           }
          ],
          "scattergl": [
           {
            "marker": {
             "colorbar": {
              "outlinewidth": 0,
              "ticks": ""
             }
            },
            "type": "scattergl"
           }
          ],
          "scattermap": [
           {
            "marker": {
             "colorbar": {
              "outlinewidth": 0,
              "ticks": ""
             }
            },
            "type": "scattermap"
           }
          ],
          "scattermapbox": [
           {
            "marker": {
             "colorbar": {
              "outlinewidth": 0,
              "ticks": ""
             }
            },
            "type": "scattermapbox"
           }
          ],
          "scatterpolar": [
           {
            "marker": {
             "colorbar": {
              "outlinewidth": 0,
              "ticks": ""
             }
            },
            "type": "scatterpolar"
           }
          ],
          "scatterpolargl": [
           {
            "marker": {
             "colorbar": {
              "outlinewidth": 0,
              "ticks": ""
             }
            },
            "type": "scatterpolargl"
           }
          ],
          "scatterternary": [
           {
            "marker": {
             "colorbar": {
              "outlinewidth": 0,
              "ticks": ""
             }
            },
            "type": "scatterternary"
           }
          ],
          "surface": [
           {
            "colorbar": {
             "outlinewidth": 0,
             "ticks": ""
            },
            "colorscale": [
             [
              0,
              "#0d0887"
             ],
             [
              0.1111111111111111,
              "#46039f"
             ],
             [
              0.2222222222222222,
              "#7201a8"
             ],
             [
              0.3333333333333333,
              "#9c179e"
             ],
             [
              0.4444444444444444,
              "#bd3786"
             ],
             [
              0.5555555555555556,
              "#d8576b"
             ],
             [
              0.6666666666666666,
              "#ed7953"
             ],
             [
              0.7777777777777778,
              "#fb9f3a"
             ],
             [
              0.8888888888888888,
              "#fdca26"
             ],
             [
              1,
              "#f0f921"
             ]
            ],
            "type": "surface"
           }
          ],
          "table": [
           {
            "cells": {
             "fill": {
              "color": "#EBF0F8"
             },
             "line": {
              "color": "white"
             }
            },
            "header": {
             "fill": {
              "color": "#C8D4E3"
             },
             "line": {
              "color": "white"
             }
            },
            "type": "table"
           }
          ]
         },
         "layout": {
          "annotationdefaults": {
           "arrowcolor": "#2a3f5f",
           "arrowhead": 0,
           "arrowwidth": 1
          },
          "autotypenumbers": "strict",
          "coloraxis": {
           "colorbar": {
            "outlinewidth": 0,
            "ticks": ""
           }
          },
          "colorscale": {
           "diverging": [
            [
             0,
             "#8e0152"
            ],
            [
             0.1,
             "#c51b7d"
            ],
            [
             0.2,
             "#de77ae"
            ],
            [
             0.3,
             "#f1b6da"
            ],
            [
             0.4,
             "#fde0ef"
            ],
            [
             0.5,
             "#f7f7f7"
            ],
            [
             0.6,
             "#e6f5d0"
            ],
            [
             0.7,
             "#b8e186"
            ],
            [
             0.8,
             "#7fbc41"
            ],
            [
             0.9,
             "#4d9221"
            ],
            [
             1,
             "#276419"
            ]
           ],
           "sequential": [
            [
             0,
             "#0d0887"
            ],
            [
             0.1111111111111111,
             "#46039f"
            ],
            [
             0.2222222222222222,
             "#7201a8"
            ],
            [
             0.3333333333333333,
             "#9c179e"
            ],
            [
             0.4444444444444444,
             "#bd3786"
            ],
            [
             0.5555555555555556,
             "#d8576b"
            ],
            [
             0.6666666666666666,
             "#ed7953"
            ],
            [
             0.7777777777777778,
             "#fb9f3a"
            ],
            [
             0.8888888888888888,
             "#fdca26"
            ],
            [
             1,
             "#f0f921"
            ]
           ],
           "sequentialminus": [
            [
             0,
             "#0d0887"
            ],
            [
             0.1111111111111111,
             "#46039f"
            ],
            [
             0.2222222222222222,
             "#7201a8"
            ],
            [
             0.3333333333333333,
             "#9c179e"
            ],
            [
             0.4444444444444444,
             "#bd3786"
            ],
            [
             0.5555555555555556,
             "#d8576b"
            ],
            [
             0.6666666666666666,
             "#ed7953"
            ],
            [
             0.7777777777777778,
             "#fb9f3a"
            ],
            [
             0.8888888888888888,
             "#fdca26"
            ],
            [
             1,
             "#f0f921"
            ]
           ]
          },
          "colorway": [
           "#636efa",
           "#EF553B",
           "#00cc96",
           "#ab63fa",
           "#FFA15A",
           "#19d3f3",
           "#FF6692",
           "#B6E880",
           "#FF97FF",
           "#FECB52"
          ],
          "font": {
           "color": "#2a3f5f"
          },
          "geo": {
           "bgcolor": "white",
           "lakecolor": "white",
           "landcolor": "#E5ECF6",
           "showlakes": true,
           "showland": true,
           "subunitcolor": "white"
          },
          "hoverlabel": {
           "align": "left"
          },
          "hovermode": "closest",
          "mapbox": {
           "style": "light"
          },
          "paper_bgcolor": "white",
          "plot_bgcolor": "#E5ECF6",
          "polar": {
           "angularaxis": {
            "gridcolor": "white",
            "linecolor": "white",
            "ticks": ""
           },
           "bgcolor": "#E5ECF6",
           "radialaxis": {
            "gridcolor": "white",
            "linecolor": "white",
            "ticks": ""
           }
          },
          "scene": {
           "xaxis": {
            "backgroundcolor": "#E5ECF6",
            "gridcolor": "white",
            "gridwidth": 2,
            "linecolor": "white",
            "showbackground": true,
            "ticks": "",
            "zerolinecolor": "white"
           },
           "yaxis": {
            "backgroundcolor": "#E5ECF6",
            "gridcolor": "white",
            "gridwidth": 2,
            "linecolor": "white",
            "showbackground": true,
            "ticks": "",
            "zerolinecolor": "white"
           },
           "zaxis": {
            "backgroundcolor": "#E5ECF6",
            "gridcolor": "white",
            "gridwidth": 2,
            "linecolor": "white",
            "showbackground": true,
            "ticks": "",
            "zerolinecolor": "white"
           }
          },
          "shapedefaults": {
           "line": {
            "color": "#2a3f5f"
           }
          },
          "ternary": {
           "aaxis": {
            "gridcolor": "white",
            "linecolor": "white",
            "ticks": ""
           },
           "baxis": {
            "gridcolor": "white",
            "linecolor": "white",
            "ticks": ""
           },
           "bgcolor": "#E5ECF6",
           "caxis": {
            "gridcolor": "white",
            "linecolor": "white",
            "ticks": ""
           }
          },
          "title": {
           "x": 0.05
          },
          "xaxis": {
           "automargin": true,
           "gridcolor": "white",
           "linecolor": "white",
           "ticks": "",
           "title": {
            "standoff": 15
           },
           "zerolinecolor": "white",
           "zerolinewidth": 2
          },
          "yaxis": {
           "automargin": true,
           "gridcolor": "white",
           "linecolor": "white",
           "ticks": "",
           "title": {
            "standoff": 15
           },
           "zerolinecolor": "white",
           "zerolinewidth": 2
          }
         }
        },
        "title": {
         "text": "Andel brott per kategori över tid"
        },
        "xaxis": {
         "anchor": "y",
         "domain": [
          0,
          1
         ],
         "title": {
          "text": "År"
         }
        },
        "yaxis": {
         "anchor": "x",
         "domain": [
          0,
          1
         ],
         "title": {
          "text": "Andel"
         }
        }
       }
      }
     },
     "metadata": {},
     "output_type": "display_data"
    }
   ],
   "source": [
    "# Definiera brottskategorier\n",
    "violent_crimes = ['murder', 'assault', 'rape', 'sexual.offenses']\n",
    "theft_crimes = ['burglary', 'vehicle.theft', 'shop.theft', 'stealing.general', 'out.of.vehicle.theft', 'robbery']\n",
    "vandal_crimes = ['criminal.damage']\n",
    "alc_and_drug_crimes = ['narcotics', 'drunk.driving']\n",
    "economic_crimes = ['fraud']\n",
    "\n",
    "# Skapa nya kolumner med summor per kategori\n",
    "df['Violent'] = df[violent_crimes].sum(axis=1)\n",
    "df['Theft'] = df[theft_crimes].sum(axis=1)\n",
    "df['Vandal'] = df[vandal_crimes].sum(axis=1)\n",
    "df['Alc/Drug'] = df[alc_and_drug_crimes].sum(axis=1)\n",
    "df['Economic'] = df[economic_crimes].sum(axis=1)\n",
    "\n",
    "\n",
    "# Om du vill visa andel istället för absolut antal\n",
    "df['Total_categorized'] = df['Violent'] + df['Theft'] + df['Economic'] + df['Vandal'] + df['Alc/Drug']\n",
    "df['Violent_share'] = df['Violent'] / df['Total_categorized']\n",
    "df['Theft_share'] = df['Theft'] / df['Total_categorized']\n",
    "df['Economic_share'] = df['Economic'] / df['Total_categorized']\n",
    "df['Vandal_share'] = df['Vandal'] / df['Total_categorized']\n",
    "df['Alc_Drug_share'] = df['Alc/Drug'] / df['Total_categorized']\n",
    "\n",
    "# Skapa ett \"long format\" för Plotly\n",
    "df_long = df.melt(\n",
    "    id_vars=['Year'],\n",
    "    value_vars=['Violent_share', 'Theft_share', 'Economic_share', 'Vandal_share', 'Alc_Drug_share'],\n",
    "    var_name='Category',\n",
    "    value_name='Share'\n",
    ")\n",
    "\n",
    "# Byt namn för snyggare labels\n",
    "df_long['Category'] = df_long['Category'].replace({\n",
    "    'Violent_share': 'Våldsbrott',\n",
    "    'Theft_share': 'Stöldbrott',\n",
    "    'Economic_share': 'Ekonomiska brott',\n",
    "    'Vandal_share': 'Vandalisering',\n",
    "    'Alc_Drug_share': 'Under influenser'\n",
    "})\n",
    "\n",
    "# Plotta med Plotly\n",
    "fig = px.area(\n",
    "    df_long,\n",
    "    x='Year',\n",
    "    y='Share',\n",
    "    color='Category',\n",
    "    title='Andel brott per kategori över tid',\n",
    "    labels={'Share':'Andel', 'Year':'År'}\n",
    ")\n",
    "\n",
    "fig.show()\n"
   ]
  },
  {
   "cell_type": "code",
   "execution_count": 55,
   "id": "f8d32ded",
   "metadata": {},
   "outputs": [
    {
     "data": {
      "application/vnd.plotly.v1+json": {
       "config": {
        "plotlyServerURL": "https://plot.ly"
       },
       "data": [
        {
         "domain": {
          "x": [
           0,
           1
          ],
          "y": [
           0,
           1
          ]
         },
         "hovertemplate": "label=%{label}<br>value=%{value}<extra></extra>",
         "labels": [
          "Våldsbrott",
          "Stöldbrott",
          "Ekonomiska brott",
          "Vandalisering",
          "Under influenser"
         ],
         "legendgroup": "",
         "name": "",
         "showlegend": true,
         "type": "pie",
         "values": {
          "bdata": "AAAAAAC0kUAAAAAAALvBQAAAAAAAqJBAAAAAAACGoEAAAAAAAISSQA==",
          "dtype": "f8"
         }
        }
       ],
       "layout": {
        "legend": {
         "tracegroupgap": 0
        },
        "template": {
         "data": {
          "bar": [
           {
            "error_x": {
             "color": "#2a3f5f"
            },
            "error_y": {
             "color": "#2a3f5f"
            },
            "marker": {
             "line": {
              "color": "#E5ECF6",
              "width": 0.5
             },
             "pattern": {
              "fillmode": "overlay",
              "size": 10,
              "solidity": 0.2
             }
            },
            "type": "bar"
           }
          ],
          "barpolar": [
           {
            "marker": {
             "line": {
              "color": "#E5ECF6",
              "width": 0.5
             },
             "pattern": {
              "fillmode": "overlay",
              "size": 10,
              "solidity": 0.2
             }
            },
            "type": "barpolar"
           }
          ],
          "carpet": [
           {
            "aaxis": {
             "endlinecolor": "#2a3f5f",
             "gridcolor": "white",
             "linecolor": "white",
             "minorgridcolor": "white",
             "startlinecolor": "#2a3f5f"
            },
            "baxis": {
             "endlinecolor": "#2a3f5f",
             "gridcolor": "white",
             "linecolor": "white",
             "minorgridcolor": "white",
             "startlinecolor": "#2a3f5f"
            },
            "type": "carpet"
           }
          ],
          "choropleth": [
           {
            "colorbar": {
             "outlinewidth": 0,
             "ticks": ""
            },
            "type": "choropleth"
           }
          ],
          "contour": [
           {
            "colorbar": {
             "outlinewidth": 0,
             "ticks": ""
            },
            "colorscale": [
             [
              0,
              "#0d0887"
             ],
             [
              0.1111111111111111,
              "#46039f"
             ],
             [
              0.2222222222222222,
              "#7201a8"
             ],
             [
              0.3333333333333333,
              "#9c179e"
             ],
             [
              0.4444444444444444,
              "#bd3786"
             ],
             [
              0.5555555555555556,
              "#d8576b"
             ],
             [
              0.6666666666666666,
              "#ed7953"
             ],
             [
              0.7777777777777778,
              "#fb9f3a"
             ],
             [
              0.8888888888888888,
              "#fdca26"
             ],
             [
              1,
              "#f0f921"
             ]
            ],
            "type": "contour"
           }
          ],
          "contourcarpet": [
           {
            "colorbar": {
             "outlinewidth": 0,
             "ticks": ""
            },
            "type": "contourcarpet"
           }
          ],
          "heatmap": [
           {
            "colorbar": {
             "outlinewidth": 0,
             "ticks": ""
            },
            "colorscale": [
             [
              0,
              "#0d0887"
             ],
             [
              0.1111111111111111,
              "#46039f"
             ],
             [
              0.2222222222222222,
              "#7201a8"
             ],
             [
              0.3333333333333333,
              "#9c179e"
             ],
             [
              0.4444444444444444,
              "#bd3786"
             ],
             [
              0.5555555555555556,
              "#d8576b"
             ],
             [
              0.6666666666666666,
              "#ed7953"
             ],
             [
              0.7777777777777778,
              "#fb9f3a"
             ],
             [
              0.8888888888888888,
              "#fdca26"
             ],
             [
              1,
              "#f0f921"
             ]
            ],
            "type": "heatmap"
           }
          ],
          "histogram": [
           {
            "marker": {
             "pattern": {
              "fillmode": "overlay",
              "size": 10,
              "solidity": 0.2
             }
            },
            "type": "histogram"
           }
          ],
          "histogram2d": [
           {
            "colorbar": {
             "outlinewidth": 0,
             "ticks": ""
            },
            "colorscale": [
             [
              0,
              "#0d0887"
             ],
             [
              0.1111111111111111,
              "#46039f"
             ],
             [
              0.2222222222222222,
              "#7201a8"
             ],
             [
              0.3333333333333333,
              "#9c179e"
             ],
             [
              0.4444444444444444,
              "#bd3786"
             ],
             [
              0.5555555555555556,
              "#d8576b"
             ],
             [
              0.6666666666666666,
              "#ed7953"
             ],
             [
              0.7777777777777778,
              "#fb9f3a"
             ],
             [
              0.8888888888888888,
              "#fdca26"
             ],
             [
              1,
              "#f0f921"
             ]
            ],
            "type": "histogram2d"
           }
          ],
          "histogram2dcontour": [
           {
            "colorbar": {
             "outlinewidth": 0,
             "ticks": ""
            },
            "colorscale": [
             [
              0,
              "#0d0887"
             ],
             [
              0.1111111111111111,
              "#46039f"
             ],
             [
              0.2222222222222222,
              "#7201a8"
             ],
             [
              0.3333333333333333,
              "#9c179e"
             ],
             [
              0.4444444444444444,
              "#bd3786"
             ],
             [
              0.5555555555555556,
              "#d8576b"
             ],
             [
              0.6666666666666666,
              "#ed7953"
             ],
             [
              0.7777777777777778,
              "#fb9f3a"
             ],
             [
              0.8888888888888888,
              "#fdca26"
             ],
             [
              1,
              "#f0f921"
             ]
            ],
            "type": "histogram2dcontour"
           }
          ],
          "mesh3d": [
           {
            "colorbar": {
             "outlinewidth": 0,
             "ticks": ""
            },
            "type": "mesh3d"
           }
          ],
          "parcoords": [
           {
            "line": {
             "colorbar": {
              "outlinewidth": 0,
              "ticks": ""
             }
            },
            "type": "parcoords"
           }
          ],
          "pie": [
           {
            "automargin": true,
            "type": "pie"
           }
          ],
          "scatter": [
           {
            "fillpattern": {
             "fillmode": "overlay",
             "size": 10,
             "solidity": 0.2
            },
            "type": "scatter"
           }
          ],
          "scatter3d": [
           {
            "line": {
             "colorbar": {
              "outlinewidth": 0,
              "ticks": ""
             }
            },
            "marker": {
             "colorbar": {
              "outlinewidth": 0,
              "ticks": ""
             }
            },
            "type": "scatter3d"
           }
          ],
          "scattercarpet": [
           {
            "marker": {
             "colorbar": {
              "outlinewidth": 0,
              "ticks": ""
             }
            },
            "type": "scattercarpet"
           }
          ],
          "scattergeo": [
           {
            "marker": {
             "colorbar": {
              "outlinewidth": 0,
              "ticks": ""
             }
            },
            "type": "scattergeo"
           }
          ],
          "scattergl": [
           {
            "marker": {
             "colorbar": {
              "outlinewidth": 0,
              "ticks": ""
             }
            },
            "type": "scattergl"
           }
          ],
          "scattermap": [
           {
            "marker": {
             "colorbar": {
              "outlinewidth": 0,
              "ticks": ""
             }
            },
            "type": "scattermap"
           }
          ],
          "scattermapbox": [
           {
            "marker": {
             "colorbar": {
              "outlinewidth": 0,
              "ticks": ""
             }
            },
            "type": "scattermapbox"
           }
          ],
          "scatterpolar": [
           {
            "marker": {
             "colorbar": {
              "outlinewidth": 0,
              "ticks": ""
             }
            },
            "type": "scatterpolar"
           }
          ],
          "scatterpolargl": [
           {
            "marker": {
             "colorbar": {
              "outlinewidth": 0,
              "ticks": ""
             }
            },
            "type": "scatterpolargl"
           }
          ],
          "scatterternary": [
           {
            "marker": {
             "colorbar": {
              "outlinewidth": 0,
              "ticks": ""
             }
            },
            "type": "scatterternary"
           }
          ],
          "surface": [
           {
            "colorbar": {
             "outlinewidth": 0,
             "ticks": ""
            },
            "colorscale": [
             [
              0,
              "#0d0887"
             ],
             [
              0.1111111111111111,
              "#46039f"
             ],
             [
              0.2222222222222222,
              "#7201a8"
             ],
             [
              0.3333333333333333,
              "#9c179e"
             ],
             [
              0.4444444444444444,
              "#bd3786"
             ],
             [
              0.5555555555555556,
              "#d8576b"
             ],
             [
              0.6666666666666666,
              "#ed7953"
             ],
             [
              0.7777777777777778,
              "#fb9f3a"
             ],
             [
              0.8888888888888888,
              "#fdca26"
             ],
             [
              1,
              "#f0f921"
             ]
            ],
            "type": "surface"
           }
          ],
          "table": [
           {
            "cells": {
             "fill": {
              "color": "#EBF0F8"
             },
             "line": {
              "color": "white"
             }
            },
            "header": {
             "fill": {
              "color": "#C8D4E3"
             },
             "line": {
              "color": "white"
             }
            },
            "type": "table"
           }
          ]
         },
         "layout": {
          "annotationdefaults": {
           "arrowcolor": "#2a3f5f",
           "arrowhead": 0,
           "arrowwidth": 1
          },
          "autotypenumbers": "strict",
          "coloraxis": {
           "colorbar": {
            "outlinewidth": 0,
            "ticks": ""
           }
          },
          "colorscale": {
           "diverging": [
            [
             0,
             "#8e0152"
            ],
            [
             0.1,
             "#c51b7d"
            ],
            [
             0.2,
             "#de77ae"
            ],
            [
             0.3,
             "#f1b6da"
            ],
            [
             0.4,
             "#fde0ef"
            ],
            [
             0.5,
             "#f7f7f7"
            ],
            [
             0.6,
             "#e6f5d0"
            ],
            [
             0.7,
             "#b8e186"
            ],
            [
             0.8,
             "#7fbc41"
            ],
            [
             0.9,
             "#4d9221"
            ],
            [
             1,
             "#276419"
            ]
           ],
           "sequential": [
            [
             0,
             "#0d0887"
            ],
            [
             0.1111111111111111,
             "#46039f"
            ],
            [
             0.2222222222222222,
             "#7201a8"
            ],
            [
             0.3333333333333333,
             "#9c179e"
            ],
            [
             0.4444444444444444,
             "#bd3786"
            ],
            [
             0.5555555555555556,
             "#d8576b"
            ],
            [
             0.6666666666666666,
             "#ed7953"
            ],
            [
             0.7777777777777778,
             "#fb9f3a"
            ],
            [
             0.8888888888888888,
             "#fdca26"
            ],
            [
             1,
             "#f0f921"
            ]
           ],
           "sequentialminus": [
            [
             0,
             "#0d0887"
            ],
            [
             0.1111111111111111,
             "#46039f"
            ],
            [
             0.2222222222222222,
             "#7201a8"
            ],
            [
             0.3333333333333333,
             "#9c179e"
            ],
            [
             0.4444444444444444,
             "#bd3786"
            ],
            [
             0.5555555555555556,
             "#d8576b"
            ],
            [
             0.6666666666666666,
             "#ed7953"
            ],
            [
             0.7777777777777778,
             "#fb9f3a"
            ],
            [
             0.8888888888888888,
             "#fdca26"
            ],
            [
             1,
             "#f0f921"
            ]
           ]
          },
          "colorway": [
           "#636efa",
           "#EF553B",
           "#00cc96",
           "#ab63fa",
           "#FFA15A",
           "#19d3f3",
           "#FF6692",
           "#B6E880",
           "#FF97FF",
           "#FECB52"
          ],
          "font": {
           "color": "#2a3f5f"
          },
          "geo": {
           "bgcolor": "white",
           "lakecolor": "white",
           "landcolor": "#E5ECF6",
           "showlakes": true,
           "showland": true,
           "subunitcolor": "white"
          },
          "hoverlabel": {
           "align": "left"
          },
          "hovermode": "closest",
          "mapbox": {
           "style": "light"
          },
          "paper_bgcolor": "white",
          "plot_bgcolor": "#E5ECF6",
          "polar": {
           "angularaxis": {
            "gridcolor": "white",
            "linecolor": "white",
            "ticks": ""
           },
           "bgcolor": "#E5ECF6",
           "radialaxis": {
            "gridcolor": "white",
            "linecolor": "white",
            "ticks": ""
           }
          },
          "scene": {
           "xaxis": {
            "backgroundcolor": "#E5ECF6",
            "gridcolor": "white",
            "gridwidth": 2,
            "linecolor": "white",
            "showbackground": true,
            "ticks": "",
            "zerolinecolor": "white"
           },
           "yaxis": {
            "backgroundcolor": "#E5ECF6",
            "gridcolor": "white",
            "gridwidth": 2,
            "linecolor": "white",
            "showbackground": true,
            "ticks": "",
            "zerolinecolor": "white"
           },
           "zaxis": {
            "backgroundcolor": "#E5ECF6",
            "gridcolor": "white",
            "gridwidth": 2,
            "linecolor": "white",
            "showbackground": true,
            "ticks": "",
            "zerolinecolor": "white"
           }
          },
          "shapedefaults": {
           "line": {
            "color": "#2a3f5f"
           }
          },
          "ternary": {
           "aaxis": {
            "gridcolor": "white",
            "linecolor": "white",
            "ticks": ""
           },
           "baxis": {
            "gridcolor": "white",
            "linecolor": "white",
            "ticks": ""
           },
           "bgcolor": "#E5ECF6",
           "caxis": {
            "gridcolor": "white",
            "linecolor": "white",
            "ticks": ""
           }
          },
          "title": {
           "x": 0.05
          },
          "xaxis": {
           "automargin": true,
           "gridcolor": "white",
           "linecolor": "white",
           "ticks": "",
           "title": {
            "standoff": 15
           },
           "zerolinecolor": "white",
           "zerolinewidth": 2
          },
          "yaxis": {
           "automargin": true,
           "gridcolor": "white",
           "linecolor": "white",
           "ticks": "",
           "title": {
            "standoff": 15
           },
           "zerolinecolor": "white",
           "zerolinewidth": 2
          }
         }
        },
        "title": {
         "text": "Brottsandelar år 2008"
        }
       }
      }
     },
     "metadata": {},
     "output_type": "display_data"
    }
   ],
   "source": [
    "year = 2008\n",
    "row = df[df['Year'] == year]\n",
    "\n",
    "# Välj kategorier och värden\n",
    "categories = ['Våldsbrott', 'Stöldbrott', 'Ekonomiska brott', 'Vandalisering', 'Under influenser']\n",
    "values = [\n",
    "    row['Violent'].values[0],\n",
    "    row['Theft'].values[0],\n",
    "    row['Economic'].values[0],\n",
    "    row['Vandal'].values[0],\n",
    "    row['Alc/Drug'].values[0]\n",
    "]\n",
    "\n",
    "fig = px.pie(\n",
    "    names=categories,\n",
    "    values=values,\n",
    "    title=f'Brottsandelar år {year}'\n",
    ")\n",
    "\n",
    "fig.show()"
   ]
  }
 ],
 "metadata": {
  "kernelspec": {
   "display_name": "myenv (3.12.0)",
   "language": "python",
   "name": "python3"
  },
  "language_info": {
   "codemirror_mode": {
    "name": "ipython",
    "version": 3
   },
   "file_extension": ".py",
   "mimetype": "text/x-python",
   "name": "python",
   "nbconvert_exporter": "python",
   "pygments_lexer": "ipython3",
   "version": "3.12.0"
  }
 },
 "nbformat": 4,
 "nbformat_minor": 5
}
